{
 "cells": [
  {
   "cell_type": "markdown",
   "metadata": {},
   "source": [
    "# CAPSTONE PROJECT -<span style=\"font-size: 38px; color: turquoise; font-weight: bold;\">CREDIT CARD APPROVAL PREDICTION </span> BY <span style=\"font-size: 38px; color: teal; font-weight: bold;\">PRATHMESH BHIMRAJ BHUKELE "
   ]
  },
  {
   "cell_type": "markdown",
   "metadata": {},
   "source": [
    "#### This new approach powered by machine learning ensures that loans are given to trustworthy individuals, minimizing the chance of financial losses for banks. It not only analyzes applicant data deeply but also streamlines processes, saving time and reducing costs. By automating tasks, it enhances efficiency, benefitting both banks and customers. This approach not only revolutionizes credit assessment but also gives a competitive edge by offering favorable terms to low-risk borrowers, making banking more reliable and efficient for everyone involved."
   ]
  },
  {
   "cell_type": "markdown",
   "metadata": {},
   "source": [
    "# <span style=\"font-size: 25px; color: maroon; font-weight: bold;\">Questions </span>\n",
    "<span style=\"font-size: medium; color: Maroon; font-weight: bold;\">1. Why is your proposal important in today's world? How predicting a good client is worthy for a bank?<span>\n",
    "\n",
    "<span style=\"font-size: medium; color: orange;\">Predicting good clients in credit card loan approvals is like having a financial compass for a bank. It's crucial because it helps keep the financial ship steady by minimizing the risk of loans not being repaid and avoiding troublesome assets. This not only makes operations smoother but also ensures the bank plays by the rules and stays ahead of the competition, keeping customers happy and loyal. Accurate credit assessments act like a guide, helping the bank make smart decisions based on real data, contributing to fair access to financial services and even helping spot potential fraud early on. In simple terms, it's a key ingredient for the bank's success, keeping everything in balance.\n",
    "\n",
    "<span style=\"font-size: medium; color: Maroon; font-weight: bold;\">2. How is it going to Impact the banking sector?\n",
    "\n",
    "<span style=\"font-size: medium; color: Orange;\">Commercial banks receive a lot of applications for credit cards. Many of them get rejected for many reasons, like high loan balances, low-income levels, or too many inquiries on an individual’s credit report. Manually analyzing these applications is error-prone and time-consuming. Fortunately, this task can be automated with the power of machine learning, and pretty much every commercial bank does so nowadays.\n",
    "\n",
    "<span style=\"font-size: medium; color: Maroon; font-weight: bold;\">3. If any, what is the gap in the knowledge or how your proposed method can be helpful if required in future for any bank in India\n",
    "\n",
    "<span style=\"font-size: medium; color: Orange;\">The proposed method addresses & offers a faster, more accurate, and unbiased alternative to conventional approaches. Machine learning enables efficient handling of large datasets, ensuring consistent and precise decision-making. This approach enhances risk management and adapts to changing market conditions, ultimately improving the overall customer experience.\n",
    "\n",
    "\n",
    "# <span style=\"font-size: 25px; color: maroon; font-weight: bold;\">Data Analysis Approach </span>\n",
    "<span style=\"font-size: 20px; color: turquoise;\">Hypothesis:\n",
    "1. We hypothesize that specific demographic factors such as age, gender, education level, and income exhibit patterns that correlate with credit card approval decisions.\n",
    "2. Features like annual income, age, and employment duration are expected to be crucial in determining creditworthiness. Gender and marital status may also play a role. However, more detailed information on credit scores, previous credit history, and other financial indicators could enhance the analysis.\n",
    "3. The presence of missing values in columns like education and occupation may impact the analysis, and addressing them through imputation or removal is necessary.\n",
    "\n",
    "# <span style=\"font-size: 25px; color: maroon; font-weight: bold;\">Machine Learning (ML) Approach\n",
    "<span style=\"font-size: 20px; color: turquoise;\">Hypothesis:\n",
    "1. In the ML track, we hypothesize that machine learning models trained on the dataset will outperform traditional rule-based approaches in predicting credit card approval decisions.\n",
    "2. Features such as annual income, age, and education level are anticipated to be significant predictors of credit card approval. Other factors like gender and employment duration may also contribute to the model's predictive power.\n",
    "3. The Random Forest model, with its ability to capture complex relationships and handle non-linearities, is expected to outperform other models like logistic regression and decision trees in terms of accuracy and generalization.\n",
    "\n",
    "# <span style=\"font-size: 25px; color: maroon; font-weight: bold;\">Justification:\n",
    "1. For model evaluation, I employed relevant cost functions such as accuracy, confusion matrix, and F1-score to assess predictive capability and minimize misclassifications.\n",
    "2. Cross-validation techniques were implemented to ensure the robustness of our models, assessing their performance on unseen data and avoiding overfitting.\n",
    "3. Feature importance analysis, using techniques like feature importance plots provided by tree-based models, was conducted to understand the impact of different features on predicting credit card approval"
   ]
  },
  {
   "cell_type": "markdown",
   "metadata": {},
   "source": [
    "# <span style=\"font-size: 35px; color: maroon; font-weight: bold;\">Data Understanding & Preparation</span>"
   ]
  },
  {
   "cell_type": "code",
   "execution_count": 1,
   "metadata": {},
   "outputs": [],
   "source": [
    "# Import all the necessary libraries\n",
    "import pandas as pd\n",
    "import numpy as np\n",
    "import matplotlib.pyplot as plt\n",
    "import seaborn as sns\n",
    "from sklearn.model_selection import train_test_split\n",
    "from sklearn.preprocessing import StandardScaler, LabelEncoder\n",
    "from sklearn.ensemble import RandomForestClassifier\n",
    "from sklearn.metrics import accuracy_score, precision_score, recall_score, f1_score, confusion_matrix\n",
    "from sklearn.impute import SimpleImputer"
   ]
  },
  {
   "cell_type": "markdown",
   "metadata": {},
   "source": [
    "## <span style=\"font-size: 25px; color: skyblue; font-weight: bold;\">Loading Both the data sets and merging them based on column \"Ind_ID\"</span>"
   ]
  },
  {
   "cell_type": "code",
   "execution_count": 2,
   "metadata": {},
   "outputs": [],
   "source": [
    "# Load the dataset\n",
    "Credit_card = pd.read_csv('Credit_card.csv')\n",
    "Credit_card_label = pd.read_csv('Credit_card_label.csv')"
   ]
  },
  {
   "cell_type": "code",
   "execution_count": 3,
   "metadata": {},
   "outputs": [],
   "source": [
    "# Assuming 'Ind_ID' is the common column between the two tables\n",
    "merged_data = pd.merge(Credit_card, Credit_card_label, left_on='Ind_ID', right_on='Ind_ID')"
   ]
  },
  {
   "cell_type": "code",
   "execution_count": 4,
   "metadata": {},
   "outputs": [],
   "source": [
    "# creating a new table merged_data.csv \n",
    "merged_data.to_csv(\"merged_data.csv\",index=False)"
   ]
  },
  {
   "cell_type": "code",
   "execution_count": 5,
   "metadata": {},
   "outputs": [],
   "source": [
    "merged_data = pd.read_csv(\"merged_data.csv\")"
   ]
  },
  {
   "cell_type": "markdown",
   "metadata": {},
   "source": [
    "## <span style=\"font-size: 25px; color: skyblue; font-weight: bold;\">Analysing Data</span>"
   ]
  },
  {
   "cell_type": "code",
   "execution_count": 6,
   "metadata": {},
   "outputs": [
    {
     "data": {
      "text/html": [
       "<div>\n",
       "<style scoped>\n",
       "    .dataframe tbody tr th:only-of-type {\n",
       "        vertical-align: middle;\n",
       "    }\n",
       "\n",
       "    .dataframe tbody tr th {\n",
       "        vertical-align: top;\n",
       "    }\n",
       "\n",
       "    .dataframe thead th {\n",
       "        text-align: right;\n",
       "    }\n",
       "</style>\n",
       "<table border=\"1\" class=\"dataframe\">\n",
       "  <thead>\n",
       "    <tr style=\"text-align: right;\">\n",
       "      <th></th>\n",
       "      <th>Ind_ID</th>\n",
       "      <th>GENDER</th>\n",
       "      <th>Car_Owner</th>\n",
       "      <th>Propert_Owner</th>\n",
       "      <th>CHILDREN</th>\n",
       "      <th>Annual_income</th>\n",
       "      <th>Type_Income</th>\n",
       "      <th>EDUCATION</th>\n",
       "      <th>Marital_status</th>\n",
       "      <th>Housing_type</th>\n",
       "      <th>Birthday_count</th>\n",
       "      <th>Employed_days</th>\n",
       "      <th>Mobile_phone</th>\n",
       "      <th>Work_Phone</th>\n",
       "      <th>Phone</th>\n",
       "      <th>EMAIL_ID</th>\n",
       "      <th>Type_Occupation</th>\n",
       "      <th>Family_Members</th>\n",
       "      <th>label</th>\n",
       "    </tr>\n",
       "  </thead>\n",
       "  <tbody>\n",
       "    <tr>\n",
       "      <th>0</th>\n",
       "      <td>5008827</td>\n",
       "      <td>M</td>\n",
       "      <td>Y</td>\n",
       "      <td>Y</td>\n",
       "      <td>0</td>\n",
       "      <td>180000.0</td>\n",
       "      <td>Pensioner</td>\n",
       "      <td>Higher education</td>\n",
       "      <td>Married</td>\n",
       "      <td>House / apartment</td>\n",
       "      <td>-18772.0</td>\n",
       "      <td>365243</td>\n",
       "      <td>1</td>\n",
       "      <td>0</td>\n",
       "      <td>0</td>\n",
       "      <td>0</td>\n",
       "      <td>NaN</td>\n",
       "      <td>2</td>\n",
       "      <td>1</td>\n",
       "    </tr>\n",
       "    <tr>\n",
       "      <th>1</th>\n",
       "      <td>5009744</td>\n",
       "      <td>F</td>\n",
       "      <td>Y</td>\n",
       "      <td>N</td>\n",
       "      <td>0</td>\n",
       "      <td>315000.0</td>\n",
       "      <td>Commercial associate</td>\n",
       "      <td>Higher education</td>\n",
       "      <td>Married</td>\n",
       "      <td>House / apartment</td>\n",
       "      <td>-13557.0</td>\n",
       "      <td>-586</td>\n",
       "      <td>1</td>\n",
       "      <td>1</td>\n",
       "      <td>1</td>\n",
       "      <td>0</td>\n",
       "      <td>NaN</td>\n",
       "      <td>2</td>\n",
       "      <td>1</td>\n",
       "    </tr>\n",
       "    <tr>\n",
       "      <th>2</th>\n",
       "      <td>5009746</td>\n",
       "      <td>F</td>\n",
       "      <td>Y</td>\n",
       "      <td>N</td>\n",
       "      <td>0</td>\n",
       "      <td>315000.0</td>\n",
       "      <td>Commercial associate</td>\n",
       "      <td>Higher education</td>\n",
       "      <td>Married</td>\n",
       "      <td>House / apartment</td>\n",
       "      <td>NaN</td>\n",
       "      <td>-586</td>\n",
       "      <td>1</td>\n",
       "      <td>1</td>\n",
       "      <td>1</td>\n",
       "      <td>0</td>\n",
       "      <td>NaN</td>\n",
       "      <td>2</td>\n",
       "      <td>1</td>\n",
       "    </tr>\n",
       "    <tr>\n",
       "      <th>3</th>\n",
       "      <td>5009749</td>\n",
       "      <td>F</td>\n",
       "      <td>Y</td>\n",
       "      <td>N</td>\n",
       "      <td>0</td>\n",
       "      <td>NaN</td>\n",
       "      <td>Commercial associate</td>\n",
       "      <td>Higher education</td>\n",
       "      <td>Married</td>\n",
       "      <td>House / apartment</td>\n",
       "      <td>-13557.0</td>\n",
       "      <td>-586</td>\n",
       "      <td>1</td>\n",
       "      <td>1</td>\n",
       "      <td>1</td>\n",
       "      <td>0</td>\n",
       "      <td>NaN</td>\n",
       "      <td>2</td>\n",
       "      <td>1</td>\n",
       "    </tr>\n",
       "    <tr>\n",
       "      <th>4</th>\n",
       "      <td>5009752</td>\n",
       "      <td>F</td>\n",
       "      <td>Y</td>\n",
       "      <td>N</td>\n",
       "      <td>0</td>\n",
       "      <td>315000.0</td>\n",
       "      <td>Commercial associate</td>\n",
       "      <td>Higher education</td>\n",
       "      <td>Married</td>\n",
       "      <td>House / apartment</td>\n",
       "      <td>-13557.0</td>\n",
       "      <td>-586</td>\n",
       "      <td>1</td>\n",
       "      <td>1</td>\n",
       "      <td>1</td>\n",
       "      <td>0</td>\n",
       "      <td>NaN</td>\n",
       "      <td>2</td>\n",
       "      <td>1</td>\n",
       "    </tr>\n",
       "  </tbody>\n",
       "</table>\n",
       "</div>"
      ],
      "text/plain": [
       "    Ind_ID GENDER Car_Owner Propert_Owner  CHILDREN  Annual_income  \\\n",
       "0  5008827      M         Y             Y         0       180000.0   \n",
       "1  5009744      F         Y             N         0       315000.0   \n",
       "2  5009746      F         Y             N         0       315000.0   \n",
       "3  5009749      F         Y             N         0            NaN   \n",
       "4  5009752      F         Y             N         0       315000.0   \n",
       "\n",
       "            Type_Income         EDUCATION Marital_status       Housing_type  \\\n",
       "0             Pensioner  Higher education        Married  House / apartment   \n",
       "1  Commercial associate  Higher education        Married  House / apartment   \n",
       "2  Commercial associate  Higher education        Married  House / apartment   \n",
       "3  Commercial associate  Higher education        Married  House / apartment   \n",
       "4  Commercial associate  Higher education        Married  House / apartment   \n",
       "\n",
       "   Birthday_count  Employed_days  Mobile_phone  Work_Phone  Phone  EMAIL_ID  \\\n",
       "0        -18772.0         365243             1           0      0         0   \n",
       "1        -13557.0           -586             1           1      1         0   \n",
       "2             NaN           -586             1           1      1         0   \n",
       "3        -13557.0           -586             1           1      1         0   \n",
       "4        -13557.0           -586             1           1      1         0   \n",
       "\n",
       "  Type_Occupation  Family_Members  label  \n",
       "0             NaN               2      1  \n",
       "1             NaN               2      1  \n",
       "2             NaN               2      1  \n",
       "3             NaN               2      1  \n",
       "4             NaN               2      1  "
      ]
     },
     "execution_count": 6,
     "metadata": {},
     "output_type": "execute_result"
    }
   ],
   "source": [
    "merged_data.head()"
   ]
  },
  {
   "cell_type": "code",
   "execution_count": 7,
   "metadata": {},
   "outputs": [
    {
     "name": "stdout",
     "output_type": "stream",
     "text": [
      "<class 'pandas.core.frame.DataFrame'>\n",
      "RangeIndex: 1548 entries, 0 to 1547\n",
      "Data columns (total 19 columns):\n",
      " #   Column           Non-Null Count  Dtype  \n",
      "---  ------           --------------  -----  \n",
      " 0   Ind_ID           1548 non-null   int64  \n",
      " 1   GENDER           1541 non-null   object \n",
      " 2   Car_Owner        1548 non-null   object \n",
      " 3   Propert_Owner    1548 non-null   object \n",
      " 4   CHILDREN         1548 non-null   int64  \n",
      " 5   Annual_income    1525 non-null   float64\n",
      " 6   Type_Income      1548 non-null   object \n",
      " 7   EDUCATION        1548 non-null   object \n",
      " 8   Marital_status   1548 non-null   object \n",
      " 9   Housing_type     1548 non-null   object \n",
      " 10  Birthday_count   1526 non-null   float64\n",
      " 11  Employed_days    1548 non-null   int64  \n",
      " 12  Mobile_phone     1548 non-null   int64  \n",
      " 13  Work_Phone       1548 non-null   int64  \n",
      " 14  Phone            1548 non-null   int64  \n",
      " 15  EMAIL_ID         1548 non-null   int64  \n",
      " 16  Type_Occupation  1060 non-null   object \n",
      " 17  Family_Members   1548 non-null   int64  \n",
      " 18  label            1548 non-null   int64  \n",
      "dtypes: float64(2), int64(9), object(8)\n",
      "memory usage: 229.9+ KB\n"
     ]
    },
    {
     "data": {
      "text/plain": [
       "Ind_ID               0\n",
       "GENDER               7\n",
       "Car_Owner            0\n",
       "Propert_Owner        0\n",
       "CHILDREN             0\n",
       "Annual_income       23\n",
       "Type_Income          0\n",
       "EDUCATION            0\n",
       "Marital_status       0\n",
       "Housing_type         0\n",
       "Birthday_count      22\n",
       "Employed_days        0\n",
       "Mobile_phone         0\n",
       "Work_Phone           0\n",
       "Phone                0\n",
       "EMAIL_ID             0\n",
       "Type_Occupation    488\n",
       "Family_Members       0\n",
       "label                0\n",
       "dtype: int64"
      ]
     },
     "execution_count": 7,
     "metadata": {},
     "output_type": "execute_result"
    }
   ],
   "source": [
    "merged_data.info()\n",
    "merged_data.isnull().sum()"
   ]
  },
  {
   "cell_type": "markdown",
   "metadata": {},
   "source": [
    "<span style=\"font-size: 18px; color: orange;\">KEY POINTS\n",
    "- The data consisted of 4 columns which were missing values GENDER , Annual_Income , Birthday_count , Type_Occupation.\n",
    "- The Birthday_count & Type_Occupation was converted from Days to Year format."
   ]
  },
  {
   "cell_type": "code",
   "execution_count": 8,
   "metadata": {},
   "outputs": [
    {
     "data": {
      "text/html": [
       "<div>\n",
       "<style scoped>\n",
       "    .dataframe tbody tr th:only-of-type {\n",
       "        vertical-align: middle;\n",
       "    }\n",
       "\n",
       "    .dataframe tbody tr th {\n",
       "        vertical-align: top;\n",
       "    }\n",
       "\n",
       "    .dataframe thead th {\n",
       "        text-align: right;\n",
       "    }\n",
       "</style>\n",
       "<table border=\"1\" class=\"dataframe\">\n",
       "  <thead>\n",
       "    <tr style=\"text-align: right;\">\n",
       "      <th></th>\n",
       "      <th>Ind_ID</th>\n",
       "      <th>GENDER</th>\n",
       "      <th>Car_Owner</th>\n",
       "      <th>Propert_Owner</th>\n",
       "      <th>CHILDREN</th>\n",
       "      <th>Annual_income</th>\n",
       "      <th>Type_Income</th>\n",
       "      <th>EDUCATION</th>\n",
       "      <th>Marital_status</th>\n",
       "      <th>Housing_type</th>\n",
       "      <th>Birthday_count</th>\n",
       "      <th>Employed_days</th>\n",
       "      <th>Mobile_phone</th>\n",
       "      <th>Work_Phone</th>\n",
       "      <th>Phone</th>\n",
       "      <th>EMAIL_ID</th>\n",
       "      <th>Type_Occupation</th>\n",
       "      <th>Family_Members</th>\n",
       "      <th>label</th>\n",
       "    </tr>\n",
       "  </thead>\n",
       "  <tbody>\n",
       "    <tr>\n",
       "      <th>0</th>\n",
       "      <td>5008827</td>\n",
       "      <td>M</td>\n",
       "      <td>Y</td>\n",
       "      <td>Y</td>\n",
       "      <td>0</td>\n",
       "      <td>180000.0</td>\n",
       "      <td>Pensioner</td>\n",
       "      <td>Higher education</td>\n",
       "      <td>Married</td>\n",
       "      <td>House / apartment</td>\n",
       "      <td>-18772.0</td>\n",
       "      <td>365243</td>\n",
       "      <td>1</td>\n",
       "      <td>0</td>\n",
       "      <td>0</td>\n",
       "      <td>0</td>\n",
       "      <td>NaN</td>\n",
       "      <td>2</td>\n",
       "      <td>1</td>\n",
       "    </tr>\n",
       "    <tr>\n",
       "      <th>1</th>\n",
       "      <td>5009744</td>\n",
       "      <td>F</td>\n",
       "      <td>Y</td>\n",
       "      <td>N</td>\n",
       "      <td>0</td>\n",
       "      <td>315000.0</td>\n",
       "      <td>Commercial associate</td>\n",
       "      <td>Higher education</td>\n",
       "      <td>Married</td>\n",
       "      <td>House / apartment</td>\n",
       "      <td>-13557.0</td>\n",
       "      <td>-586</td>\n",
       "      <td>1</td>\n",
       "      <td>1</td>\n",
       "      <td>1</td>\n",
       "      <td>0</td>\n",
       "      <td>NaN</td>\n",
       "      <td>2</td>\n",
       "      <td>1</td>\n",
       "    </tr>\n",
       "    <tr>\n",
       "      <th>2</th>\n",
       "      <td>5009746</td>\n",
       "      <td>F</td>\n",
       "      <td>Y</td>\n",
       "      <td>N</td>\n",
       "      <td>0</td>\n",
       "      <td>315000.0</td>\n",
       "      <td>Commercial associate</td>\n",
       "      <td>Higher education</td>\n",
       "      <td>Married</td>\n",
       "      <td>House / apartment</td>\n",
       "      <td>NaN</td>\n",
       "      <td>-586</td>\n",
       "      <td>1</td>\n",
       "      <td>1</td>\n",
       "      <td>1</td>\n",
       "      <td>0</td>\n",
       "      <td>NaN</td>\n",
       "      <td>2</td>\n",
       "      <td>1</td>\n",
       "    </tr>\n",
       "    <tr>\n",
       "      <th>3</th>\n",
       "      <td>5009749</td>\n",
       "      <td>F</td>\n",
       "      <td>Y</td>\n",
       "      <td>N</td>\n",
       "      <td>0</td>\n",
       "      <td>NaN</td>\n",
       "      <td>Commercial associate</td>\n",
       "      <td>Higher education</td>\n",
       "      <td>Married</td>\n",
       "      <td>House / apartment</td>\n",
       "      <td>-13557.0</td>\n",
       "      <td>-586</td>\n",
       "      <td>1</td>\n",
       "      <td>1</td>\n",
       "      <td>1</td>\n",
       "      <td>0</td>\n",
       "      <td>NaN</td>\n",
       "      <td>2</td>\n",
       "      <td>1</td>\n",
       "    </tr>\n",
       "    <tr>\n",
       "      <th>4</th>\n",
       "      <td>5009752</td>\n",
       "      <td>F</td>\n",
       "      <td>Y</td>\n",
       "      <td>N</td>\n",
       "      <td>0</td>\n",
       "      <td>315000.0</td>\n",
       "      <td>Commercial associate</td>\n",
       "      <td>Higher education</td>\n",
       "      <td>Married</td>\n",
       "      <td>House / apartment</td>\n",
       "      <td>-13557.0</td>\n",
       "      <td>-586</td>\n",
       "      <td>1</td>\n",
       "      <td>1</td>\n",
       "      <td>1</td>\n",
       "      <td>0</td>\n",
       "      <td>NaN</td>\n",
       "      <td>2</td>\n",
       "      <td>1</td>\n",
       "    </tr>\n",
       "  </tbody>\n",
       "</table>\n",
       "</div>"
      ],
      "text/plain": [
       "    Ind_ID GENDER Car_Owner Propert_Owner  CHILDREN  Annual_income  \\\n",
       "0  5008827      M         Y             Y         0       180000.0   \n",
       "1  5009744      F         Y             N         0       315000.0   \n",
       "2  5009746      F         Y             N         0       315000.0   \n",
       "3  5009749      F         Y             N         0            NaN   \n",
       "4  5009752      F         Y             N         0       315000.0   \n",
       "\n",
       "            Type_Income         EDUCATION Marital_status       Housing_type  \\\n",
       "0             Pensioner  Higher education        Married  House / apartment   \n",
       "1  Commercial associate  Higher education        Married  House / apartment   \n",
       "2  Commercial associate  Higher education        Married  House / apartment   \n",
       "3  Commercial associate  Higher education        Married  House / apartment   \n",
       "4  Commercial associate  Higher education        Married  House / apartment   \n",
       "\n",
       "   Birthday_count  Employed_days  Mobile_phone  Work_Phone  Phone  EMAIL_ID  \\\n",
       "0        -18772.0         365243             1           0      0         0   \n",
       "1        -13557.0           -586             1           1      1         0   \n",
       "2             NaN           -586             1           1      1         0   \n",
       "3        -13557.0           -586             1           1      1         0   \n",
       "4        -13557.0           -586             1           1      1         0   \n",
       "\n",
       "  Type_Occupation  Family_Members  label  \n",
       "0             NaN               2      1  \n",
       "1             NaN               2      1  \n",
       "2             NaN               2      1  \n",
       "3             NaN               2      1  \n",
       "4             NaN               2      1  "
      ]
     },
     "execution_count": 8,
     "metadata": {},
     "output_type": "execute_result"
    }
   ],
   "source": [
    "# Display the DataFrame\n",
    "merged_data.head()"
   ]
  },
  {
   "cell_type": "markdown",
   "metadata": {},
   "source": [
    "## <span style=\"font-size: 25px; color: skyblue; font-weight: bold;\">Changed the Days format to Year format.</span>"
   ]
  },
  {
   "cell_type": "code",
   "execution_count": 9,
   "metadata": {},
   "outputs": [
    {
     "name": "stdout",
     "output_type": "stream",
     "text": [
      "    Ind_ID GENDER Car_Owner Propert_Owner  CHILDREN  Annual_income  \\\n",
      "0  5008827      M         Y             Y         0       180000.0   \n",
      "1  5009744      F         Y             N         0       315000.0   \n",
      "2  5009746      F         Y             N         0       315000.0   \n",
      "3  5009749      F         Y             N         0            NaN   \n",
      "4  5009752      F         Y             N         0       315000.0   \n",
      "\n",
      "            Type_Income         EDUCATION Marital_status       Housing_type  \\\n",
      "0             Pensioner  Higher education        Married  House / apartment   \n",
      "1  Commercial associate  Higher education        Married  House / apartment   \n",
      "2  Commercial associate  Higher education        Married  House / apartment   \n",
      "3  Commercial associate  Higher education        Married  House / apartment   \n",
      "4  Commercial associate  Higher education        Married  House / apartment   \n",
      "\n",
      "    Age  Employment_Year  Mobile_phone  Work_Phone  Phone  EMAIL_ID  \\\n",
      "0  51.0           1001.0             1           0      0         0   \n",
      "1  37.0              2.0             1           1      1         0   \n",
      "2   NaN              2.0             1           1      1         0   \n",
      "3  37.0              2.0             1           1      1         0   \n",
      "4  37.0              2.0             1           1      1         0   \n",
      "\n",
      "  Type_Occupation  Family_Members  label  \n",
      "0             NaN               2      1  \n",
      "1             NaN               2      1  \n",
      "2             NaN               2      1  \n",
      "3             NaN               2      1  \n",
      "4             NaN               2      1  \n"
     ]
    }
   ],
   "source": [
    "# Assuming you have a DataFrame named merged_data with columns 'Employed_days' and 'Birthday_count'\n",
    "\n",
    "# Check if 'Employment_Year' column exists before creating it\n",
    "if 'Employed_days' in merged_data.columns and 'Employment_Year' not in merged_data.columns:\n",
    "    # Converting 'Employed_days' to years and rounding, then replacing the original column\n",
    "    merged_data['Employed_days'] = round(abs(merged_data['Employed_days']) / 365, 0)\n",
    "    merged_data.rename(columns={'Employed_days': 'Employment_Year'}, inplace=True)\n",
    "\n",
    "# Check if 'Age' column exists before creating it\n",
    "if 'Birthday_count' in merged_data.columns and 'Age' not in merged_data.columns:\n",
    "    # Converting 'Birthday_count' to years, rounding, and handling negative values, then replacing the original column\n",
    "    merged_data['Birthday_count'] = round(abs(merged_data['Birthday_count']) / 365, 0)\n",
    "    merged_data.rename(columns={'Birthday_count': 'Age'}, inplace=True)\n",
    "\n",
    "# Display the DataFrame\n",
    "print(merged_data.head())\n"
   ]
  },
  {
   "cell_type": "code",
   "execution_count": 10,
   "metadata": {},
   "outputs": [
    {
     "data": {
      "text/html": [
       "<div>\n",
       "<style scoped>\n",
       "    .dataframe tbody tr th:only-of-type {\n",
       "        vertical-align: middle;\n",
       "    }\n",
       "\n",
       "    .dataframe tbody tr th {\n",
       "        vertical-align: top;\n",
       "    }\n",
       "\n",
       "    .dataframe thead th {\n",
       "        text-align: right;\n",
       "    }\n",
       "</style>\n",
       "<table border=\"1\" class=\"dataframe\">\n",
       "  <thead>\n",
       "    <tr style=\"text-align: right;\">\n",
       "      <th></th>\n",
       "      <th>Ind_ID</th>\n",
       "      <th>GENDER</th>\n",
       "      <th>Car_Owner</th>\n",
       "      <th>Propert_Owner</th>\n",
       "      <th>CHILDREN</th>\n",
       "      <th>Annual_income</th>\n",
       "      <th>Type_Income</th>\n",
       "      <th>EDUCATION</th>\n",
       "      <th>Marital_status</th>\n",
       "      <th>Housing_type</th>\n",
       "      <th>Age</th>\n",
       "      <th>Employment_Year</th>\n",
       "      <th>Mobile_phone</th>\n",
       "      <th>Work_Phone</th>\n",
       "      <th>Phone</th>\n",
       "      <th>EMAIL_ID</th>\n",
       "      <th>Type_Occupation</th>\n",
       "      <th>Family_Members</th>\n",
       "      <th>label</th>\n",
       "    </tr>\n",
       "  </thead>\n",
       "  <tbody>\n",
       "    <tr>\n",
       "      <th>0</th>\n",
       "      <td>5008827</td>\n",
       "      <td>M</td>\n",
       "      <td>Y</td>\n",
       "      <td>Y</td>\n",
       "      <td>0</td>\n",
       "      <td>180000.0</td>\n",
       "      <td>Pensioner</td>\n",
       "      <td>Higher education</td>\n",
       "      <td>Married</td>\n",
       "      <td>House / apartment</td>\n",
       "      <td>51.0</td>\n",
       "      <td>1001.0</td>\n",
       "      <td>1</td>\n",
       "      <td>0</td>\n",
       "      <td>0</td>\n",
       "      <td>0</td>\n",
       "      <td>NaN</td>\n",
       "      <td>2</td>\n",
       "      <td>1</td>\n",
       "    </tr>\n",
       "    <tr>\n",
       "      <th>1</th>\n",
       "      <td>5009744</td>\n",
       "      <td>F</td>\n",
       "      <td>Y</td>\n",
       "      <td>N</td>\n",
       "      <td>0</td>\n",
       "      <td>315000.0</td>\n",
       "      <td>Commercial associate</td>\n",
       "      <td>Higher education</td>\n",
       "      <td>Married</td>\n",
       "      <td>House / apartment</td>\n",
       "      <td>37.0</td>\n",
       "      <td>2.0</td>\n",
       "      <td>1</td>\n",
       "      <td>1</td>\n",
       "      <td>1</td>\n",
       "      <td>0</td>\n",
       "      <td>NaN</td>\n",
       "      <td>2</td>\n",
       "      <td>1</td>\n",
       "    </tr>\n",
       "    <tr>\n",
       "      <th>2</th>\n",
       "      <td>5009746</td>\n",
       "      <td>F</td>\n",
       "      <td>Y</td>\n",
       "      <td>N</td>\n",
       "      <td>0</td>\n",
       "      <td>315000.0</td>\n",
       "      <td>Commercial associate</td>\n",
       "      <td>Higher education</td>\n",
       "      <td>Married</td>\n",
       "      <td>House / apartment</td>\n",
       "      <td>NaN</td>\n",
       "      <td>2.0</td>\n",
       "      <td>1</td>\n",
       "      <td>1</td>\n",
       "      <td>1</td>\n",
       "      <td>0</td>\n",
       "      <td>NaN</td>\n",
       "      <td>2</td>\n",
       "      <td>1</td>\n",
       "    </tr>\n",
       "    <tr>\n",
       "      <th>3</th>\n",
       "      <td>5009749</td>\n",
       "      <td>F</td>\n",
       "      <td>Y</td>\n",
       "      <td>N</td>\n",
       "      <td>0</td>\n",
       "      <td>NaN</td>\n",
       "      <td>Commercial associate</td>\n",
       "      <td>Higher education</td>\n",
       "      <td>Married</td>\n",
       "      <td>House / apartment</td>\n",
       "      <td>37.0</td>\n",
       "      <td>2.0</td>\n",
       "      <td>1</td>\n",
       "      <td>1</td>\n",
       "      <td>1</td>\n",
       "      <td>0</td>\n",
       "      <td>NaN</td>\n",
       "      <td>2</td>\n",
       "      <td>1</td>\n",
       "    </tr>\n",
       "    <tr>\n",
       "      <th>4</th>\n",
       "      <td>5009752</td>\n",
       "      <td>F</td>\n",
       "      <td>Y</td>\n",
       "      <td>N</td>\n",
       "      <td>0</td>\n",
       "      <td>315000.0</td>\n",
       "      <td>Commercial associate</td>\n",
       "      <td>Higher education</td>\n",
       "      <td>Married</td>\n",
       "      <td>House / apartment</td>\n",
       "      <td>37.0</td>\n",
       "      <td>2.0</td>\n",
       "      <td>1</td>\n",
       "      <td>1</td>\n",
       "      <td>1</td>\n",
       "      <td>0</td>\n",
       "      <td>NaN</td>\n",
       "      <td>2</td>\n",
       "      <td>1</td>\n",
       "    </tr>\n",
       "  </tbody>\n",
       "</table>\n",
       "</div>"
      ],
      "text/plain": [
       "    Ind_ID GENDER Car_Owner Propert_Owner  CHILDREN  Annual_income  \\\n",
       "0  5008827      M         Y             Y         0       180000.0   \n",
       "1  5009744      F         Y             N         0       315000.0   \n",
       "2  5009746      F         Y             N         0       315000.0   \n",
       "3  5009749      F         Y             N         0            NaN   \n",
       "4  5009752      F         Y             N         0       315000.0   \n",
       "\n",
       "            Type_Income         EDUCATION Marital_status       Housing_type  \\\n",
       "0             Pensioner  Higher education        Married  House / apartment   \n",
       "1  Commercial associate  Higher education        Married  House / apartment   \n",
       "2  Commercial associate  Higher education        Married  House / apartment   \n",
       "3  Commercial associate  Higher education        Married  House / apartment   \n",
       "4  Commercial associate  Higher education        Married  House / apartment   \n",
       "\n",
       "    Age  Employment_Year  Mobile_phone  Work_Phone  Phone  EMAIL_ID  \\\n",
       "0  51.0           1001.0             1           0      0         0   \n",
       "1  37.0              2.0             1           1      1         0   \n",
       "2   NaN              2.0             1           1      1         0   \n",
       "3  37.0              2.0             1           1      1         0   \n",
       "4  37.0              2.0             1           1      1         0   \n",
       "\n",
       "  Type_Occupation  Family_Members  label  \n",
       "0             NaN               2      1  \n",
       "1             NaN               2      1  \n",
       "2             NaN               2      1  \n",
       "3             NaN               2      1  \n",
       "4             NaN               2      1  "
      ]
     },
     "execution_count": 10,
     "metadata": {},
     "output_type": "execute_result"
    }
   ],
   "source": [
    "merged_data.head()"
   ]
  },
  {
   "cell_type": "code",
   "execution_count": 11,
   "metadata": {},
   "outputs": [],
   "source": [
    "merged_data.to_csv(\"Year_Type_converted_2_CCB2.csv\")"
   ]
  },
  {
   "cell_type": "markdown",
   "metadata": {},
   "source": [
    "## <span style=\"font-size: 25px; color: skyblue; font-weight:bold ;\">Capping the Outliers in the Employment_Year</span>"
   ]
  },
  {
   "cell_type": "markdown",
   "metadata": {},
   "source": [
    "<span style=\"font-size: 18px; color: orange;\">Applied Capping method to Employment_Year column by limiting extreme values."
   ]
  },
  {
   "cell_type": "code",
   "execution_count": 12,
   "metadata": {},
   "outputs": [
    {
     "name": "stdout",
     "output_type": "stream",
     "text": [
      "    Ind_ID GENDER Car_Owner Propert_Owner  CHILDREN  Annual_income  \\\n",
      "0  5008827      M         Y             Y         0       180000.0   \n",
      "1  5009744      F         Y             N         0       315000.0   \n",
      "2  5009746      F         Y             N         0       315000.0   \n",
      "3  5009749      F         Y             N         0            NaN   \n",
      "4  5009752      F         Y             N         0       315000.0   \n",
      "\n",
      "            Type_Income         EDUCATION Marital_status       Housing_type  \\\n",
      "0             Pensioner  Higher education        Married  House / apartment   \n",
      "1  Commercial associate  Higher education        Married  House / apartment   \n",
      "2  Commercial associate  Higher education        Married  House / apartment   \n",
      "3  Commercial associate  Higher education        Married  House / apartment   \n",
      "4  Commercial associate  Higher education        Married  House / apartment   \n",
      "\n",
      "    Age  Employment_Year  Mobile_phone  Work_Phone  Phone  EMAIL_ID  \\\n",
      "0  51.0             38.0             1           0      0         0   \n",
      "1  37.0              2.0             1           1      1         0   \n",
      "2   NaN              2.0             1           1      1         0   \n",
      "3  37.0              2.0             1           1      1         0   \n",
      "4  37.0              2.0             1           1      1         0   \n",
      "\n",
      "  Type_Occupation  Family_Members  label  \n",
      "0             NaN               2      1  \n",
      "1             NaN               2      1  \n",
      "2             NaN               2      1  \n",
      "3             NaN               2      1  \n",
      "4             NaN               2      1  \n"
     ]
    }
   ],
   "source": [
    "# Assuming merged_data is your DataFrame\n",
    "# Calculate the interquartile range (IQR) for Employment_Year\n",
    "Q1 = merged_data['Employment_Year'].quantile(0.25)\n",
    "Q3 = merged_data['Employment_Year'].quantile(0.75)\n",
    "IQR = Q3 - Q1\n",
    "\n",
    "# Define the lower and upper bounds to identify outliers\n",
    "lower_bound = Q1 - 1.5 * IQR\n",
    "upper_bound = Q3 + 1.5 * IQR\n",
    "\n",
    "# Cap the outliers in the Employment_Year column\n",
    "merged_data['Employment_Year'] = merged_data['Employment_Year'].clip(lower=None, upper=upper_bound)\n",
    "\n",
    "# Display the capped data\n",
    "print(merged_data.head())\n"
   ]
  },
  {
   "cell_type": "code",
   "execution_count": 13,
   "metadata": {},
   "outputs": [],
   "source": [
    "merged_data.to_csv(\"Capped_values_3_CCB2.csv\",index=False)"
   ]
  },
  {
   "cell_type": "code",
   "execution_count": 14,
   "metadata": {},
   "outputs": [],
   "source": [
    "Year_Type_converted_2_CCB2 = pd.read_csv(\"Year_Type_converted_2_CCB2.csv\")"
   ]
  },
  {
   "cell_type": "code",
   "execution_count": 15,
   "metadata": {},
   "outputs": [],
   "source": [
    "Capped_values_3_CCB2 = pd.read_csv(\"Capped_values_3_CCB2.csv\")"
   ]
  },
  {
   "cell_type": "markdown",
   "metadata": {},
   "source": [
    "<span style=\"font-size: 18px; color: orange;\">Using BoxPlot to see any potential outliers in the column and comparing the columns before capping and after."
   ]
  },
  {
   "cell_type": "code",
   "execution_count": 16,
   "metadata": {},
   "outputs": [
    {
     "data": {
      "image/png": "[encoded data removed]",
      "text/plain": [
       "<Figure size 1500x500 with 2 Axes>"
      ]
     },
     "metadata": {},
     "output_type": "display_data"
    }
   ],
   "source": [
    "background_color = '#F0F0F0'  # Light gray background color\n",
    "plt.figure(figsize=(15, 5), facecolor=background_color)  # Set the facecolor for the whole figure\n",
    "plt.subplot(1, 2, 1)\n",
    "sns.boxplot(y=\"Employment_Year\", data=Year_Type_converted_2_CCB2)\n",
    "plt.title(\"Boxplot Before Capping\")\n",
    "\n",
    "plt.subplot(1, 2, 2)\n",
    "sns.boxplot(y=\"Employment_Year\", data=Capped_values_3_CCB2)\n",
    "plt.title(\"Boxplot After Capping\")\n",
    "\n",
    "plt.tight_layout()\n",
    "plt.show()"
   ]
  },
  {
   "cell_type": "markdown",
   "metadata": {},
   "source": [
    "## <span style=\"font-size: 25px; color: skyblue; font-weight: bold;\">Dealing with Missing Values</span>"
   ]
  },
  {
   "cell_type": "markdown",
   "metadata": {},
   "source": [
    "<span style=\"font-size: 18px; color: orange;\">Looking for null values and dropping unnecessary columns</span>"
   ]
  },
  {
   "cell_type": "code",
   "execution_count": 17,
   "metadata": {},
   "outputs": [
    {
     "data": {
      "text/plain": [
       "Ind_ID               0\n",
       "GENDER               7\n",
       "Car_Owner            0\n",
       "Propert_Owner        0\n",
       "CHILDREN             0\n",
       "Annual_income       23\n",
       "Type_Income          0\n",
       "EDUCATION            0\n",
       "Marital_status       0\n",
       "Housing_type         0\n",
       "Age                 22\n",
       "Employment_Year      0\n",
       "Mobile_phone         0\n",
       "Work_Phone           0\n",
       "Phone                0\n",
       "EMAIL_ID             0\n",
       "Type_Occupation    488\n",
       "Family_Members       0\n",
       "label                0\n",
       "dtype: int64"
      ]
     },
     "execution_count": 17,
     "metadata": {},
     "output_type": "execute_result"
    }
   ],
   "source": [
    "Capped_values_3_CCB2.isnull().sum()"
   ]
  },
  {
   "cell_type": "markdown",
   "metadata": {},
   "source": [
    "## <span style=\"font-size: 25px; color: skyblue; font-weight: bold;\">Dealing with Missing Values (Numerical Data)</span>"
   ]
  },
  {
   "cell_type": "markdown",
   "metadata": {},
   "source": [
    "<span style=\"font-size: 18px; color: orange;\">We chose KNN imputation over MICE as our preferred method because the KNN imputer gives more accurate estimates using nearby values. It provides a detailed understanding of the missing data. In contrast, MICE uses conditional imputation models based on observed values from other variables, which we found less suitable for our dataset's variability and complexity."
   ]
  },
  {
   "cell_type": "code",
   "execution_count": 18,
   "metadata": {},
   "outputs": [],
   "source": [
    "from sklearn.impute import KNNImputer\n",
    "# Specify the columns you want to impute\n",
    "columns_to_impute = ['Annual_income','Age']\n",
    "\n",
    "# Create a KNN imputer\n",
    "knn_imputer = KNNImputer(n_neighbors=3)  # Adjust n_neighbors as needed\n",
    "\n",
    "# Apply KNN imputation to the specified columns\n",
    "Capped_values_3_CCB2[columns_to_impute] = knn_imputer.fit_transform(Capped_values_3_CCB2[columns_to_impute])"
   ]
  },
  {
   "cell_type": "code",
   "execution_count": 19,
   "metadata": {},
   "outputs": [
    {
     "data": {
      "text/html": [
       "<div>\n",
       "<style scoped>\n",
       "    .dataframe tbody tr th:only-of-type {\n",
       "        vertical-align: middle;\n",
       "    }\n",
       "\n",
       "    .dataframe tbody tr th {\n",
       "        vertical-align: top;\n",
       "    }\n",
       "\n",
       "    .dataframe thead th {\n",
       "        text-align: right;\n",
       "    }\n",
       "</style>\n",
       "<table border=\"1\" class=\"dataframe\">\n",
       "  <thead>\n",
       "    <tr style=\"text-align: right;\">\n",
       "      <th></th>\n",
       "      <th>Ind_ID</th>\n",
       "      <th>GENDER</th>\n",
       "      <th>Car_Owner</th>\n",
       "      <th>Propert_Owner</th>\n",
       "      <th>CHILDREN</th>\n",
       "      <th>Annual_income</th>\n",
       "      <th>Type_Income</th>\n",
       "      <th>EDUCATION</th>\n",
       "      <th>Marital_status</th>\n",
       "      <th>Housing_type</th>\n",
       "      <th>Age</th>\n",
       "      <th>Employment_Year</th>\n",
       "      <th>Mobile_phone</th>\n",
       "      <th>Work_Phone</th>\n",
       "      <th>Phone</th>\n",
       "      <th>EMAIL_ID</th>\n",
       "      <th>Type_Occupation</th>\n",
       "      <th>Family_Members</th>\n",
       "      <th>label</th>\n",
       "    </tr>\n",
       "  </thead>\n",
       "  <tbody>\n",
       "    <tr>\n",
       "      <th>0</th>\n",
       "      <td>5008827</td>\n",
       "      <td>M</td>\n",
       "      <td>Y</td>\n",
       "      <td>Y</td>\n",
       "      <td>0</td>\n",
       "      <td>180000.0</td>\n",
       "      <td>Pensioner</td>\n",
       "      <td>Higher education</td>\n",
       "      <td>Married</td>\n",
       "      <td>House / apartment</td>\n",
       "      <td>51.0</td>\n",
       "      <td>38.0</td>\n",
       "      <td>1</td>\n",
       "      <td>0</td>\n",
       "      <td>0</td>\n",
       "      <td>0</td>\n",
       "      <td>NaN</td>\n",
       "      <td>2</td>\n",
       "      <td>1</td>\n",
       "    </tr>\n",
       "    <tr>\n",
       "      <th>1</th>\n",
       "      <td>5009744</td>\n",
       "      <td>F</td>\n",
       "      <td>Y</td>\n",
       "      <td>N</td>\n",
       "      <td>0</td>\n",
       "      <td>315000.0</td>\n",
       "      <td>Commercial associate</td>\n",
       "      <td>Higher education</td>\n",
       "      <td>Married</td>\n",
       "      <td>House / apartment</td>\n",
       "      <td>37.0</td>\n",
       "      <td>2.0</td>\n",
       "      <td>1</td>\n",
       "      <td>1</td>\n",
       "      <td>1</td>\n",
       "      <td>0</td>\n",
       "      <td>NaN</td>\n",
       "      <td>2</td>\n",
       "      <td>1</td>\n",
       "    </tr>\n",
       "    <tr>\n",
       "      <th>2</th>\n",
       "      <td>5009746</td>\n",
       "      <td>F</td>\n",
       "      <td>Y</td>\n",
       "      <td>N</td>\n",
       "      <td>0</td>\n",
       "      <td>315000.0</td>\n",
       "      <td>Commercial associate</td>\n",
       "      <td>Higher education</td>\n",
       "      <td>Married</td>\n",
       "      <td>House / apartment</td>\n",
       "      <td>37.0</td>\n",
       "      <td>2.0</td>\n",
       "      <td>1</td>\n",
       "      <td>1</td>\n",
       "      <td>1</td>\n",
       "      <td>0</td>\n",
       "      <td>NaN</td>\n",
       "      <td>2</td>\n",
       "      <td>1</td>\n",
       "    </tr>\n",
       "    <tr>\n",
       "      <th>3</th>\n",
       "      <td>5009749</td>\n",
       "      <td>F</td>\n",
       "      <td>Y</td>\n",
       "      <td>N</td>\n",
       "      <td>0</td>\n",
       "      <td>315000.0</td>\n",
       "      <td>Commercial associate</td>\n",
       "      <td>Higher education</td>\n",
       "      <td>Married</td>\n",
       "      <td>House / apartment</td>\n",
       "      <td>37.0</td>\n",
       "      <td>2.0</td>\n",
       "      <td>1</td>\n",
       "      <td>1</td>\n",
       "      <td>1</td>\n",
       "      <td>0</td>\n",
       "      <td>NaN</td>\n",
       "      <td>2</td>\n",
       "      <td>1</td>\n",
       "    </tr>\n",
       "    <tr>\n",
       "      <th>4</th>\n",
       "      <td>5009752</td>\n",
       "      <td>F</td>\n",
       "      <td>Y</td>\n",
       "      <td>N</td>\n",
       "      <td>0</td>\n",
       "      <td>315000.0</td>\n",
       "      <td>Commercial associate</td>\n",
       "      <td>Higher education</td>\n",
       "      <td>Married</td>\n",
       "      <td>House / apartment</td>\n",
       "      <td>37.0</td>\n",
       "      <td>2.0</td>\n",
       "      <td>1</td>\n",
       "      <td>1</td>\n",
       "      <td>1</td>\n",
       "      <td>0</td>\n",
       "      <td>NaN</td>\n",
       "      <td>2</td>\n",
       "      <td>1</td>\n",
       "    </tr>\n",
       "  </tbody>\n",
       "</table>\n",
       "</div>"
      ],
      "text/plain": [
       "    Ind_ID GENDER Car_Owner Propert_Owner  CHILDREN  Annual_income  \\\n",
       "0  5008827      M         Y             Y         0       180000.0   \n",
       "1  5009744      F         Y             N         0       315000.0   \n",
       "2  5009746      F         Y             N         0       315000.0   \n",
       "3  5009749      F         Y             N         0       315000.0   \n",
       "4  5009752      F         Y             N         0       315000.0   \n",
       "\n",
       "            Type_Income         EDUCATION Marital_status       Housing_type  \\\n",
       "0             Pensioner  Higher education        Married  House / apartment   \n",
       "1  Commercial associate  Higher education        Married  House / apartment   \n",
       "2  Commercial associate  Higher education        Married  House / apartment   \n",
       "3  Commercial associate  Higher education        Married  House / apartment   \n",
       "4  Commercial associate  Higher education        Married  House / apartment   \n",
       "\n",
       "    Age  Employment_Year  Mobile_phone  Work_Phone  Phone  EMAIL_ID  \\\n",
       "0  51.0             38.0             1           0      0         0   \n",
       "1  37.0              2.0             1           1      1         0   \n",
       "2  37.0              2.0             1           1      1         0   \n",
       "3  37.0              2.0             1           1      1         0   \n",
       "4  37.0              2.0             1           1      1         0   \n",
       "\n",
       "  Type_Occupation  Family_Members  label  \n",
       "0             NaN               2      1  \n",
       "1             NaN               2      1  \n",
       "2             NaN               2      1  \n",
       "3             NaN               2      1  \n",
       "4             NaN               2      1  "
      ]
     },
     "execution_count": 19,
     "metadata": {},
     "output_type": "execute_result"
    }
   ],
   "source": [
    "Capped_values_3_CCB2.head()"
   ]
  },
  {
   "cell_type": "code",
   "execution_count": 20,
   "metadata": {},
   "outputs": [],
   "source": [
    "Capped_values_3_CCB2.to_csv(\"Imputed_knn_4_CCB2.csv\",index=False)"
   ]
  },
  {
   "cell_type": "code",
   "execution_count": 21,
   "metadata": {},
   "outputs": [],
   "source": [
    "Imputed_knn_4_CCB2 = pd.read_csv(\"Imputed_knn_4_CCB2.csv\")"
   ]
  },
  {
   "cell_type": "code",
   "execution_count": 22,
   "metadata": {},
   "outputs": [
    {
     "data": {
      "text/plain": [
       "Ind_ID               0\n",
       "GENDER               7\n",
       "Car_Owner            0\n",
       "Propert_Owner        0\n",
       "CHILDREN             0\n",
       "Annual_income        0\n",
       "Type_Income          0\n",
       "EDUCATION            0\n",
       "Marital_status       0\n",
       "Housing_type         0\n",
       "Age                  0\n",
       "Employment_Year      0\n",
       "Mobile_phone         0\n",
       "Work_Phone           0\n",
       "Phone                0\n",
       "EMAIL_ID             0\n",
       "Type_Occupation    488\n",
       "Family_Members       0\n",
       "label                0\n",
       "dtype: int64"
      ]
     },
     "execution_count": 22,
     "metadata": {},
     "output_type": "execute_result"
    }
   ],
   "source": [
    "Imputed_knn_4_CCB2.isnull().sum()"
   ]
  },
  {
   "cell_type": "markdown",
   "metadata": {},
   "source": [
    "## <span style=\"font-size: 25px; color: skyblue; font-weight: bold;\">Dealing with Missing Values (Categorical Data)</span>"
   ]
  },
  {
   "cell_type": "code",
   "execution_count": 23,
   "metadata": {},
   "outputs": [],
   "source": [
    "# Fill missing values in 'Type_Occupation' column where 'Type_Income' is not 'Pensioner'\n",
    "Imputed_knn_4_CCB2.loc[Imputed_knn_4_CCB2['Type_Income'] != 'Pensioner', 'Type_Occupation'] = Imputed_knn_4_CCB2.loc[Imputed_knn_4_CCB2['Type_Income'] != 'Pensioner', 'Type_Occupation'].fillna('Unknown')"
   ]
  },
  {
   "cell_type": "code",
   "execution_count": 24,
   "metadata": {},
   "outputs": [],
   "source": [
    "# Fill missing values in 'Type_Occupation' column where 'Type_Income' is 'Pensioner'\n",
    "Imputed_knn_4_CCB2.loc[Imputed_knn_4_CCB2['Type_Income'] == 'Pensioner', 'Type_Occupation'] = Imputed_knn_4_CCB2.loc[Imputed_knn_4_CCB2['Type_Income'] == 'Pensioner', 'Type_Occupation'].fillna('Pensioner')"
   ]
  },
  {
   "cell_type": "code",
   "execution_count": 25,
   "metadata": {},
   "outputs": [],
   "source": [
    "Imputed_knn_4_CCB2['GENDER'].fillna(Imputed_knn_4_CCB2['GENDER'].mode()[0], inplace=True)"
   ]
  },
  {
   "cell_type": "code",
   "execution_count": 26,
   "metadata": {},
   "outputs": [
    {
     "data": {
      "text/plain": [
       "Ind_ID             0\n",
       "GENDER             0\n",
       "Car_Owner          0\n",
       "Propert_Owner      0\n",
       "CHILDREN           0\n",
       "Annual_income      0\n",
       "Type_Income        0\n",
       "EDUCATION          0\n",
       "Marital_status     0\n",
       "Housing_type       0\n",
       "Age                0\n",
       "Employment_Year    0\n",
       "Mobile_phone       0\n",
       "Work_Phone         0\n",
       "Phone              0\n",
       "EMAIL_ID           0\n",
       "Type_Occupation    0\n",
       "Family_Members     0\n",
       "label              0\n",
       "dtype: int64"
      ]
     },
     "execution_count": 26,
     "metadata": {},
     "output_type": "execute_result"
    }
   ],
   "source": [
    "Imputed_knn_4_CCB2.isnull().sum()"
   ]
  },
  {
   "cell_type": "markdown",
   "metadata": {},
   "source": [
    "<span style=\"font-size: 18px; color: orange;\">Now we have a cleaned data set with no null values."
   ]
  },
  {
   "cell_type": "code",
   "execution_count": 27,
   "metadata": {},
   "outputs": [],
   "source": [
    "Imputed_knn_4_CCB2.to_csv(\"Cleaned_data_5_CCB2.csv\",index=False)"
   ]
  },
  {
   "cell_type": "code",
   "execution_count": 28,
   "metadata": {},
   "outputs": [],
   "source": [
    "Cleaned_data_5_CCB2 = pd.read_csv(\"Cleaned_data_5_CCB2.csv\")"
   ]
  },
  {
   "cell_type": "markdown",
   "metadata": {},
   "source": [
    "<span style=\"font-size: 18px; color: orange;\">Assiging proper names to columns."
   ]
  },
  {
   "cell_type": "code",
   "execution_count": 29,
   "metadata": {},
   "outputs": [],
   "source": [
    "# Replacing the existing column names with the new names\n",
    "\n",
    "new_column_names = {\n",
    "    'Ind_ID': 'Individual_ID',\n",
    "    'GENDER': 'Gender',\n",
    "    'Car_Owner': 'Car_Owner',\n",
    "    'Propert_Owner': 'Property_Owner',\n",
    "    'CHILDREN': 'Childrens',\n",
    "    'Annual_income': 'Annual_Income',\n",
    "    'Type_Income': 'Income_Type',\n",
    "    'EDUCATION': 'Education_Level',\n",
    "    'Marital_status': 'Marital_Status',\n",
    "    'Housing_type': 'Housing_Type',\n",
    "    'Age': 'Age',\n",
    "    'Employment_Year': 'Employment_Duration',\n",
    "    'Mobile_phone': 'Mobile_Phone',\n",
    "    'Work_Phone': 'Work_Phone',\n",
    "    'Phone': 'Phone',\n",
    "    'EMAIL_ID': 'Email_Address',\n",
    "    'Type_Occupation': 'Occupation_Type',\n",
    "    'Family_Members': 'Family_Members',\n",
    "    'label': 'Target_Label'\n",
    "}\n",
    "\n",
    "Cleaned_data_5_CCB2 = Cleaned_data_5_CCB2.rename(columns=new_column_names)\n"
   ]
  },
  {
   "cell_type": "code",
   "execution_count": 30,
   "metadata": {},
   "outputs": [],
   "source": [
    "Cleaned_data_5_CCB2.to_csv(\"Cleaned_data_5_B_CCB2.csv\",index=False)"
   ]
  },
  {
   "cell_type": "code",
   "execution_count": 31,
   "metadata": {},
   "outputs": [],
   "source": [
    "Cleaned_data_5_B_CCB2 = pd.read_csv(\"Cleaned_data_5_B_CCB2.csv\")"
   ]
  },
  {
   "cell_type": "code",
   "execution_count": 32,
   "metadata": {},
   "outputs": [
    {
     "data": {
      "text/html": [
       "<div>\n",
       "<style scoped>\n",
       "    .dataframe tbody tr th:only-of-type {\n",
       "        vertical-align: middle;\n",
       "    }\n",
       "\n",
       "    .dataframe tbody tr th {\n",
       "        vertical-align: top;\n",
       "    }\n",
       "\n",
       "    .dataframe thead th {\n",
       "        text-align: right;\n",
       "    }\n",
       "</style>\n",
       "<table border=\"1\" class=\"dataframe\">\n",
       "  <thead>\n",
       "    <tr style=\"text-align: right;\">\n",
       "      <th></th>\n",
       "      <th>Individual_ID</th>\n",
       "      <th>Gender</th>\n",
       "      <th>Car_Owner</th>\n",
       "      <th>Property_Owner</th>\n",
       "      <th>Childrens</th>\n",
       "      <th>Annual_Income</th>\n",
       "      <th>Income_Type</th>\n",
       "      <th>Education_Level</th>\n",
       "      <th>Marital_Status</th>\n",
       "      <th>Housing_Type</th>\n",
       "      <th>Age</th>\n",
       "      <th>Employment_Duration</th>\n",
       "      <th>Mobile_Phone</th>\n",
       "      <th>Work_Phone</th>\n",
       "      <th>Phone</th>\n",
       "      <th>Email_Address</th>\n",
       "      <th>Occupation_Type</th>\n",
       "      <th>Family_Members</th>\n",
       "      <th>Target_Label</th>\n",
       "    </tr>\n",
       "  </thead>\n",
       "  <tbody>\n",
       "    <tr>\n",
       "      <th>0</th>\n",
       "      <td>5008827</td>\n",
       "      <td>M</td>\n",
       "      <td>Y</td>\n",
       "      <td>Y</td>\n",
       "      <td>0</td>\n",
       "      <td>180000.0</td>\n",
       "      <td>Pensioner</td>\n",
       "      <td>Higher education</td>\n",
       "      <td>Married</td>\n",
       "      <td>House / apartment</td>\n",
       "      <td>51.0</td>\n",
       "      <td>38.0</td>\n",
       "      <td>1</td>\n",
       "      <td>0</td>\n",
       "      <td>0</td>\n",
       "      <td>0</td>\n",
       "      <td>Pensioner</td>\n",
       "      <td>2</td>\n",
       "      <td>1</td>\n",
       "    </tr>\n",
       "    <tr>\n",
       "      <th>1</th>\n",
       "      <td>5009744</td>\n",
       "      <td>F</td>\n",
       "      <td>Y</td>\n",
       "      <td>N</td>\n",
       "      <td>0</td>\n",
       "      <td>315000.0</td>\n",
       "      <td>Commercial associate</td>\n",
       "      <td>Higher education</td>\n",
       "      <td>Married</td>\n",
       "      <td>House / apartment</td>\n",
       "      <td>37.0</td>\n",
       "      <td>2.0</td>\n",
       "      <td>1</td>\n",
       "      <td>1</td>\n",
       "      <td>1</td>\n",
       "      <td>0</td>\n",
       "      <td>Unknown</td>\n",
       "      <td>2</td>\n",
       "      <td>1</td>\n",
       "    </tr>\n",
       "    <tr>\n",
       "      <th>2</th>\n",
       "      <td>5009746</td>\n",
       "      <td>F</td>\n",
       "      <td>Y</td>\n",
       "      <td>N</td>\n",
       "      <td>0</td>\n",
       "      <td>315000.0</td>\n",
       "      <td>Commercial associate</td>\n",
       "      <td>Higher education</td>\n",
       "      <td>Married</td>\n",
       "      <td>House / apartment</td>\n",
       "      <td>37.0</td>\n",
       "      <td>2.0</td>\n",
       "      <td>1</td>\n",
       "      <td>1</td>\n",
       "      <td>1</td>\n",
       "      <td>0</td>\n",
       "      <td>Unknown</td>\n",
       "      <td>2</td>\n",
       "      <td>1</td>\n",
       "    </tr>\n",
       "    <tr>\n",
       "      <th>3</th>\n",
       "      <td>5009749</td>\n",
       "      <td>F</td>\n",
       "      <td>Y</td>\n",
       "      <td>N</td>\n",
       "      <td>0</td>\n",
       "      <td>315000.0</td>\n",
       "      <td>Commercial associate</td>\n",
       "      <td>Higher education</td>\n",
       "      <td>Married</td>\n",
       "      <td>House / apartment</td>\n",
       "      <td>37.0</td>\n",
       "      <td>2.0</td>\n",
       "      <td>1</td>\n",
       "      <td>1</td>\n",
       "      <td>1</td>\n",
       "      <td>0</td>\n",
       "      <td>Unknown</td>\n",
       "      <td>2</td>\n",
       "      <td>1</td>\n",
       "    </tr>\n",
       "    <tr>\n",
       "      <th>4</th>\n",
       "      <td>5009752</td>\n",
       "      <td>F</td>\n",
       "      <td>Y</td>\n",
       "      <td>N</td>\n",
       "      <td>0</td>\n",
       "      <td>315000.0</td>\n",
       "      <td>Commercial associate</td>\n",
       "      <td>Higher education</td>\n",
       "      <td>Married</td>\n",
       "      <td>House / apartment</td>\n",
       "      <td>37.0</td>\n",
       "      <td>2.0</td>\n",
       "      <td>1</td>\n",
       "      <td>1</td>\n",
       "      <td>1</td>\n",
       "      <td>0</td>\n",
       "      <td>Unknown</td>\n",
       "      <td>2</td>\n",
       "      <td>1</td>\n",
       "    </tr>\n",
       "  </tbody>\n",
       "</table>\n",
       "</div>"
      ],
      "text/plain": [
       "   Individual_ID Gender Car_Owner Property_Owner  Childrens  Annual_Income  \\\n",
       "0        5008827      M         Y              Y          0       180000.0   \n",
       "1        5009744      F         Y              N          0       315000.0   \n",
       "2        5009746      F         Y              N          0       315000.0   \n",
       "3        5009749      F         Y              N          0       315000.0   \n",
       "4        5009752      F         Y              N          0       315000.0   \n",
       "\n",
       "            Income_Type   Education_Level Marital_Status       Housing_Type  \\\n",
       "0             Pensioner  Higher education        Married  House / apartment   \n",
       "1  Commercial associate  Higher education        Married  House / apartment   \n",
       "2  Commercial associate  Higher education        Married  House / apartment   \n",
       "3  Commercial associate  Higher education        Married  House / apartment   \n",
       "4  Commercial associate  Higher education        Married  House / apartment   \n",
       "\n",
       "    Age  Employment_Duration  Mobile_Phone  Work_Phone  Phone  Email_Address  \\\n",
       "0  51.0                 38.0             1           0      0              0   \n",
       "1  37.0                  2.0             1           1      1              0   \n",
       "2  37.0                  2.0             1           1      1              0   \n",
       "3  37.0                  2.0             1           1      1              0   \n",
       "4  37.0                  2.0             1           1      1              0   \n",
       "\n",
       "  Occupation_Type  Family_Members  Target_Label  \n",
       "0       Pensioner               2             1  \n",
       "1         Unknown               2             1  \n",
       "2         Unknown               2             1  \n",
       "3         Unknown               2             1  \n",
       "4         Unknown               2             1  "
      ]
     },
     "execution_count": 32,
     "metadata": {},
     "output_type": "execute_result"
    }
   ],
   "source": [
    "Cleaned_data_5_B_CCB2.head()"
   ]
  },
  {
   "cell_type": "markdown",
   "metadata": {},
   "source": [
    "# <span style=\"font-size: 35px; color: maroon; font-weight: bold;\">EDA</span>"
   ]
  },
  {
   "cell_type": "markdown",
   "metadata": {},
   "source": [
    "## <span style=\"font-size: 25px; color: skyblue; font-weight: bold;\">UNIVARIATE ANALYSIS"
   ]
  },
  {
   "cell_type": "markdown",
   "metadata": {},
   "source": [
    "### <span style=\"font-size: 25px; color: skyblue; font-weight: bold;\">1. Showing Distribution of values for each numerical column."
   ]
  },
  {
   "cell_type": "code",
   "execution_count": 33,
   "metadata": {},
   "outputs": [
    {
     "data": {
      "image/png": "[encoded data removed]",
      "text/plain": [
       "<Figure size 2000x1000 with 4 Axes>"
      ]
     },
     "metadata": {},
     "output_type": "display_data"
    }
   ],
   "source": [
    "import seaborn as sns\n",
    "import matplotlib.pyplot as plt\n",
    "\n",
    "# Descriptive Statistics\n",
    "numerical_columns = ['Annual_Income', 'Age', 'Employment_Duration', 'Family_Members']\n",
    "categorical_columns = ['Gender', 'Car_Owner', 'Property_Owner', 'Income_Type', 'Education_Level', \n",
    "                        'Marital_Status', 'Housing_Type', 'Mobile_Phone', 'Work_Phone', \n",
    "                        'Phone', 'Occupation_Type', 'Target_Label']\n",
    "\n",
    "# Basic Summary Statistics\n",
    "summary_statistics = Cleaned_data_5_CCB2.describe()\n",
    "\n",
    "# Subplot layout for numerical columns\n",
    "rows, cols = 2, 4  # 2 rows and 4 columns\n",
    "fig, axes = plt.subplots(rows, cols, figsize=(20, 10), facecolor='#F0F0F0')  # Set background color\n",
    "\n",
    "# Data Distribution - Histograms for numerical columns\n",
    "for i, col in enumerate(numerical_columns):\n",
    "    ax = axes[i // cols, i % cols]\n",
    "    ax.set_facecolor('lightgrey')  # Set light grey background color for each subplot\n",
    "    Cleaned_data_5_CCB2[col].hist(bins=20, ax=ax, color='skyblue')  # Set histogram color\n",
    "    ax.set_title(f'Distribution of {col}')\n",
    "    ax.set_xlabel(col)\n",
    "    ax.set_ylabel('Frequency')\n",
    "    ax.grid(False)  # Turn off grid lines\n",
    "\n",
    "# Remove the blank subplots for numerical columns\n",
    "for i in range(len(numerical_columns), rows * cols):\n",
    "    fig.delaxes(axes.flatten()[i])\n",
    "\n",
    "plt.tight_layout()\n",
    "plt.show()"
   ]
  },
  {
   "cell_type": "markdown",
   "metadata": {},
   "source": [
    "### <span style=\"font-size: 25px; color: skyblue; font-weight: bold;\">2. Box plot represents the distribution of annual income for different Income_Types Column"
   ]
  },
  {
   "cell_type": "code",
   "execution_count": 34,
   "metadata": {},
   "outputs": [
    {
     "data": {
      "image/png": "[encoded data removed]",
      "text/plain": [
       "<Figure size 1200x800 with 1 Axes>"
      ]
     },
     "metadata": {},
     "output_type": "display_data"
    }
   ],
   "source": [
    "sns.set(style=\"whitegrid\")\n",
    "\n",
    "# Create a box plot\n",
    "plt.figure(figsize=(12, 8))\n",
    "\n",
    "# Setting the background color\n",
    "background_color = 'lightgray'\n",
    "plt.gca().set_facecolor(background_color)\n",
    "plt.grid(color='white', linestyle='-', linewidth=1, alpha=0.2)\n",
    "\n",
    "sns.boxplot(x='Income_Type', y='Annual_Income', data=Cleaned_data_5_CCB2)\n",
    "\n",
    "plt.title('Box Plot of Annual Income by Income Type')\n",
    "plt.xlabel('Income Type')\n",
    "plt.ylabel('Annual Income')\n",
    "\n",
    "plt.show()\n"
   ]
  },
  {
   "cell_type": "markdown",
   "metadata": {},
   "source": [
    "## <span style=\"font-size: 25px; color: skyblue; font-weight: bold;\">3. Pie charts to visually represent the distribution of categorical variables."
   ]
  },
  {
   "cell_type": "code",
   "execution_count": 35,
   "metadata": {},
   "outputs": [
    {
     "name": "stderr",
     "output_type": "stream",
     "text": [
      "C:\\Users\\Prathmesh\\AppData\\Local\\Temp\\ipykernel_22336\\3756668662.py:18: MatplotlibDeprecationWarning: Auto-removal of overlapping axes is deprecated since 3.6 and will be removed two minor releases later; explicitly call ax.remove() as needed.\n",
      "  plt.subplot(1, 3, 1)\n"
     ]
    },
    {
     "data": {
      "image/png": "[encoded data removed]",
      "text/plain": [
       "<Figure size 1500x500 with 3 Axes>"
      ]
     },
     "metadata": {},
     "output_type": "display_data"
    }
   ],
   "source": [
    "# Define background color\n",
    "background_color = 'lightgray'  # Light gray background color\n",
    "\n",
    "# Applying value_counts() separately to each column\n",
    "value_counts_gender = Cleaned_data_5_CCB2['Gender'].value_counts()\n",
    "value_counts_car_owner = Cleaned_data_5_CCB2['Car_Owner'].value_counts()\n",
    "value_counts_property_owner = Cleaned_data_5_CCB2['Property_Owner'].value_counts()\n",
    "\n",
    "# Plotting pie chart for each column with light blue and pink colors\n",
    "plt.figure(figsize=(15, 5))\n",
    "\n",
    "# Set the background color\n",
    "plt.gca().set_facecolor(background_color)\n",
    "\n",
    "# Define light blue and pink colors for pie chart slices\n",
    "colors = ['#FFB6C1','#ADD8E6']\n",
    "\n",
    "plt.subplot(1, 3, 1)\n",
    "value_counts_gender.plot(kind='pie', autopct='%.2f%%', colors=colors, labels=['Female', 'Male'])\n",
    "plt.title('Gender')\n",
    "\n",
    "plt.subplot(1, 3, 2)\n",
    "value_counts_car_owner.plot(kind='pie', autopct='%.2f%%', colors=colors, labels=['No Car', 'Car Owner'])\n",
    "plt.title('Car Owner')\n",
    "\n",
    "plt.subplot(1, 3, 3)\n",
    "value_counts_property_owner.plot(kind='pie', autopct='%.2f%%', colors=colors, labels=['Not Property Owner', 'Property Owner'])\n",
    "plt.title('Property Owner')\n",
    "\n",
    "plt.tight_layout()\n",
    "plt.show()"
   ]
  },
  {
   "cell_type": "markdown",
   "metadata": {},
   "source": [
    "<span style=\"font-size: medium; color: orange;\">The above three pie charts represents the distribution of gender, car ownership, and property ownership in the DataFrame.\n",
    "1. The pie chart for 'Gender' indicates a higher percentage of females compared to males in the dataset.\n",
    "2. Approximately 40.31% of individuals in the dataset own a car, as shown in the 'Car Owner' pie chart.\n",
    "3. The 'Property Owner' pie chart reveals that around 34.75% of individuals own property in the dataset."
   ]
  },
  {
   "cell_type": "markdown",
   "metadata": {},
   "source": [
    "-------------------------------------------------------------------------------------------------------"
   ]
  },
  {
   "cell_type": "markdown",
   "metadata": {},
   "source": [
    "## <span style=\"font-size: 25px; color: skyblue; font-weight: bold;\">BIVARIATE ANALYSIS"
   ]
  },
  {
   "cell_type": "markdown",
   "metadata": {},
   "source": [
    "## <span style=\"font-size: 25px; color: skyblue; font-weight: bold;\">1. Visualizing the target variable and looking at how many approved and declined applications are there in our dataset."
   ]
  },
  {
   "cell_type": "code",
   "execution_count": 36,
   "metadata": {},
   "outputs": [
    {
     "data": {
      "image/png": "[encoded data removed]",
      "text/plain": [
       "<Figure size 700x500 with 1 Axes>"
      ]
     },
     "metadata": {},
     "output_type": "display_data"
    }
   ],
   "source": [
    "fig, ax = plt.subplots(1, 1, figsize=(7, 5), sharex=True)\n",
    "# Set light gray background color\n",
    "ax.set_facecolor('lightgray')\n",
    "# Create a count plot\n",
    "sns.countplot(data=Cleaned_data_5_B_CCB2, x='Target_Label', edgecolor=\"white\", palette=\"viridis\")\n",
    "# Calculate the total count\n",
    "total = Cleaned_data_5_B_CCB2['Target_Label'].value_counts().sum()\n",
    "\n",
    "# Display count labels on top of the bars\n",
    "for p in ax.patches:\n",
    "    height = p.get_height()\n",
    "    ax.text(p.get_x() + p.get_width() / 2., height + 0.1, f'{height}', ha=\"center\", fontsize=12)\n",
    "\n",
    "# Remove grids\n",
    "ax.grid(False)\n",
    "\n",
    "plt.xticks(fontsize=14)\n",
    "plt.yticks(fontsize=14)\n",
    "plt.xlabel('Target_Label', fontsize=16)\n",
    "plt.ylabel('Count', fontsize=16)\n",
    "plt.show()\n"
   ]
  },
  {
   "cell_type": "markdown",
   "metadata": {},
   "source": [
    "<span style=\"font-size: 18px; color: orange;\">\"In the provided countplot, the graph illustrates the distribution of 'Target_Label' in the dataset. Out of the total instances, only 175 values are marked as rejected (Target_Label = 1), while the majority, 1373 values, are marked as approved (Target_Label = 0).\""
   ]
  },
  {
   "cell_type": "code",
   "execution_count": null,
   "metadata": {},
   "outputs": [],
   "source": []
  },
  {
   "cell_type": "markdown",
   "metadata": {},
   "source": [
    "## <span style=\"font-size: 25px; color: skyblue; font-weight: bold;\">Correlation Analysis - Heatmap"
   ]
  },
  {
   "cell_type": "code",
   "execution_count": 37,
   "metadata": {},
   "outputs": [
    {
     "data": {
      "image/png": "[encoded data removed]",
      "text/plain": [
       "<Figure size 640x480 with 2 Axes>"
      ]
     },
     "metadata": {},
     "output_type": "display_data"
    }
   ],
   "source": [
    "# Correlation Analysis - Heatmap\n",
    "correlation_matrix = Cleaned_data_5_CCB2[numerical_columns].corr()\n",
    "sns.heatmap(correlation_matrix, annot=True, cmap='coolwarm', fmt=\".2f\")\n",
    "plt.title('Correlation Matrix')\n",
    "plt.show()\n"
   ]
  },
  {
   "cell_type": "code",
   "execution_count": 38,
   "metadata": {},
   "outputs": [
    {
     "data": {
      "text/plain": [
       "array(['Pensioner', 'Commercial associate', 'Working', 'State servant'],\n",
       "      dtype=object)"
      ]
     },
     "execution_count": 38,
     "metadata": {},
     "output_type": "execute_result"
    }
   ],
   "source": [
    "Cleaned_data_5_CCB2[\"Income_Type\"].unique()"
   ]
  },
  {
   "cell_type": "markdown",
   "metadata": {},
   "source": [
    "## <span style=\"font-size: 25px; color: skyblue; font-weight: bold;\">4. Box plot represents the distribution of annual income for different income types"
   ]
  },
  {
   "cell_type": "code",
   "execution_count": 39,
   "metadata": {},
   "outputs": [
    {
     "data": {
      "image/png": "[encoded data removed]",
      "text/plain": [
       "<Figure size 1200x800 with 1 Axes>"
      ]
     },
     "metadata": {},
     "output_type": "display_data"
    }
   ],
   "source": [
    "sns.set(style=\"whitegrid\")\n",
    "\n",
    "# Create a box plot\n",
    "plt.figure(figsize=(12, 8))\n",
    "\n",
    "# Setting the background color\n",
    "background_color = 'lightgray'\n",
    "plt.gca().set_facecolor(background_color)\n",
    "plt.grid(color='white', linestyle='-', linewidth=1, alpha=0.2)\n",
    "\n",
    "sns.boxplot(x='Income_Type', y='Annual_Income', data=Cleaned_data_5_CCB2)\n",
    "\n",
    "plt.title('Box Plot of Annual Income by Income Type')\n",
    "plt.xlabel('Income Type')\n",
    "plt.ylabel('Annual Income')\n",
    "\n",
    "plt.show()\n"
   ]
  },
  {
   "cell_type": "markdown",
   "metadata": {},
   "source": [
    "# <span style=\"font-size: 35px; color: maroon; font-weight: bold;\">Ordinal Encoding</span>"
   ]
  },
  {
   "cell_type": "markdown",
   "metadata": {},
   "source": [
    "## <span style=\"font-size: 25px; color: skyblue; font-weight: bold;\">Looking for all values and what object/values does it contains."
   ]
  },
  {
   "cell_type": "code",
   "execution_count": 40,
   "metadata": {},
   "outputs": [
    {
     "name": "stdout",
     "output_type": "stream",
     "text": [
      "Unique values for Occupation_Type: ['Pensioner' 'Unknown' 'Core staff' 'Cooking staff' 'Laborers'\n",
      " 'Sales staff' 'Accountants' 'High skill tech staff' 'Managers'\n",
      " 'Cleaning staff' 'Drivers' 'Low-skill Laborers' 'IT staff'\n",
      " 'Waiters/barmen staff' 'Security staff' 'Medicine staff'\n",
      " 'Private service staff' 'HR staff' 'Secretaries' 'Realty agents'] \n",
      "\n",
      "Unique values for Car_Owner: ['Y' 'N'] \n",
      "\n",
      "Unique values for Property_Owner: ['Y' 'N'] \n",
      "\n",
      "Unique values for Housing_Type: ['House / apartment' 'With parents' 'Rented apartment'\n",
      " 'Municipal apartment' 'Co-op apartment' 'Office apartment'] \n",
      "\n",
      "Unique values for Education_Level: ['Higher education' 'Secondary / secondary special' 'Lower secondary'\n",
      " 'Incomplete higher' 'Academic degree'] \n",
      "\n",
      "Unique values for Income_Type: ['Pensioner' 'Commercial associate' 'Working' 'State servant'] \n",
      "\n",
      "Unique values for Gender: ['M' 'F'] \n",
      "\n",
      "Unique values for Marital_Status: ['Married' 'Single / not married' 'Civil marriage' 'Separated' 'Widow'] \n",
      "\n"
     ]
    }
   ],
   "source": [
    "# Unique values for Occupation_Type\n",
    "print(\"Unique values for Occupation_Type:\", Cleaned_data_5_B_CCB2['Occupation_Type'].unique(), \"\\n\")\n",
    "# Unique values for Car_Owner\n",
    "print(\"Unique values for Car_Owner:\", Cleaned_data_5_B_CCB2['Car_Owner'].unique(), \"\\n\")\n",
    "# Unique values for Property_Owner\n",
    "print(\"Unique values for Property_Owner:\", Cleaned_data_5_B_CCB2['Property_Owner'].unique(), \"\\n\")\n",
    "# Unique values for Housing_Type\n",
    "print(\"Unique values for Housing_Type:\", Cleaned_data_5_B_CCB2['Housing_Type'].unique(), \"\\n\")\n",
    "# Unique values for Education_Level\n",
    "print(\"Unique values for Education_Level:\", Cleaned_data_5_B_CCB2['Education_Level'].unique(), \"\\n\")\n",
    "# Unique values for Income_Type\n",
    "print(\"Unique values for Income_Type:\", Cleaned_data_5_B_CCB2['Income_Type'].unique(), \"\\n\")\n",
    "# Unique values for Gender\n",
    "print(\"Unique values for Gender:\", Cleaned_data_5_B_CCB2['Gender'].unique(), \"\\n\")\n",
    "# Unique values for Marital_Status\n",
    "print(\"Unique values for Marital_Status:\", Cleaned_data_5_B_CCB2['Marital_Status'].unique(), \"\\n\")"
   ]
  },
  {
   "cell_type": "markdown",
   "metadata": {},
   "source": [
    "## <span style=\"font-size: 25px; color: skyblue; font-weight: bold;\">LABEL ENCODING"
   ]
  },
  {
   "cell_type": "markdown",
   "metadata": {},
   "source": [
    "<span style=\"font-size: 18px; color: orange;\">The code conducts Label Encoding DataFrame columns,replacing categorical values with numerical counterparts using predefined dictionaries,preparing the data for machine learning models."
   ]
  },
  {
   "cell_type": "code",
   "execution_count": 41,
   "metadata": {},
   "outputs": [
    {
     "name": "stdout",
     "output_type": "stream",
     "text": [
      "   Individual_ID  Gender  Car_Owner  Property_Owner  Childrens  Annual_Income  \\\n",
      "0        5008827       1          1               1          0       180000.0   \n",
      "1        5009744       0          1               0          0       315000.0   \n",
      "2        5009746       0          1               0          0       315000.0   \n",
      "3        5009749       0          1               0          0       315000.0   \n",
      "4        5009752       0          1               0          0       315000.0   \n",
      "\n",
      "   Income_Type  Education_Level  Marital_Status  Housing_Type   Age  \\\n",
      "0            0                3               1             5  51.0   \n",
      "1            3                3               1             5  37.0   \n",
      "2            3                3               1             5  37.0   \n",
      "3            3                3               1             5  37.0   \n",
      "4            3                3               1             5  37.0   \n",
      "\n",
      "   Employment_Duration  Mobile_Phone  Work_Phone  Phone  Email_Address  \\\n",
      "0                 38.0             1           0      0              0   \n",
      "1                  2.0             1           1      1              0   \n",
      "2                  2.0             1           1      1              0   \n",
      "3                  2.0             1           1      1              0   \n",
      "4                  2.0             1           1      1              0   \n",
      "\n",
      "   Occupation_Type  Family_Members  Target_Label  \n",
      "0               19               2             1  \n",
      "1                0               2             1  \n",
      "2                0               2             1  \n",
      "3                0               2             1  \n",
      "4                0               2             1  \n"
     ]
    }
   ],
   "source": [
    "# List of columns to perform label encoding on\n",
    "columns_to_encode = ['Occupation_Type', 'Car_Owner', 'Income_Type', 'Housing_Type', 'Education_Level', 'Gender', 'Marital_Status', 'Property_Owner']\n",
    "\n",
    "# Define mapping dictionaries for each column\n",
    "occupation_type_mapping = {'Unknown': 0, 'Low-skill Laborers': 1, 'Cleaning staff': 2, 'Cooking staff': 3, 'Drivers': 4,\n",
    "                           'Security staff': 5, 'Waiters/barmen staff': 6, 'Laborers': 7, 'Private service staff': 8,\n",
    "                           'Realty agents': 9, 'Sales staff': 10, 'IT staff': 11, 'HR staff': 12, 'Accountants': 13,\n",
    "                           'Medicine staff': 14, 'High skill tech staff': 15, 'Core staff': 16,'Secretaries': 17,'Managers': 18,\n",
    "                           'Pensioner': 19}\n",
    "\n",
    "car_owner_mapping = {'N': 0, 'Y': 1}\n",
    "\n",
    "income_type_mapping = {'Pensioner': 0, 'State servant': 1, 'Working': 2, 'Commercial associate': 3}\n",
    "\n",
    "housing_type_mapping = {'With parents': 0, 'Rented apartment': 1, 'Municipal apartment': 2, 'Co-op apartment': 3,\n",
    "                        'Office apartment': 4, 'House / apartment': 5}\n",
    "\n",
    "education_mapping = {'Lower secondary': 0, 'Secondary / secondary special': 1, 'Incomplete higher': 2,\n",
    "                     'Higher education': 3, 'Academic degree': 4}\n",
    "\n",
    "gender_mapping = {'F': 0, 'M': 1}\n",
    "\n",
    "marital_status_mapping = {'Single / not married': 0, 'Married': 1, 'Civil marriage': 2, 'Separated': 3, 'Widow': 4}\n",
    "\n",
    "property_owner_mapping = {'N': 0, 'Y': 1}\n",
    "\n",
    "# Map the values using the defined dictionaries\n",
    "Cleaned_data_5_B_CCB2[columns_to_encode[0]] = Cleaned_data_5_B_CCB2[columns_to_encode[0]].map(occupation_type_mapping)\n",
    "Cleaned_data_5_B_CCB2[columns_to_encode[1]] = Cleaned_data_5_B_CCB2[columns_to_encode[1]].map(car_owner_mapping)\n",
    "Cleaned_data_5_B_CCB2[columns_to_encode[2]] = Cleaned_data_5_B_CCB2[columns_to_encode[2]].map(income_type_mapping)\n",
    "Cleaned_data_5_B_CCB2[columns_to_encode[3]] = Cleaned_data_5_B_CCB2[columns_to_encode[3]].map(housing_type_mapping)\n",
    "Cleaned_data_5_B_CCB2[columns_to_encode[4]] = Cleaned_data_5_B_CCB2[columns_to_encode[4]].map(education_mapping)\n",
    "Cleaned_data_5_B_CCB2[columns_to_encode[5]] = Cleaned_data_5_B_CCB2[columns_to_encode[5]].map(gender_mapping)\n",
    "Cleaned_data_5_B_CCB2[columns_to_encode[6]] = Cleaned_data_5_B_CCB2[columns_to_encode[6]].map(marital_status_mapping)\n",
    "Cleaned_data_5_B_CCB2[columns_to_encode[7]] = Cleaned_data_5_B_CCB2[columns_to_encode[7]].map(property_owner_mapping)\n",
    "\n",
    "# Display the updated DataFrame\n",
    "print(Cleaned_data_5_B_CCB2.head())"
   ]
  },
  {
   "cell_type": "code",
   "execution_count": 42,
   "metadata": {},
   "outputs": [
    {
     "name": "stdout",
     "output_type": "stream",
     "text": [
      "<class 'pandas.core.frame.DataFrame'>\n",
      "RangeIndex: 1548 entries, 0 to 1547\n",
      "Data columns (total 19 columns):\n",
      " #   Column               Non-Null Count  Dtype  \n",
      "---  ------               --------------  -----  \n",
      " 0   Individual_ID        1548 non-null   int64  \n",
      " 1   Gender               1548 non-null   int64  \n",
      " 2   Car_Owner            1548 non-null   int64  \n",
      " 3   Property_Owner       1548 non-null   int64  \n",
      " 4   Childrens            1548 non-null   int64  \n",
      " 5   Annual_Income        1548 non-null   float64\n",
      " 6   Income_Type          1548 non-null   int64  \n",
      " 7   Education_Level      1548 non-null   int64  \n",
      " 8   Marital_Status       1548 non-null   int64  \n",
      " 9   Housing_Type         1548 non-null   int64  \n",
      " 10  Age                  1548 non-null   float64\n",
      " 11  Employment_Duration  1548 non-null   float64\n",
      " 12  Mobile_Phone         1548 non-null   int64  \n",
      " 13  Work_Phone           1548 non-null   int64  \n",
      " 14  Phone                1548 non-null   int64  \n",
      " 15  Email_Address        1548 non-null   int64  \n",
      " 16  Occupation_Type      1548 non-null   int64  \n",
      " 17  Family_Members       1548 non-null   int64  \n",
      " 18  Target_Label         1548 non-null   int64  \n",
      "dtypes: float64(3), int64(16)\n",
      "memory usage: 229.9 KB\n"
     ]
    }
   ],
   "source": [
    "Cleaned_data_5_B_CCB2.info()"
   ]
  },
  {
   "cell_type": "code",
   "execution_count": 43,
   "metadata": {},
   "outputs": [],
   "source": [
    "Cleaned_data_5_B_CCB2.to_csv(\"Ordinal_Converted_6_CCB2.csv\",index=False)"
   ]
  },
  {
   "cell_type": "code",
   "execution_count": 44,
   "metadata": {},
   "outputs": [],
   "source": [
    "Ordinal_Converted_6_CCB2 = pd.read_csv(\"Ordinal_Converted_6_CCB2.csv\")"
   ]
  },
  {
   "cell_type": "code",
   "execution_count": 45,
   "metadata": {},
   "outputs": [
    {
     "data": {
      "text/html": [
       "<div>\n",
       "<style scoped>\n",
       "    .dataframe tbody tr th:only-of-type {\n",
       "        vertical-align: middle;\n",
       "    }\n",
       "\n",
       "    .dataframe tbody tr th {\n",
       "        vertical-align: top;\n",
       "    }\n",
       "\n",
       "    .dataframe thead th {\n",
       "        text-align: right;\n",
       "    }\n",
       "</style>\n",
       "<table border=\"1\" class=\"dataframe\">\n",
       "  <thead>\n",
       "    <tr style=\"text-align: right;\">\n",
       "      <th></th>\n",
       "      <th>Individual_ID</th>\n",
       "      <th>Gender</th>\n",
       "      <th>Car_Owner</th>\n",
       "      <th>Property_Owner</th>\n",
       "      <th>Childrens</th>\n",
       "      <th>Annual_Income</th>\n",
       "      <th>Income_Type</th>\n",
       "      <th>Education_Level</th>\n",
       "      <th>Marital_Status</th>\n",
       "      <th>Housing_Type</th>\n",
       "      <th>Age</th>\n",
       "      <th>Employment_Duration</th>\n",
       "      <th>Mobile_Phone</th>\n",
       "      <th>Work_Phone</th>\n",
       "      <th>Phone</th>\n",
       "      <th>Email_Address</th>\n",
       "      <th>Occupation_Type</th>\n",
       "      <th>Family_Members</th>\n",
       "      <th>Target_Label</th>\n",
       "    </tr>\n",
       "  </thead>\n",
       "  <tbody>\n",
       "    <tr>\n",
       "      <th>0</th>\n",
       "      <td>5008827</td>\n",
       "      <td>1</td>\n",
       "      <td>1</td>\n",
       "      <td>1</td>\n",
       "      <td>0</td>\n",
       "      <td>180000.0</td>\n",
       "      <td>0</td>\n",
       "      <td>3</td>\n",
       "      <td>1</td>\n",
       "      <td>5</td>\n",
       "      <td>51.0</td>\n",
       "      <td>38.0</td>\n",
       "      <td>1</td>\n",
       "      <td>0</td>\n",
       "      <td>0</td>\n",
       "      <td>0</td>\n",
       "      <td>19</td>\n",
       "      <td>2</td>\n",
       "      <td>1</td>\n",
       "    </tr>\n",
       "    <tr>\n",
       "      <th>1</th>\n",
       "      <td>5009744</td>\n",
       "      <td>0</td>\n",
       "      <td>1</td>\n",
       "      <td>0</td>\n",
       "      <td>0</td>\n",
       "      <td>315000.0</td>\n",
       "      <td>3</td>\n",
       "      <td>3</td>\n",
       "      <td>1</td>\n",
       "      <td>5</td>\n",
       "      <td>37.0</td>\n",
       "      <td>2.0</td>\n",
       "      <td>1</td>\n",
       "      <td>1</td>\n",
       "      <td>1</td>\n",
       "      <td>0</td>\n",
       "      <td>0</td>\n",
       "      <td>2</td>\n",
       "      <td>1</td>\n",
       "    </tr>\n",
       "    <tr>\n",
       "      <th>2</th>\n",
       "      <td>5009746</td>\n",
       "      <td>0</td>\n",
       "      <td>1</td>\n",
       "      <td>0</td>\n",
       "      <td>0</td>\n",
       "      <td>315000.0</td>\n",
       "      <td>3</td>\n",
       "      <td>3</td>\n",
       "      <td>1</td>\n",
       "      <td>5</td>\n",
       "      <td>37.0</td>\n",
       "      <td>2.0</td>\n",
       "      <td>1</td>\n",
       "      <td>1</td>\n",
       "      <td>1</td>\n",
       "      <td>0</td>\n",
       "      <td>0</td>\n",
       "      <td>2</td>\n",
       "      <td>1</td>\n",
       "    </tr>\n",
       "    <tr>\n",
       "      <th>3</th>\n",
       "      <td>5009749</td>\n",
       "      <td>0</td>\n",
       "      <td>1</td>\n",
       "      <td>0</td>\n",
       "      <td>0</td>\n",
       "      <td>315000.0</td>\n",
       "      <td>3</td>\n",
       "      <td>3</td>\n",
       "      <td>1</td>\n",
       "      <td>5</td>\n",
       "      <td>37.0</td>\n",
       "      <td>2.0</td>\n",
       "      <td>1</td>\n",
       "      <td>1</td>\n",
       "      <td>1</td>\n",
       "      <td>0</td>\n",
       "      <td>0</td>\n",
       "      <td>2</td>\n",
       "      <td>1</td>\n",
       "    </tr>\n",
       "    <tr>\n",
       "      <th>4</th>\n",
       "      <td>5009752</td>\n",
       "      <td>0</td>\n",
       "      <td>1</td>\n",
       "      <td>0</td>\n",
       "      <td>0</td>\n",
       "      <td>315000.0</td>\n",
       "      <td>3</td>\n",
       "      <td>3</td>\n",
       "      <td>1</td>\n",
       "      <td>5</td>\n",
       "      <td>37.0</td>\n",
       "      <td>2.0</td>\n",
       "      <td>1</td>\n",
       "      <td>1</td>\n",
       "      <td>1</td>\n",
       "      <td>0</td>\n",
       "      <td>0</td>\n",
       "      <td>2</td>\n",
       "      <td>1</td>\n",
       "    </tr>\n",
       "  </tbody>\n",
       "</table>\n",
       "</div>"
      ],
      "text/plain": [
       "   Individual_ID  Gender  Car_Owner  Property_Owner  Childrens  Annual_Income  \\\n",
       "0        5008827       1          1               1          0       180000.0   \n",
       "1        5009744       0          1               0          0       315000.0   \n",
       "2        5009746       0          1               0          0       315000.0   \n",
       "3        5009749       0          1               0          0       315000.0   \n",
       "4        5009752       0          1               0          0       315000.0   \n",
       "\n",
       "   Income_Type  Education_Level  Marital_Status  Housing_Type   Age  \\\n",
       "0            0                3               1             5  51.0   \n",
       "1            3                3               1             5  37.0   \n",
       "2            3                3               1             5  37.0   \n",
       "3            3                3               1             5  37.0   \n",
       "4            3                3               1             5  37.0   \n",
       "\n",
       "   Employment_Duration  Mobile_Phone  Work_Phone  Phone  Email_Address  \\\n",
       "0                 38.0             1           0      0              0   \n",
       "1                  2.0             1           1      1              0   \n",
       "2                  2.0             1           1      1              0   \n",
       "3                  2.0             1           1      1              0   \n",
       "4                  2.0             1           1      1              0   \n",
       "\n",
       "   Occupation_Type  Family_Members  Target_Label  \n",
       "0               19               2             1  \n",
       "1                0               2             1  \n",
       "2                0               2             1  \n",
       "3                0               2             1  \n",
       "4                0               2             1  "
      ]
     },
     "execution_count": 45,
     "metadata": {},
     "output_type": "execute_result"
    }
   ],
   "source": [
    "Ordinal_Converted_6_CCB2.head()"
   ]
  },
  {
   "cell_type": "code",
   "execution_count": 46,
   "metadata": {},
   "outputs": [
    {
     "name": "stdout",
     "output_type": "stream",
     "text": [
      "<class 'pandas.core.frame.DataFrame'>\n",
      "RangeIndex: 1548 entries, 0 to 1547\n",
      "Data columns (total 19 columns):\n",
      " #   Column               Non-Null Count  Dtype  \n",
      "---  ------               --------------  -----  \n",
      " 0   Individual_ID        1548 non-null   int64  \n",
      " 1   Gender               1548 non-null   int64  \n",
      " 2   Car_Owner            1548 non-null   int64  \n",
      " 3   Property_Owner       1548 non-null   int64  \n",
      " 4   Childrens            1548 non-null   int64  \n",
      " 5   Annual_Income        1548 non-null   float64\n",
      " 6   Income_Type          1548 non-null   int64  \n",
      " 7   Education_Level      1548 non-null   int64  \n",
      " 8   Marital_Status       1548 non-null   int64  \n",
      " 9   Housing_Type         1548 non-null   int64  \n",
      " 10  Age                  1548 non-null   float64\n",
      " 11  Employment_Duration  1548 non-null   float64\n",
      " 12  Mobile_Phone         1548 non-null   int64  \n",
      " 13  Work_Phone           1548 non-null   int64  \n",
      " 14  Phone                1548 non-null   int64  \n",
      " 15  Email_Address        1548 non-null   int64  \n",
      " 16  Occupation_Type      1548 non-null   int64  \n",
      " 17  Family_Members       1548 non-null   int64  \n",
      " 18  Target_Label         1548 non-null   int64  \n",
      "dtypes: float64(3), int64(16)\n",
      "memory usage: 229.9 KB\n"
     ]
    }
   ],
   "source": [
    "Ordinal_Converted_6_CCB2.info()"
   ]
  },
  {
   "cell_type": "code",
   "execution_count": 47,
   "metadata": {},
   "outputs": [
    {
     "data": {
      "text/plain": [
       "Individual_ID          0\n",
       "Gender                 0\n",
       "Car_Owner              0\n",
       "Property_Owner         0\n",
       "Childrens              0\n",
       "Annual_Income          0\n",
       "Income_Type            0\n",
       "Education_Level        0\n",
       "Marital_Status         0\n",
       "Housing_Type           0\n",
       "Age                    0\n",
       "Employment_Duration    0\n",
       "Mobile_Phone           0\n",
       "Work_Phone             0\n",
       "Phone                  0\n",
       "Email_Address          0\n",
       "Occupation_Type        0\n",
       "Family_Members         0\n",
       "Target_Label           0\n",
       "dtype: int64"
      ]
     },
     "execution_count": 47,
     "metadata": {},
     "output_type": "execute_result"
    }
   ],
   "source": [
    "Ordinal_Converted_6_CCB2.isnull().sum()"
   ]
  },
  {
   "cell_type": "markdown",
   "metadata": {},
   "source": [
    "# <span style=\"font-size: 35px; color: maroon; font-weight: bold;\">Feature Selection"
   ]
  },
  {
   "cell_type": "markdown",
   "metadata": {},
   "source": [
    "## <span style=\"font-size: 25px; color: skyblue; font-weight: bold;\">Further we will be using the \"Ordinal_Converted_6_CCB2.csv\" Dataset for prediction</span>"
   ]
  },
  {
   "cell_type": "code",
   "execution_count": 48,
   "metadata": {},
   "outputs": [],
   "source": [
    "Ordinal_Converted_6_CCB2 = pd.read_csv(\"Ordinal_Converted_6_CCB2.csv\")"
   ]
  },
  {
   "cell_type": "code",
   "execution_count": 49,
   "metadata": {},
   "outputs": [],
   "source": [
    "df4 = pd.read_csv(\"Ordinal_Converted_6_CCB2.csv\")"
   ]
  },
  {
   "cell_type": "code",
   "execution_count": 50,
   "metadata": {},
   "outputs": [
    {
     "data": {
      "text/plain": [
       "Individual_ID          0\n",
       "Gender                 0\n",
       "Car_Owner              0\n",
       "Property_Owner         0\n",
       "Childrens              0\n",
       "Annual_Income          0\n",
       "Income_Type            0\n",
       "Education_Level        0\n",
       "Marital_Status         0\n",
       "Housing_Type           0\n",
       "Age                    0\n",
       "Employment_Duration    0\n",
       "Mobile_Phone           0\n",
       "Work_Phone             0\n",
       "Phone                  0\n",
       "Email_Address          0\n",
       "Occupation_Type        0\n",
       "Family_Members         0\n",
       "Target_Label           0\n",
       "dtype: int64"
      ]
     },
     "execution_count": 50,
     "metadata": {},
     "output_type": "execute_result"
    }
   ],
   "source": [
    "df4.isnull().sum()"
   ]
  },
  {
   "cell_type": "code",
   "execution_count": 51,
   "metadata": {},
   "outputs": [
    {
     "data": {
      "text/html": [
       "<div>\n",
       "<style scoped>\n",
       "    .dataframe tbody tr th:only-of-type {\n",
       "        vertical-align: middle;\n",
       "    }\n",
       "\n",
       "    .dataframe tbody tr th {\n",
       "        vertical-align: top;\n",
       "    }\n",
       "\n",
       "    .dataframe thead th {\n",
       "        text-align: right;\n",
       "    }\n",
       "</style>\n",
       "<table border=\"1\" class=\"dataframe\">\n",
       "  <thead>\n",
       "    <tr style=\"text-align: right;\">\n",
       "      <th></th>\n",
       "      <th>Individual_ID</th>\n",
       "      <th>Gender</th>\n",
       "      <th>Car_Owner</th>\n",
       "      <th>Property_Owner</th>\n",
       "      <th>Childrens</th>\n",
       "      <th>Annual_Income</th>\n",
       "      <th>Income_Type</th>\n",
       "      <th>Education_Level</th>\n",
       "      <th>Marital_Status</th>\n",
       "      <th>Housing_Type</th>\n",
       "      <th>Age</th>\n",
       "      <th>Employment_Duration</th>\n",
       "      <th>Mobile_Phone</th>\n",
       "      <th>Work_Phone</th>\n",
       "      <th>Phone</th>\n",
       "      <th>Email_Address</th>\n",
       "      <th>Occupation_Type</th>\n",
       "      <th>Family_Members</th>\n",
       "      <th>Target_Label</th>\n",
       "    </tr>\n",
       "  </thead>\n",
       "  <tbody>\n",
       "    <tr>\n",
       "      <th>0</th>\n",
       "      <td>5008827</td>\n",
       "      <td>1</td>\n",
       "      <td>1</td>\n",
       "      <td>1</td>\n",
       "      <td>0</td>\n",
       "      <td>180000.0</td>\n",
       "      <td>0</td>\n",
       "      <td>3</td>\n",
       "      <td>1</td>\n",
       "      <td>5</td>\n",
       "      <td>51.0</td>\n",
       "      <td>38.0</td>\n",
       "      <td>1</td>\n",
       "      <td>0</td>\n",
       "      <td>0</td>\n",
       "      <td>0</td>\n",
       "      <td>19</td>\n",
       "      <td>2</td>\n",
       "      <td>1</td>\n",
       "    </tr>\n",
       "    <tr>\n",
       "      <th>1</th>\n",
       "      <td>5009744</td>\n",
       "      <td>0</td>\n",
       "      <td>1</td>\n",
       "      <td>0</td>\n",
       "      <td>0</td>\n",
       "      <td>315000.0</td>\n",
       "      <td>3</td>\n",
       "      <td>3</td>\n",
       "      <td>1</td>\n",
       "      <td>5</td>\n",
       "      <td>37.0</td>\n",
       "      <td>2.0</td>\n",
       "      <td>1</td>\n",
       "      <td>1</td>\n",
       "      <td>1</td>\n",
       "      <td>0</td>\n",
       "      <td>0</td>\n",
       "      <td>2</td>\n",
       "      <td>1</td>\n",
       "    </tr>\n",
       "    <tr>\n",
       "      <th>2</th>\n",
       "      <td>5009746</td>\n",
       "      <td>0</td>\n",
       "      <td>1</td>\n",
       "      <td>0</td>\n",
       "      <td>0</td>\n",
       "      <td>315000.0</td>\n",
       "      <td>3</td>\n",
       "      <td>3</td>\n",
       "      <td>1</td>\n",
       "      <td>5</td>\n",
       "      <td>37.0</td>\n",
       "      <td>2.0</td>\n",
       "      <td>1</td>\n",
       "      <td>1</td>\n",
       "      <td>1</td>\n",
       "      <td>0</td>\n",
       "      <td>0</td>\n",
       "      <td>2</td>\n",
       "      <td>1</td>\n",
       "    </tr>\n",
       "    <tr>\n",
       "      <th>3</th>\n",
       "      <td>5009749</td>\n",
       "      <td>0</td>\n",
       "      <td>1</td>\n",
       "      <td>0</td>\n",
       "      <td>0</td>\n",
       "      <td>315000.0</td>\n",
       "      <td>3</td>\n",
       "      <td>3</td>\n",
       "      <td>1</td>\n",
       "      <td>5</td>\n",
       "      <td>37.0</td>\n",
       "      <td>2.0</td>\n",
       "      <td>1</td>\n",
       "      <td>1</td>\n",
       "      <td>1</td>\n",
       "      <td>0</td>\n",
       "      <td>0</td>\n",
       "      <td>2</td>\n",
       "      <td>1</td>\n",
       "    </tr>\n",
       "    <tr>\n",
       "      <th>4</th>\n",
       "      <td>5009752</td>\n",
       "      <td>0</td>\n",
       "      <td>1</td>\n",
       "      <td>0</td>\n",
       "      <td>0</td>\n",
       "      <td>315000.0</td>\n",
       "      <td>3</td>\n",
       "      <td>3</td>\n",
       "      <td>1</td>\n",
       "      <td>5</td>\n",
       "      <td>37.0</td>\n",
       "      <td>2.0</td>\n",
       "      <td>1</td>\n",
       "      <td>1</td>\n",
       "      <td>1</td>\n",
       "      <td>0</td>\n",
       "      <td>0</td>\n",
       "      <td>2</td>\n",
       "      <td>1</td>\n",
       "    </tr>\n",
       "  </tbody>\n",
       "</table>\n",
       "</div>"
      ],
      "text/plain": [
       "   Individual_ID  Gender  Car_Owner  Property_Owner  Childrens  Annual_Income  \\\n",
       "0        5008827       1          1               1          0       180000.0   \n",
       "1        5009744       0          1               0          0       315000.0   \n",
       "2        5009746       0          1               0          0       315000.0   \n",
       "3        5009749       0          1               0          0       315000.0   \n",
       "4        5009752       0          1               0          0       315000.0   \n",
       "\n",
       "   Income_Type  Education_Level  Marital_Status  Housing_Type   Age  \\\n",
       "0            0                3               1             5  51.0   \n",
       "1            3                3               1             5  37.0   \n",
       "2            3                3               1             5  37.0   \n",
       "3            3                3               1             5  37.0   \n",
       "4            3                3               1             5  37.0   \n",
       "\n",
       "   Employment_Duration  Mobile_Phone  Work_Phone  Phone  Email_Address  \\\n",
       "0                 38.0             1           0      0              0   \n",
       "1                  2.0             1           1      1              0   \n",
       "2                  2.0             1           1      1              0   \n",
       "3                  2.0             1           1      1              0   \n",
       "4                  2.0             1           1      1              0   \n",
       "\n",
       "   Occupation_Type  Family_Members  Target_Label  \n",
       "0               19               2             1  \n",
       "1                0               2             1  \n",
       "2                0               2             1  \n",
       "3                0               2             1  \n",
       "4                0               2             1  "
      ]
     },
     "execution_count": 51,
     "metadata": {},
     "output_type": "execute_result"
    }
   ],
   "source": [
    "df4.head()"
   ]
  },
  {
   "cell_type": "code",
   "execution_count": 52,
   "metadata": {},
   "outputs": [
    {
     "name": "stdout",
     "output_type": "stream",
     "text": [
      "<class 'pandas.core.frame.DataFrame'>\n",
      "RangeIndex: 1548 entries, 0 to 1547\n",
      "Data columns (total 19 columns):\n",
      " #   Column               Non-Null Count  Dtype  \n",
      "---  ------               --------------  -----  \n",
      " 0   Individual_ID        1548 non-null   int64  \n",
      " 1   Gender               1548 non-null   int64  \n",
      " 2   Car_Owner            1548 non-null   int64  \n",
      " 3   Property_Owner       1548 non-null   int64  \n",
      " 4   Childrens            1548 non-null   int64  \n",
      " 5   Annual_Income        1548 non-null   float64\n",
      " 6   Income_Type          1548 non-null   int64  \n",
      " 7   Education_Level      1548 non-null   int64  \n",
      " 8   Marital_Status       1548 non-null   int64  \n",
      " 9   Housing_Type         1548 non-null   int64  \n",
      " 10  Age                  1548 non-null   float64\n",
      " 11  Employment_Duration  1548 non-null   float64\n",
      " 12  Mobile_Phone         1548 non-null   int64  \n",
      " 13  Work_Phone           1548 non-null   int64  \n",
      " 14  Phone                1548 non-null   int64  \n",
      " 15  Email_Address        1548 non-null   int64  \n",
      " 16  Occupation_Type      1548 non-null   int64  \n",
      " 17  Family_Members       1548 non-null   int64  \n",
      " 18  Target_Label         1548 non-null   int64  \n",
      "dtypes: float64(3), int64(16)\n",
      "memory usage: 229.9 KB\n"
     ]
    }
   ],
   "source": [
    "df4.info()"
   ]
  },
  {
   "cell_type": "code",
   "execution_count": 53,
   "metadata": {},
   "outputs": [
    {
     "data": {
      "text/plain": [
       "<Axes: >"
      ]
     },
     "execution_count": 53,
     "metadata": {},
     "output_type": "execute_result"
    },
    {
     "data": {
      "image/png": "[encoded data removed]",
      "text/plain": [
       "<Figure size 1500x1200 with 2 Axes>"
      ]
     },
     "metadata": {},
     "output_type": "display_data"
    }
   ],
   "source": [
    "plt.figure(figsize=(15,12))\n",
    "sns.heatmap(df4.corr(), annot=False, cmap = \"RdBu\")"
   ]
  },
  {
   "cell_type": "markdown",
   "metadata": {},
   "source": [
    "# <span style=\"font-size: 35px; color: maroon; font-weight: bold;\">Input and Output Data"
   ]
  },
  {
   "cell_type": "code",
   "execution_count": 54,
   "metadata": {},
   "outputs": [
    {
     "data": {
      "text/html": [
       "<div>\n",
       "<style scoped>\n",
       "    .dataframe tbody tr th:only-of-type {\n",
       "        vertical-align: middle;\n",
       "    }\n",
       "\n",
       "    .dataframe tbody tr th {\n",
       "        vertical-align: top;\n",
       "    }\n",
       "\n",
       "    .dataframe thead th {\n",
       "        text-align: right;\n",
       "    }\n",
       "</style>\n",
       "<table border=\"1\" class=\"dataframe\">\n",
       "  <thead>\n",
       "    <tr style=\"text-align: right;\">\n",
       "      <th></th>\n",
       "      <th>Individual_ID</th>\n",
       "      <th>Gender</th>\n",
       "      <th>Car_Owner</th>\n",
       "      <th>Property_Owner</th>\n",
       "      <th>Childrens</th>\n",
       "      <th>Annual_Income</th>\n",
       "      <th>Income_Type</th>\n",
       "      <th>Education_Level</th>\n",
       "      <th>Marital_Status</th>\n",
       "      <th>Housing_Type</th>\n",
       "      <th>Age</th>\n",
       "      <th>Employment_Duration</th>\n",
       "      <th>Mobile_Phone</th>\n",
       "      <th>Work_Phone</th>\n",
       "      <th>Phone</th>\n",
       "      <th>Email_Address</th>\n",
       "      <th>Occupation_Type</th>\n",
       "      <th>Family_Members</th>\n",
       "      <th>Target_Label</th>\n",
       "    </tr>\n",
       "  </thead>\n",
       "  <tbody>\n",
       "    <tr>\n",
       "      <th>0</th>\n",
       "      <td>5008827</td>\n",
       "      <td>1</td>\n",
       "      <td>1</td>\n",
       "      <td>1</td>\n",
       "      <td>0</td>\n",
       "      <td>180000.0</td>\n",
       "      <td>0</td>\n",
       "      <td>3</td>\n",
       "      <td>1</td>\n",
       "      <td>5</td>\n",
       "      <td>51.0</td>\n",
       "      <td>38.0</td>\n",
       "      <td>1</td>\n",
       "      <td>0</td>\n",
       "      <td>0</td>\n",
       "      <td>0</td>\n",
       "      <td>19</td>\n",
       "      <td>2</td>\n",
       "      <td>1</td>\n",
       "    </tr>\n",
       "    <tr>\n",
       "      <th>1</th>\n",
       "      <td>5009744</td>\n",
       "      <td>0</td>\n",
       "      <td>1</td>\n",
       "      <td>0</td>\n",
       "      <td>0</td>\n",
       "      <td>315000.0</td>\n",
       "      <td>3</td>\n",
       "      <td>3</td>\n",
       "      <td>1</td>\n",
       "      <td>5</td>\n",
       "      <td>37.0</td>\n",
       "      <td>2.0</td>\n",
       "      <td>1</td>\n",
       "      <td>1</td>\n",
       "      <td>1</td>\n",
       "      <td>0</td>\n",
       "      <td>0</td>\n",
       "      <td>2</td>\n",
       "      <td>1</td>\n",
       "    </tr>\n",
       "    <tr>\n",
       "      <th>2</th>\n",
       "      <td>5009746</td>\n",
       "      <td>0</td>\n",
       "      <td>1</td>\n",
       "      <td>0</td>\n",
       "      <td>0</td>\n",
       "      <td>315000.0</td>\n",
       "      <td>3</td>\n",
       "      <td>3</td>\n",
       "      <td>1</td>\n",
       "      <td>5</td>\n",
       "      <td>37.0</td>\n",
       "      <td>2.0</td>\n",
       "      <td>1</td>\n",
       "      <td>1</td>\n",
       "      <td>1</td>\n",
       "      <td>0</td>\n",
       "      <td>0</td>\n",
       "      <td>2</td>\n",
       "      <td>1</td>\n",
       "    </tr>\n",
       "    <tr>\n",
       "      <th>3</th>\n",
       "      <td>5009749</td>\n",
       "      <td>0</td>\n",
       "      <td>1</td>\n",
       "      <td>0</td>\n",
       "      <td>0</td>\n",
       "      <td>315000.0</td>\n",
       "      <td>3</td>\n",
       "      <td>3</td>\n",
       "      <td>1</td>\n",
       "      <td>5</td>\n",
       "      <td>37.0</td>\n",
       "      <td>2.0</td>\n",
       "      <td>1</td>\n",
       "      <td>1</td>\n",
       "      <td>1</td>\n",
       "      <td>0</td>\n",
       "      <td>0</td>\n",
       "      <td>2</td>\n",
       "      <td>1</td>\n",
       "    </tr>\n",
       "    <tr>\n",
       "      <th>4</th>\n",
       "      <td>5009752</td>\n",
       "      <td>0</td>\n",
       "      <td>1</td>\n",
       "      <td>0</td>\n",
       "      <td>0</td>\n",
       "      <td>315000.0</td>\n",
       "      <td>3</td>\n",
       "      <td>3</td>\n",
       "      <td>1</td>\n",
       "      <td>5</td>\n",
       "      <td>37.0</td>\n",
       "      <td>2.0</td>\n",
       "      <td>1</td>\n",
       "      <td>1</td>\n",
       "      <td>1</td>\n",
       "      <td>0</td>\n",
       "      <td>0</td>\n",
       "      <td>2</td>\n",
       "      <td>1</td>\n",
       "    </tr>\n",
       "  </tbody>\n",
       "</table>\n",
       "</div>"
      ],
      "text/plain": [
       "   Individual_ID  Gender  Car_Owner  Property_Owner  Childrens  Annual_Income  \\\n",
       "0        5008827       1          1               1          0       180000.0   \n",
       "1        5009744       0          1               0          0       315000.0   \n",
       "2        5009746       0          1               0          0       315000.0   \n",
       "3        5009749       0          1               0          0       315000.0   \n",
       "4        5009752       0          1               0          0       315000.0   \n",
       "\n",
       "   Income_Type  Education_Level  Marital_Status  Housing_Type   Age  \\\n",
       "0            0                3               1             5  51.0   \n",
       "1            3                3               1             5  37.0   \n",
       "2            3                3               1             5  37.0   \n",
       "3            3                3               1             5  37.0   \n",
       "4            3                3               1             5  37.0   \n",
       "\n",
       "   Employment_Duration  Mobile_Phone  Work_Phone  Phone  Email_Address  \\\n",
       "0                 38.0             1           0      0              0   \n",
       "1                  2.0             1           1      1              0   \n",
       "2                  2.0             1           1      1              0   \n",
       "3                  2.0             1           1      1              0   \n",
       "4                  2.0             1           1      1              0   \n",
       "\n",
       "   Occupation_Type  Family_Members  Target_Label  \n",
       "0               19               2             1  \n",
       "1                0               2             1  \n",
       "2                0               2             1  \n",
       "3                0               2             1  \n",
       "4                0               2             1  "
      ]
     },
     "execution_count": 54,
     "metadata": {},
     "output_type": "execute_result"
    }
   ],
   "source": [
    "df4.head()"
   ]
  },
  {
   "cell_type": "code",
   "execution_count": 55,
   "metadata": {},
   "outputs": [],
   "source": [
    "X = df4.drop(columns=['Target_Label','Individual_ID'] ,axis = 1)\n",
    "y = df4['Target_Label']"
   ]
  },
  {
   "cell_type": "code",
   "execution_count": 56,
   "metadata": {},
   "outputs": [],
   "source": [
    "from sklearn.preprocessing import MinMaxScaler\n",
    "\n",
    "x = pd.DataFrame(MinMaxScaler().fit_transform(X))\n"
   ]
  },
  {
   "cell_type": "code",
   "execution_count": 57,
   "metadata": {},
   "outputs": [
    {
     "data": {
      "text/html": [
       "<div>\n",
       "<style scoped>\n",
       "    .dataframe tbody tr th:only-of-type {\n",
       "        vertical-align: middle;\n",
       "    }\n",
       "\n",
       "    .dataframe tbody tr th {\n",
       "        vertical-align: top;\n",
       "    }\n",
       "\n",
       "    .dataframe thead th {\n",
       "        text-align: right;\n",
       "    }\n",
       "</style>\n",
       "<table border=\"1\" class=\"dataframe\">\n",
       "  <thead>\n",
       "    <tr style=\"text-align: right;\">\n",
       "      <th></th>\n",
       "      <th>0</th>\n",
       "      <th>1</th>\n",
       "      <th>2</th>\n",
       "      <th>3</th>\n",
       "      <th>4</th>\n",
       "      <th>5</th>\n",
       "      <th>6</th>\n",
       "      <th>7</th>\n",
       "      <th>8</th>\n",
       "      <th>9</th>\n",
       "      <th>10</th>\n",
       "      <th>11</th>\n",
       "      <th>12</th>\n",
       "      <th>13</th>\n",
       "      <th>14</th>\n",
       "      <th>15</th>\n",
       "      <th>16</th>\n",
       "    </tr>\n",
       "  </thead>\n",
       "  <tbody>\n",
       "    <tr>\n",
       "      <th>0</th>\n",
       "      <td>1.0</td>\n",
       "      <td>1.0</td>\n",
       "      <td>1.0</td>\n",
       "      <td>0.0</td>\n",
       "      <td>0.094891</td>\n",
       "      <td>0.0</td>\n",
       "      <td>0.75</td>\n",
       "      <td>0.25</td>\n",
       "      <td>1.0</td>\n",
       "      <td>0.638298</td>\n",
       "      <td>1.000000</td>\n",
       "      <td>0.0</td>\n",
       "      <td>0.0</td>\n",
       "      <td>0.0</td>\n",
       "      <td>0.0</td>\n",
       "      <td>1.0</td>\n",
       "      <td>0.071429</td>\n",
       "    </tr>\n",
       "    <tr>\n",
       "      <th>1</th>\n",
       "      <td>0.0</td>\n",
       "      <td>1.0</td>\n",
       "      <td>0.0</td>\n",
       "      <td>0.0</td>\n",
       "      <td>0.182482</td>\n",
       "      <td>1.0</td>\n",
       "      <td>0.75</td>\n",
       "      <td>0.25</td>\n",
       "      <td>1.0</td>\n",
       "      <td>0.340426</td>\n",
       "      <td>0.052632</td>\n",
       "      <td>0.0</td>\n",
       "      <td>1.0</td>\n",
       "      <td>1.0</td>\n",
       "      <td>0.0</td>\n",
       "      <td>0.0</td>\n",
       "      <td>0.071429</td>\n",
       "    </tr>\n",
       "    <tr>\n",
       "      <th>2</th>\n",
       "      <td>0.0</td>\n",
       "      <td>1.0</td>\n",
       "      <td>0.0</td>\n",
       "      <td>0.0</td>\n",
       "      <td>0.182482</td>\n",
       "      <td>1.0</td>\n",
       "      <td>0.75</td>\n",
       "      <td>0.25</td>\n",
       "      <td>1.0</td>\n",
       "      <td>0.340426</td>\n",
       "      <td>0.052632</td>\n",
       "      <td>0.0</td>\n",
       "      <td>1.0</td>\n",
       "      <td>1.0</td>\n",
       "      <td>0.0</td>\n",
       "      <td>0.0</td>\n",
       "      <td>0.071429</td>\n",
       "    </tr>\n",
       "    <tr>\n",
       "      <th>3</th>\n",
       "      <td>0.0</td>\n",
       "      <td>1.0</td>\n",
       "      <td>0.0</td>\n",
       "      <td>0.0</td>\n",
       "      <td>0.182482</td>\n",
       "      <td>1.0</td>\n",
       "      <td>0.75</td>\n",
       "      <td>0.25</td>\n",
       "      <td>1.0</td>\n",
       "      <td>0.340426</td>\n",
       "      <td>0.052632</td>\n",
       "      <td>0.0</td>\n",
       "      <td>1.0</td>\n",
       "      <td>1.0</td>\n",
       "      <td>0.0</td>\n",
       "      <td>0.0</td>\n",
       "      <td>0.071429</td>\n",
       "    </tr>\n",
       "    <tr>\n",
       "      <th>4</th>\n",
       "      <td>0.0</td>\n",
       "      <td>1.0</td>\n",
       "      <td>0.0</td>\n",
       "      <td>0.0</td>\n",
       "      <td>0.182482</td>\n",
       "      <td>1.0</td>\n",
       "      <td>0.75</td>\n",
       "      <td>0.25</td>\n",
       "      <td>1.0</td>\n",
       "      <td>0.340426</td>\n",
       "      <td>0.052632</td>\n",
       "      <td>0.0</td>\n",
       "      <td>1.0</td>\n",
       "      <td>1.0</td>\n",
       "      <td>0.0</td>\n",
       "      <td>0.0</td>\n",
       "      <td>0.071429</td>\n",
       "    </tr>\n",
       "  </tbody>\n",
       "</table>\n",
       "</div>"
      ],
      "text/plain": [
       "    0    1    2    3         4    5     6     7    8         9         10  \\\n",
       "0  1.0  1.0  1.0  0.0  0.094891  0.0  0.75  0.25  1.0  0.638298  1.000000   \n",
       "1  0.0  1.0  0.0  0.0  0.182482  1.0  0.75  0.25  1.0  0.340426  0.052632   \n",
       "2  0.0  1.0  0.0  0.0  0.182482  1.0  0.75  0.25  1.0  0.340426  0.052632   \n",
       "3  0.0  1.0  0.0  0.0  0.182482  1.0  0.75  0.25  1.0  0.340426  0.052632   \n",
       "4  0.0  1.0  0.0  0.0  0.182482  1.0  0.75  0.25  1.0  0.340426  0.052632   \n",
       "\n",
       "    11   12   13   14   15        16  \n",
       "0  0.0  0.0  0.0  0.0  1.0  0.071429  \n",
       "1  0.0  1.0  1.0  0.0  0.0  0.071429  \n",
       "2  0.0  1.0  1.0  0.0  0.0  0.071429  \n",
       "3  0.0  1.0  1.0  0.0  0.0  0.071429  \n",
       "4  0.0  1.0  1.0  0.0  0.0  0.071429  "
      ]
     },
     "execution_count": 57,
     "metadata": {},
     "output_type": "execute_result"
    }
   ],
   "source": [
    "x.head()"
   ]
  },
  {
   "cell_type": "markdown",
   "metadata": {},
   "source": [
    "# <span style=\"font-size: 35px; color: maroon; font-weight: bold;\">Feature Selection with Extra Tree Classifier - Most important Features"
   ]
  },
  {
   "cell_type": "code",
   "execution_count": 58,
   "metadata": {},
   "outputs": [
    {
     "data": {
      "text/html": [
       "<style>#sk-container-id-1 {color: black;}#sk-container-id-1 pre{padding: 0;}#sk-container-id-1 div.sk-toggleable {background-color: white;}#sk-container-id-1 label.sk-toggleable__label {cursor: pointer;display: block;width: 100%;margin-bottom: 0;padding: 0.3em;box-sizing: border-box;text-align: center;}#sk-container-id-1 label.sk-toggleable__label-arrow:before {content: \"▸\";float: left;margin-right: 0.25em;color: #696969;}#sk-container-id-1 label.sk-toggleable__label-arrow:hover:before {color: black;}#sk-container-id-1 div.sk-estimator:hover label.sk-toggleable__label-arrow:before {color: black;}#sk-container-id-1 div.sk-toggleable__content {max-height: 0;max-width: 0;overflow: hidden;text-align: left;background-color: #f0f8ff;}#sk-container-id-1 div.sk-toggleable__content pre {margin: 0.2em;color: black;border-radius: 0.25em;background-color: #f0f8ff;}#sk-container-id-1 input.sk-toggleable__control:checked~div.sk-toggleable__content {max-height: 200px;max-width: 100%;overflow: auto;}#sk-container-id-1 input.sk-toggleable__control:checked~label.sk-toggleable__label-arrow:before {content: \"▾\";}#sk-container-id-1 div.sk-estimator input.sk-toggleable__control:checked~label.sk-toggleable__label {background-color: #d4ebff;}#sk-container-id-1 div.sk-label input.sk-toggleable__control:checked~label.sk-toggleable__label {background-color: #d4ebff;}#sk-container-id-1 input.sk-hidden--visually {border: 0;clip: rect(1px 1px 1px 1px);clip: rect(1px, 1px, 1px, 1px);height: 1px;margin: -1px;overflow: hidden;padding: 0;position: absolute;width: 1px;}#sk-container-id-1 div.sk-estimator {font-family: monospace;background-color: #f0f8ff;border: 1px dotted black;border-radius: 0.25em;box-sizing: border-box;margin-bottom: 0.5em;}#sk-container-id-1 div.sk-estimator:hover {background-color: #d4ebff;}#sk-container-id-1 div.sk-parallel-item::after {content: \"\";width: 100%;border-bottom: 1px solid gray;flex-grow: 1;}#sk-container-id-1 div.sk-label:hover label.sk-toggleable__label {background-color: #d4ebff;}#sk-container-id-1 div.sk-serial::before {content: \"\";position: absolute;border-left: 1px solid gray;box-sizing: border-box;top: 0;bottom: 0;left: 50%;z-index: 0;}#sk-container-id-1 div.sk-serial {display: flex;flex-direction: column;align-items: center;background-color: white;padding-right: 0.2em;padding-left: 0.2em;position: relative;}#sk-container-id-1 div.sk-item {position: relative;z-index: 1;}#sk-container-id-1 div.sk-parallel {display: flex;align-items: stretch;justify-content: center;background-color: white;position: relative;}#sk-container-id-1 div.sk-item::before, #sk-container-id-1 div.sk-parallel-item::before {content: \"\";position: absolute;border-left: 1px solid gray;box-sizing: border-box;top: 0;bottom: 0;left: 50%;z-index: -1;}#sk-container-id-1 div.sk-parallel-item {display: flex;flex-direction: column;z-index: 1;position: relative;background-color: white;}#sk-container-id-1 div.sk-parallel-item:first-child::after {align-self: flex-end;width: 50%;}#sk-container-id-1 div.sk-parallel-item:last-child::after {align-self: flex-start;width: 50%;}#sk-container-id-1 div.sk-parallel-item:only-child::after {width: 0;}#sk-container-id-1 div.sk-dashed-wrapped {border: 1px dashed gray;margin: 0 0.4em 0.5em 0.4em;box-sizing: border-box;padding-bottom: 0.4em;background-color: white;}#sk-container-id-1 div.sk-label label {font-family: monospace;font-weight: bold;display: inline-block;line-height: 1.2em;}#sk-container-id-1 div.sk-label-container {text-align: center;}#sk-container-id-1 div.sk-container {/* jupyter's `normalize.less` sets `[hidden] { display: none; }` but bootstrap.min.css set `[hidden] { display: none !important; }` so we also need the `!important` here to be able to override the default hidden behavior on the sphinx rendered scikit-learn.org. See: https://github.com/scikit-learn/scikit-learn/issues/21755 */display: inline-block !important;position: relative;}#sk-container-id-1 div.sk-text-repr-fallback {display: none;}</style><div id=\"sk-container-id-1\" class=\"sk-top-container\"><div class=\"sk-text-repr-fallback\"><pre>ExtraTreesClassifier()</pre><b>In a Jupyter environment, please rerun this cell to show the HTML representation or trust the notebook. <br />On GitHub, the HTML representation is unable to render, please try loading this page with nbviewer.org.</b></div><div class=\"sk-container\" hidden><div class=\"sk-item\"><div class=\"sk-estimator sk-toggleable\"><input class=\"sk-toggleable__control sk-hidden--visually\" id=\"sk-estimator-id-1\" type=\"checkbox\" checked><label for=\"sk-estimator-id-1\" class=\"sk-toggleable__label sk-toggleable__label-arrow\">ExtraTreesClassifier</label><div class=\"sk-toggleable__content\"><pre>ExtraTreesClassifier()</pre></div></div></div></div></div>"
      ],
      "text/plain": [
       "ExtraTreesClassifier()"
      ]
     },
     "execution_count": 58,
     "metadata": {},
     "output_type": "execute_result"
    }
   ],
   "source": [
    "from sklearn.ensemble import ExtraTreesClassifier\n",
    "model = ExtraTreesClassifier()\n",
    "model.fit(X, y)"
   ]
  },
  {
   "cell_type": "code",
   "execution_count": 59,
   "metadata": {},
   "outputs": [
    {
     "data": {
      "text/plain": [
       "Index(['Individual_ID', 'Gender', 'Car_Owner', 'Property_Owner', 'Childrens',\n",
       "       'Annual_Income', 'Income_Type', 'Education_Level', 'Marital_Status',\n",
       "       'Housing_Type', 'Age', 'Employment_Duration', 'Mobile_Phone',\n",
       "       'Work_Phone', 'Phone', 'Email_Address', 'Occupation_Type',\n",
       "       'Family_Members', 'Target_Label'],\n",
       "      dtype='object')"
      ]
     },
     "execution_count": 59,
     "metadata": {},
     "output_type": "execute_result"
    }
   ],
   "source": [
    "df4.columns"
   ]
  },
  {
   "cell_type": "code",
   "execution_count": 60,
   "metadata": {},
   "outputs": [
    {
     "data": {
      "text/plain": [
       "Gender                 0.027630\n",
       "Car_Owner              0.039840\n",
       "Property_Owner         0.036610\n",
       "Childrens              0.038824\n",
       "Annual_Income          0.168126\n",
       "Income_Type            0.053209\n",
       "Education_Level        0.057724\n",
       "Marital_Status         0.055635\n",
       "Housing_Type           0.037152\n",
       "Age                    0.152840\n",
       "Employment_Duration    0.101244\n",
       "Mobile_Phone           0.000000\n",
       "Work_Phone             0.030924\n",
       "Phone                  0.034518\n",
       "Email_Address          0.023244\n",
       "Occupation_Type        0.082708\n",
       "Family_Members         0.059770\n",
       "dtype: float64"
      ]
     },
     "execution_count": 60,
     "metadata": {},
     "output_type": "execute_result"
    }
   ],
   "source": [
    "cols=[ 'Gender', 'Car_Owner', 'Property_Owner', 'Childrens',\n",
    "       'Annual_Income', 'Income_Type', 'Education_Level', 'Marital_Status',\n",
    "       'Housing_Type', 'Age', 'Employment_Duration', 'Mobile_Phone',\n",
    "       'Work_Phone', 'Phone', 'Email_Address', 'Occupation_Type',\n",
    "       'Family_Members']\n",
    "\n",
    "feature_imp = pd.Series(model.feature_importances_, index=cols)\n",
    "\n",
    "feature_imp"
   ]
  },
  {
   "cell_type": "code",
   "execution_count": 61,
   "metadata": {},
   "outputs": [
    {
     "data": {
      "image/png": "[encoded data removed]",
      "text/plain": [
       "<Figure size 640x480 with 1 Axes>"
      ]
     },
     "metadata": {},
     "output_type": "display_data"
    }
   ],
   "source": [
    "top_features = feature_imp.nlargest(10)\n",
    "\n",
    "# Define a single color with varying shades (blue in this example)\n",
    "base_color = 'steelblue'\n",
    "num_shades = 10\n",
    "\n",
    "# Generate shades of the base color\n",
    "colors = [plt.cm.Blues(i/num_shades) for i in range(num_shades)][::-1]\n",
    "\n",
    "# Set the background color\n",
    "background_color = 'lightgray'\n",
    "\n",
    "# Create a figure with a light gray background\n",
    "fig, ax = plt.subplots()\n",
    "fig.patch.set_facecolor(background_color)\n",
    "ax.set_facecolor(background_color)\n",
    "\n",
    "# Plot the bar chart with shaded effect\n",
    "top_features.plot(kind='bar', color=colors)\n",
    "plt.title('Top 10 Features and Their Importances')\n",
    "plt.xlabel('Features')\n",
    "plt.ylabel('Importance')\n",
    "\n",
    "# Remove the borders around the plot\n",
    "ax.spines['top'].set_visible(False)\n",
    "ax.spines['right'].set_visible(False)\n",
    "\n",
    "plt.show()"
   ]
  },
  {
   "cell_type": "markdown",
   "metadata": {},
   "source": [
    "Here Year and Month are the features which have less feature importance \n"
   ]
  },
  {
   "cell_type": "code",
   "execution_count": 62,
   "metadata": {},
   "outputs": [],
   "source": [
    "# Extract the top 10 important features\n",
    "top_features = feature_imp.nlargest(10)"
   ]
  },
  {
   "cell_type": "markdown",
   "metadata": {},
   "source": [
    "## <span style=\"font-size: 25px; color: skyblue; font-weight: bold;\">Standardizing the values"
   ]
  },
  {
   "cell_type": "code",
   "execution_count": 63,
   "metadata": {},
   "outputs": [],
   "source": [
    "from sklearn.preprocessing import MinMaxScaler\n",
    "\n",
    "x = pd.DataFrame(MinMaxScaler().fit_transform(X))"
   ]
  },
  {
   "cell_type": "code",
   "execution_count": 64,
   "metadata": {},
   "outputs": [
    {
     "data": {
      "text/html": [
       "<div>\n",
       "<style scoped>\n",
       "    .dataframe tbody tr th:only-of-type {\n",
       "        vertical-align: middle;\n",
       "    }\n",
       "\n",
       "    .dataframe tbody tr th {\n",
       "        vertical-align: top;\n",
       "    }\n",
       "\n",
       "    .dataframe thead th {\n",
       "        text-align: right;\n",
       "    }\n",
       "</style>\n",
       "<table border=\"1\" class=\"dataframe\">\n",
       "  <thead>\n",
       "    <tr style=\"text-align: right;\">\n",
       "      <th></th>\n",
       "      <th>0</th>\n",
       "      <th>1</th>\n",
       "      <th>2</th>\n",
       "      <th>3</th>\n",
       "      <th>4</th>\n",
       "      <th>5</th>\n",
       "      <th>6</th>\n",
       "      <th>7</th>\n",
       "      <th>8</th>\n",
       "      <th>9</th>\n",
       "      <th>10</th>\n",
       "      <th>11</th>\n",
       "      <th>12</th>\n",
       "      <th>13</th>\n",
       "      <th>14</th>\n",
       "      <th>15</th>\n",
       "      <th>16</th>\n",
       "    </tr>\n",
       "  </thead>\n",
       "  <tbody>\n",
       "    <tr>\n",
       "      <th>0</th>\n",
       "      <td>1.0</td>\n",
       "      <td>1.0</td>\n",
       "      <td>1.0</td>\n",
       "      <td>0.0</td>\n",
       "      <td>0.094891</td>\n",
       "      <td>0.0</td>\n",
       "      <td>0.75</td>\n",
       "      <td>0.25</td>\n",
       "      <td>1.0</td>\n",
       "      <td>0.638298</td>\n",
       "      <td>1.000000</td>\n",
       "      <td>0.0</td>\n",
       "      <td>0.0</td>\n",
       "      <td>0.0</td>\n",
       "      <td>0.0</td>\n",
       "      <td>1.0</td>\n",
       "      <td>0.071429</td>\n",
       "    </tr>\n",
       "    <tr>\n",
       "      <th>1</th>\n",
       "      <td>0.0</td>\n",
       "      <td>1.0</td>\n",
       "      <td>0.0</td>\n",
       "      <td>0.0</td>\n",
       "      <td>0.182482</td>\n",
       "      <td>1.0</td>\n",
       "      <td>0.75</td>\n",
       "      <td>0.25</td>\n",
       "      <td>1.0</td>\n",
       "      <td>0.340426</td>\n",
       "      <td>0.052632</td>\n",
       "      <td>0.0</td>\n",
       "      <td>1.0</td>\n",
       "      <td>1.0</td>\n",
       "      <td>0.0</td>\n",
       "      <td>0.0</td>\n",
       "      <td>0.071429</td>\n",
       "    </tr>\n",
       "    <tr>\n",
       "      <th>2</th>\n",
       "      <td>0.0</td>\n",
       "      <td>1.0</td>\n",
       "      <td>0.0</td>\n",
       "      <td>0.0</td>\n",
       "      <td>0.182482</td>\n",
       "      <td>1.0</td>\n",
       "      <td>0.75</td>\n",
       "      <td>0.25</td>\n",
       "      <td>1.0</td>\n",
       "      <td>0.340426</td>\n",
       "      <td>0.052632</td>\n",
       "      <td>0.0</td>\n",
       "      <td>1.0</td>\n",
       "      <td>1.0</td>\n",
       "      <td>0.0</td>\n",
       "      <td>0.0</td>\n",
       "      <td>0.071429</td>\n",
       "    </tr>\n",
       "    <tr>\n",
       "      <th>3</th>\n",
       "      <td>0.0</td>\n",
       "      <td>1.0</td>\n",
       "      <td>0.0</td>\n",
       "      <td>0.0</td>\n",
       "      <td>0.182482</td>\n",
       "      <td>1.0</td>\n",
       "      <td>0.75</td>\n",
       "      <td>0.25</td>\n",
       "      <td>1.0</td>\n",
       "      <td>0.340426</td>\n",
       "      <td>0.052632</td>\n",
       "      <td>0.0</td>\n",
       "      <td>1.0</td>\n",
       "      <td>1.0</td>\n",
       "      <td>0.0</td>\n",
       "      <td>0.0</td>\n",
       "      <td>0.071429</td>\n",
       "    </tr>\n",
       "    <tr>\n",
       "      <th>4</th>\n",
       "      <td>0.0</td>\n",
       "      <td>1.0</td>\n",
       "      <td>0.0</td>\n",
       "      <td>0.0</td>\n",
       "      <td>0.182482</td>\n",
       "      <td>1.0</td>\n",
       "      <td>0.75</td>\n",
       "      <td>0.25</td>\n",
       "      <td>1.0</td>\n",
       "      <td>0.340426</td>\n",
       "      <td>0.052632</td>\n",
       "      <td>0.0</td>\n",
       "      <td>1.0</td>\n",
       "      <td>1.0</td>\n",
       "      <td>0.0</td>\n",
       "      <td>0.0</td>\n",
       "      <td>0.071429</td>\n",
       "    </tr>\n",
       "  </tbody>\n",
       "</table>\n",
       "</div>"
      ],
      "text/plain": [
       "    0    1    2    3         4    5     6     7    8         9         10  \\\n",
       "0  1.0  1.0  1.0  0.0  0.094891  0.0  0.75  0.25  1.0  0.638298  1.000000   \n",
       "1  0.0  1.0  0.0  0.0  0.182482  1.0  0.75  0.25  1.0  0.340426  0.052632   \n",
       "2  0.0  1.0  0.0  0.0  0.182482  1.0  0.75  0.25  1.0  0.340426  0.052632   \n",
       "3  0.0  1.0  0.0  0.0  0.182482  1.0  0.75  0.25  1.0  0.340426  0.052632   \n",
       "4  0.0  1.0  0.0  0.0  0.182482  1.0  0.75  0.25  1.0  0.340426  0.052632   \n",
       "\n",
       "    11   12   13   14   15        16  \n",
       "0  0.0  0.0  0.0  0.0  1.0  0.071429  \n",
       "1  0.0  1.0  1.0  0.0  0.0  0.071429  \n",
       "2  0.0  1.0  1.0  0.0  0.0  0.071429  \n",
       "3  0.0  1.0  1.0  0.0  0.0  0.071429  \n",
       "4  0.0  1.0  1.0  0.0  0.0  0.071429  "
      ]
     },
     "execution_count": 64,
     "metadata": {},
     "output_type": "execute_result"
    }
   ],
   "source": [
    "x.head()"
   ]
  },
  {
   "cell_type": "code",
   "execution_count": 65,
   "metadata": {},
   "outputs": [],
   "source": [
    "# Selecting only the top important features from your original dataset\n",
    "X_selected = X[top_features.index]"
   ]
  },
  {
   "cell_type": "code",
   "execution_count": 66,
   "metadata": {},
   "outputs": [
    {
     "data": {
      "text/plain": [
       "(1548, 10)"
      ]
     },
     "execution_count": 66,
     "metadata": {},
     "output_type": "execute_result"
    }
   ],
   "source": [
    "X_selected.shape"
   ]
  },
  {
   "cell_type": "markdown",
   "metadata": {},
   "source": [
    "# <span style=\"font-size: 35px; color: maroon; font-weight: bold;\">Logistic Regression"
   ]
  },
  {
   "cell_type": "code",
   "execution_count": 67,
   "metadata": {},
   "outputs": [],
   "source": [
    "from sklearn.model_selection import train_test_split\n",
    "\n",
    "# Splitting the dataset into train and test sets\n",
    "x_train, x_test, y_train, y_test = train_test_split(X_selected, y, test_size=0.2, random_state=42)"
   ]
  },
  {
   "cell_type": "code",
   "execution_count": 68,
   "metadata": {},
   "outputs": [
    {
     "data": {
      "text/html": [
       "<style>#sk-container-id-2 {color: black;}#sk-container-id-2 pre{padding: 0;}#sk-container-id-2 div.sk-toggleable {background-color: white;}#sk-container-id-2 label.sk-toggleable__label {cursor: pointer;display: block;width: 100%;margin-bottom: 0;padding: 0.3em;box-sizing: border-box;text-align: center;}#sk-container-id-2 label.sk-toggleable__label-arrow:before {content: \"▸\";float: left;margin-right: 0.25em;color: #696969;}#sk-container-id-2 label.sk-toggleable__label-arrow:hover:before {color: black;}#sk-container-id-2 div.sk-estimator:hover label.sk-toggleable__label-arrow:before {color: black;}#sk-container-id-2 div.sk-toggleable__content {max-height: 0;max-width: 0;overflow: hidden;text-align: left;background-color: #f0f8ff;}#sk-container-id-2 div.sk-toggleable__content pre {margin: 0.2em;color: black;border-radius: 0.25em;background-color: #f0f8ff;}#sk-container-id-2 input.sk-toggleable__control:checked~div.sk-toggleable__content {max-height: 200px;max-width: 100%;overflow: auto;}#sk-container-id-2 input.sk-toggleable__control:checked~label.sk-toggleable__label-arrow:before {content: \"▾\";}#sk-container-id-2 div.sk-estimator input.sk-toggleable__control:checked~label.sk-toggleable__label {background-color: #d4ebff;}#sk-container-id-2 div.sk-label input.sk-toggleable__control:checked~label.sk-toggleable__label {background-color: #d4ebff;}#sk-container-id-2 input.sk-hidden--visually {border: 0;clip: rect(1px 1px 1px 1px);clip: rect(1px, 1px, 1px, 1px);height: 1px;margin: -1px;overflow: hidden;padding: 0;position: absolute;width: 1px;}#sk-container-id-2 div.sk-estimator {font-family: monospace;background-color: #f0f8ff;border: 1px dotted black;border-radius: 0.25em;box-sizing: border-box;margin-bottom: 0.5em;}#sk-container-id-2 div.sk-estimator:hover {background-color: #d4ebff;}#sk-container-id-2 div.sk-parallel-item::after {content: \"\";width: 100%;border-bottom: 1px solid gray;flex-grow: 1;}#sk-container-id-2 div.sk-label:hover label.sk-toggleable__label {background-color: #d4ebff;}#sk-container-id-2 div.sk-serial::before {content: \"\";position: absolute;border-left: 1px solid gray;box-sizing: border-box;top: 0;bottom: 0;left: 50%;z-index: 0;}#sk-container-id-2 div.sk-serial {display: flex;flex-direction: column;align-items: center;background-color: white;padding-right: 0.2em;padding-left: 0.2em;position: relative;}#sk-container-id-2 div.sk-item {position: relative;z-index: 1;}#sk-container-id-2 div.sk-parallel {display: flex;align-items: stretch;justify-content: center;background-color: white;position: relative;}#sk-container-id-2 div.sk-item::before, #sk-container-id-2 div.sk-parallel-item::before {content: \"\";position: absolute;border-left: 1px solid gray;box-sizing: border-box;top: 0;bottom: 0;left: 50%;z-index: -1;}#sk-container-id-2 div.sk-parallel-item {display: flex;flex-direction: column;z-index: 1;position: relative;background-color: white;}#sk-container-id-2 div.sk-parallel-item:first-child::after {align-self: flex-end;width: 50%;}#sk-container-id-2 div.sk-parallel-item:last-child::after {align-self: flex-start;width: 50%;}#sk-container-id-2 div.sk-parallel-item:only-child::after {width: 0;}#sk-container-id-2 div.sk-dashed-wrapped {border: 1px dashed gray;margin: 0 0.4em 0.5em 0.4em;box-sizing: border-box;padding-bottom: 0.4em;background-color: white;}#sk-container-id-2 div.sk-label label {font-family: monospace;font-weight: bold;display: inline-block;line-height: 1.2em;}#sk-container-id-2 div.sk-label-container {text-align: center;}#sk-container-id-2 div.sk-container {/* jupyter's `normalize.less` sets `[hidden] { display: none; }` but bootstrap.min.css set `[hidden] { display: none !important; }` so we also need the `!important` here to be able to override the default hidden behavior on the sphinx rendered scikit-learn.org. See: https://github.com/scikit-learn/scikit-learn/issues/21755 */display: inline-block !important;position: relative;}#sk-container-id-2 div.sk-text-repr-fallback {display: none;}</style><div id=\"sk-container-id-2\" class=\"sk-top-container\"><div class=\"sk-text-repr-fallback\"><pre>LogisticRegression()</pre><b>In a Jupyter environment, please rerun this cell to show the HTML representation or trust the notebook. <br />On GitHub, the HTML representation is unable to render, please try loading this page with nbviewer.org.</b></div><div class=\"sk-container\" hidden><div class=\"sk-item\"><div class=\"sk-estimator sk-toggleable\"><input class=\"sk-toggleable__control sk-hidden--visually\" id=\"sk-estimator-id-2\" type=\"checkbox\" checked><label for=\"sk-estimator-id-2\" class=\"sk-toggleable__label sk-toggleable__label-arrow\">LogisticRegression</label><div class=\"sk-toggleable__content\"><pre>LogisticRegression()</pre></div></div></div></div></div>"
      ],
      "text/plain": [
       "LogisticRegression()"
      ]
     },
     "execution_count": 68,
     "metadata": {},
     "output_type": "execute_result"
    }
   ],
   "source": [
    "from sklearn.linear_model import LogisticRegression\n",
    "log_r = LogisticRegression()\n",
    "log_r.fit(x_train, y_train)"
   ]
  },
  {
   "cell_type": "code",
   "execution_count": 69,
   "metadata": {},
   "outputs": [],
   "source": [
    "y_pred = log_r.predict(x_test)"
   ]
  },
  {
   "cell_type": "code",
   "execution_count": 70,
   "metadata": {},
   "outputs": [
    {
     "name": "stdout",
     "output_type": "stream",
     "text": [
      "Accuracy Score = 90.32%\n",
      "\n",
      "Confusion Matrix = \n",
      " [[280   0]\n",
      " [ 30   0]]\n"
     ]
    }
   ],
   "source": [
    "accuracy = accuracy_score(y_test, y_pred)\n",
    "print(f\"Accuracy Score = {accuracy * 100:.2f}%\")\n",
    "print()\n",
    "print(\"Confusion Matrix = \\n\",confusion_matrix(y_test, y_pred))"
   ]
  },
  {
   "cell_type": "markdown",
   "metadata": {},
   "source": [
    "# <span style=\"font-size: 35px; color: maroon; font-weight: bold;\">RandomForest Classifier"
   ]
  },
  {
   "cell_type": "code",
   "execution_count": 71,
   "metadata": {},
   "outputs": [],
   "source": [
    "from sklearn.model_selection import train_test_split\n",
    "from sklearn.ensemble import RandomForestClassifier\n",
    "\n",
    "# Splitting the dataset into train and test sets\n",
    "x_train, x_test, y_train, y_test = train_test_split(X_selected, y, test_size=0.2, random_state=42)"
   ]
  },
  {
   "cell_type": "code",
   "execution_count": 72,
   "metadata": {},
   "outputs": [
    {
     "data": {
      "text/html": [
       "<style>#sk-container-id-3 {color: black;}#sk-container-id-3 pre{padding: 0;}#sk-container-id-3 div.sk-toggleable {background-color: white;}#sk-container-id-3 label.sk-toggleable__label {cursor: pointer;display: block;width: 100%;margin-bottom: 0;padding: 0.3em;box-sizing: border-box;text-align: center;}#sk-container-id-3 label.sk-toggleable__label-arrow:before {content: \"▸\";float: left;margin-right: 0.25em;color: #696969;}#sk-container-id-3 label.sk-toggleable__label-arrow:hover:before {color: black;}#sk-container-id-3 div.sk-estimator:hover label.sk-toggleable__label-arrow:before {color: black;}#sk-container-id-3 div.sk-toggleable__content {max-height: 0;max-width: 0;overflow: hidden;text-align: left;background-color: #f0f8ff;}#sk-container-id-3 div.sk-toggleable__content pre {margin: 0.2em;color: black;border-radius: 0.25em;background-color: #f0f8ff;}#sk-container-id-3 input.sk-toggleable__control:checked~div.sk-toggleable__content {max-height: 200px;max-width: 100%;overflow: auto;}#sk-container-id-3 input.sk-toggleable__control:checked~label.sk-toggleable__label-arrow:before {content: \"▾\";}#sk-container-id-3 div.sk-estimator input.sk-toggleable__control:checked~label.sk-toggleable__label {background-color: #d4ebff;}#sk-container-id-3 div.sk-label input.sk-toggleable__control:checked~label.sk-toggleable__label {background-color: #d4ebff;}#sk-container-id-3 input.sk-hidden--visually {border: 0;clip: rect(1px 1px 1px 1px);clip: rect(1px, 1px, 1px, 1px);height: 1px;margin: -1px;overflow: hidden;padding: 0;position: absolute;width: 1px;}#sk-container-id-3 div.sk-estimator {font-family: monospace;background-color: #f0f8ff;border: 1px dotted black;border-radius: 0.25em;box-sizing: border-box;margin-bottom: 0.5em;}#sk-container-id-3 div.sk-estimator:hover {background-color: #d4ebff;}#sk-container-id-3 div.sk-parallel-item::after {content: \"\";width: 100%;border-bottom: 1px solid gray;flex-grow: 1;}#sk-container-id-3 div.sk-label:hover label.sk-toggleable__label {background-color: #d4ebff;}#sk-container-id-3 div.sk-serial::before {content: \"\";position: absolute;border-left: 1px solid gray;box-sizing: border-box;top: 0;bottom: 0;left: 50%;z-index: 0;}#sk-container-id-3 div.sk-serial {display: flex;flex-direction: column;align-items: center;background-color: white;padding-right: 0.2em;padding-left: 0.2em;position: relative;}#sk-container-id-3 div.sk-item {position: relative;z-index: 1;}#sk-container-id-3 div.sk-parallel {display: flex;align-items: stretch;justify-content: center;background-color: white;position: relative;}#sk-container-id-3 div.sk-item::before, #sk-container-id-3 div.sk-parallel-item::before {content: \"\";position: absolute;border-left: 1px solid gray;box-sizing: border-box;top: 0;bottom: 0;left: 50%;z-index: -1;}#sk-container-id-3 div.sk-parallel-item {display: flex;flex-direction: column;z-index: 1;position: relative;background-color: white;}#sk-container-id-3 div.sk-parallel-item:first-child::after {align-self: flex-end;width: 50%;}#sk-container-id-3 div.sk-parallel-item:last-child::after {align-self: flex-start;width: 50%;}#sk-container-id-3 div.sk-parallel-item:only-child::after {width: 0;}#sk-container-id-3 div.sk-dashed-wrapped {border: 1px dashed gray;margin: 0 0.4em 0.5em 0.4em;box-sizing: border-box;padding-bottom: 0.4em;background-color: white;}#sk-container-id-3 div.sk-label label {font-family: monospace;font-weight: bold;display: inline-block;line-height: 1.2em;}#sk-container-id-3 div.sk-label-container {text-align: center;}#sk-container-id-3 div.sk-container {/* jupyter's `normalize.less` sets `[hidden] { display: none; }` but bootstrap.min.css set `[hidden] { display: none !important; }` so we also need the `!important` here to be able to override the default hidden behavior on the sphinx rendered scikit-learn.org. See: https://github.com/scikit-learn/scikit-learn/issues/21755 */display: inline-block !important;position: relative;}#sk-container-id-3 div.sk-text-repr-fallback {display: none;}</style><div id=\"sk-container-id-3\" class=\"sk-top-container\"><div class=\"sk-text-repr-fallback\"><pre>RandomForestClassifier()</pre><b>In a Jupyter environment, please rerun this cell to show the HTML representation or trust the notebook. <br />On GitHub, the HTML representation is unable to render, please try loading this page with nbviewer.org.</b></div><div class=\"sk-container\" hidden><div class=\"sk-item\"><div class=\"sk-estimator sk-toggleable\"><input class=\"sk-toggleable__control sk-hidden--visually\" id=\"sk-estimator-id-3\" type=\"checkbox\" checked><label for=\"sk-estimator-id-3\" class=\"sk-toggleable__label sk-toggleable__label-arrow\">RandomForestClassifier</label><div class=\"sk-toggleable__content\"><pre>RandomForestClassifier()</pre></div></div></div></div></div>"
      ],
      "text/plain": [
       "RandomForestClassifier()"
      ]
     },
     "execution_count": 72,
     "metadata": {},
     "output_type": "execute_result"
    }
   ],
   "source": [
    "# Initializing and training your machine learning model (Random Forest Classifier used as an example)\n",
    "rdf = RandomForestClassifier()\n",
    "rdf.fit(x_train, y_train)"
   ]
  },
  {
   "cell_type": "code",
   "execution_count": 73,
   "metadata": {},
   "outputs": [],
   "source": [
    "y_pred = rdf.predict(x_test)"
   ]
  },
  {
   "cell_type": "code",
   "execution_count": 74,
   "metadata": {},
   "outputs": [
    {
     "data": {
      "text/plain": [
       "array([0, 0, 0, 0, 0, 0, 0, 0, 1, 0], dtype=int64)"
      ]
     },
     "execution_count": 74,
     "metadata": {},
     "output_type": "execute_result"
    }
   ],
   "source": [
    "y_pred[10:20]"
   ]
  },
  {
   "cell_type": "code",
   "execution_count": 75,
   "metadata": {},
   "outputs": [
    {
     "name": "stdout",
     "output_type": "stream",
     "text": [
      "[0, 0, 0, 0, 0, 1, 0, 0, 1, 0] "
     ]
    }
   ],
   "source": [
    "print(list(y_test[10:20]), end = \" \")"
   ]
  },
  {
   "cell_type": "code",
   "execution_count": 76,
   "metadata": {},
   "outputs": [
    {
     "name": "stdout",
     "output_type": "stream",
     "text": [
      "Accuracy Score = 94.52%\n",
      "\n",
      "Confusion Matrix = \n",
      " [[278   2]\n",
      " [ 15  15]]\n"
     ]
    }
   ],
   "source": [
    "accuracy = accuracy_score(y_test, y_pred)\n",
    "print(f\"Accuracy Score = {accuracy * 100:.2f}%\")\n",
    "print()\n",
    "print(\"Confusion Matrix = \\n\",confusion_matrix(y_test, y_pred))"
   ]
  },
  {
   "cell_type": "code",
   "execution_count": 77,
   "metadata": {},
   "outputs": [
    {
     "data": {
      "image/png": "[encoded data removed]",
      "text/plain": [
       "<Figure size 640x480 with 1 Axes>"
      ]
     },
     "metadata": {},
     "output_type": "display_data"
    }
   ],
   "source": [
    "\n",
    "# Assuming x_test[19:], y_test[19:], and y_pred[19:] have the same length\n",
    "plt.plot(x_test[19:], y_test[19:], \"s\", color=\"red\", label=\"Actual\")\n",
    "plt.plot(x_test[19:], y_pred[19:], \".\", color=\"blue\", label=\"Predicted\")\n",
    "\n",
    "plt.title(\"RandomForest Classifier\")\n",
    "plt.ylabel(\"Output & Prediction\")\n",
    "plt.xlabel(\"x_test values\")\n",
    "plt.legend()\n",
    "plt.show()"
   ]
  },
  {
   "cell_type": "markdown",
   "metadata": {},
   "source": [
    "# <span style=\"font-size: 35px; color: maroon; font-weight: bold;\">Decision Tree Classifier"
   ]
  },
  {
   "cell_type": "code",
   "execution_count": 78,
   "metadata": {},
   "outputs": [],
   "source": [
    "from sklearn.model_selection import train_test_split\n",
    "from sklearn.tree import DecisionTreeClassifier\n",
    "\n",
    "# Splitting the dataset into train and test sets\n",
    "x_train, x_test, y_train, y_test = train_test_split(X_selected, y, test_size=0.2, random_state=42)"
   ]
  },
  {
   "cell_type": "code",
   "execution_count": 79,
   "metadata": {},
   "outputs": [
    {
     "data": {
      "text/html": [
       "<style>#sk-container-id-4 {color: black;}#sk-container-id-4 pre{padding: 0;}#sk-container-id-4 div.sk-toggleable {background-color: white;}#sk-container-id-4 label.sk-toggleable__label {cursor: pointer;display: block;width: 100%;margin-bottom: 0;padding: 0.3em;box-sizing: border-box;text-align: center;}#sk-container-id-4 label.sk-toggleable__label-arrow:before {content: \"▸\";float: left;margin-right: 0.25em;color: #696969;}#sk-container-id-4 label.sk-toggleable__label-arrow:hover:before {color: black;}#sk-container-id-4 div.sk-estimator:hover label.sk-toggleable__label-arrow:before {color: black;}#sk-container-id-4 div.sk-toggleable__content {max-height: 0;max-width: 0;overflow: hidden;text-align: left;background-color: #f0f8ff;}#sk-container-id-4 div.sk-toggleable__content pre {margin: 0.2em;color: black;border-radius: 0.25em;background-color: #f0f8ff;}#sk-container-id-4 input.sk-toggleable__control:checked~div.sk-toggleable__content {max-height: 200px;max-width: 100%;overflow: auto;}#sk-container-id-4 input.sk-toggleable__control:checked~label.sk-toggleable__label-arrow:before {content: \"▾\";}#sk-container-id-4 div.sk-estimator input.sk-toggleable__control:checked~label.sk-toggleable__label {background-color: #d4ebff;}#sk-container-id-4 div.sk-label input.sk-toggleable__control:checked~label.sk-toggleable__label {background-color: #d4ebff;}#sk-container-id-4 input.sk-hidden--visually {border: 0;clip: rect(1px 1px 1px 1px);clip: rect(1px, 1px, 1px, 1px);height: 1px;margin: -1px;overflow: hidden;padding: 0;position: absolute;width: 1px;}#sk-container-id-4 div.sk-estimator {font-family: monospace;background-color: #f0f8ff;border: 1px dotted black;border-radius: 0.25em;box-sizing: border-box;margin-bottom: 0.5em;}#sk-container-id-4 div.sk-estimator:hover {background-color: #d4ebff;}#sk-container-id-4 div.sk-parallel-item::after {content: \"\";width: 100%;border-bottom: 1px solid gray;flex-grow: 1;}#sk-container-id-4 div.sk-label:hover label.sk-toggleable__label {background-color: #d4ebff;}#sk-container-id-4 div.sk-serial::before {content: \"\";position: absolute;border-left: 1px solid gray;box-sizing: border-box;top: 0;bottom: 0;left: 50%;z-index: 0;}#sk-container-id-4 div.sk-serial {display: flex;flex-direction: column;align-items: center;background-color: white;padding-right: 0.2em;padding-left: 0.2em;position: relative;}#sk-container-id-4 div.sk-item {position: relative;z-index: 1;}#sk-container-id-4 div.sk-parallel {display: flex;align-items: stretch;justify-content: center;background-color: white;position: relative;}#sk-container-id-4 div.sk-item::before, #sk-container-id-4 div.sk-parallel-item::before {content: \"\";position: absolute;border-left: 1px solid gray;box-sizing: border-box;top: 0;bottom: 0;left: 50%;z-index: -1;}#sk-container-id-4 div.sk-parallel-item {display: flex;flex-direction: column;z-index: 1;position: relative;background-color: white;}#sk-container-id-4 div.sk-parallel-item:first-child::after {align-self: flex-end;width: 50%;}#sk-container-id-4 div.sk-parallel-item:last-child::after {align-self: flex-start;width: 50%;}#sk-container-id-4 div.sk-parallel-item:only-child::after {width: 0;}#sk-container-id-4 div.sk-dashed-wrapped {border: 1px dashed gray;margin: 0 0.4em 0.5em 0.4em;box-sizing: border-box;padding-bottom: 0.4em;background-color: white;}#sk-container-id-4 div.sk-label label {font-family: monospace;font-weight: bold;display: inline-block;line-height: 1.2em;}#sk-container-id-4 div.sk-label-container {text-align: center;}#sk-container-id-4 div.sk-container {/* jupyter's `normalize.less` sets `[hidden] { display: none; }` but bootstrap.min.css set `[hidden] { display: none !important; }` so we also need the `!important` here to be able to override the default hidden behavior on the sphinx rendered scikit-learn.org. See: https://github.com/scikit-learn/scikit-learn/issues/21755 */display: inline-block !important;position: relative;}#sk-container-id-4 div.sk-text-repr-fallback {display: none;}</style><div id=\"sk-container-id-4\" class=\"sk-top-container\"><div class=\"sk-text-repr-fallback\"><pre>DecisionTreeClassifier()</pre><b>In a Jupyter environment, please rerun this cell to show the HTML representation or trust the notebook. <br />On GitHub, the HTML representation is unable to render, please try loading this page with nbviewer.org.</b></div><div class=\"sk-container\" hidden><div class=\"sk-item\"><div class=\"sk-estimator sk-toggleable\"><input class=\"sk-toggleable__control sk-hidden--visually\" id=\"sk-estimator-id-4\" type=\"checkbox\" checked><label for=\"sk-estimator-id-4\" class=\"sk-toggleable__label sk-toggleable__label-arrow\">DecisionTreeClassifier</label><div class=\"sk-toggleable__content\"><pre>DecisionTreeClassifier()</pre></div></div></div></div></div>"
      ],
      "text/plain": [
       "DecisionTreeClassifier()"
      ]
     },
     "execution_count": 79,
     "metadata": {},
     "output_type": "execute_result"
    }
   ],
   "source": [
    "# Initializing and training your machine learning model (Random Forest Classifier used as an example)\n",
    "dct = DecisionTreeClassifier()\n",
    "dct.fit(x_train, y_train)"
   ]
  },
  {
   "cell_type": "code",
   "execution_count": 80,
   "metadata": {},
   "outputs": [],
   "source": [
    "y_pred = dct.predict(x_test)"
   ]
  },
  {
   "cell_type": "code",
   "execution_count": 81,
   "metadata": {},
   "outputs": [
    {
     "data": {
      "text/plain": [
       "array([0, 1, 0, 0, 0, 0, 0, 0, 1, 0], dtype=int64)"
      ]
     },
     "execution_count": 81,
     "metadata": {},
     "output_type": "execute_result"
    }
   ],
   "source": [
    "y_pred[10:20]"
   ]
  },
  {
   "cell_type": "code",
   "execution_count": 82,
   "metadata": {},
   "outputs": [
    {
     "name": "stdout",
     "output_type": "stream",
     "text": [
      "[0, 0, 0, 0, 0, 1, 0, 0, 1, 0] "
     ]
    }
   ],
   "source": [
    "print(list(y_test[10:20]), end = \" \")"
   ]
  },
  {
   "cell_type": "code",
   "execution_count": 83,
   "metadata": {},
   "outputs": [
    {
     "name": "stdout",
     "output_type": "stream",
     "text": [
      "Accuracy Score = 89.68%\n",
      "\n",
      "Confusion Matrix = \n",
      " [[264  16]\n",
      " [ 16  14]]\n"
     ]
    }
   ],
   "source": [
    "accuracy = accuracy_score(y_test, y_pred)\n",
    "print(f\"Accuracy Score = {accuracy * 100:.2f}%\")\n",
    "print()\n",
    "print(\"Confusion Matrix = \\n\",confusion_matrix(y_test, y_pred))"
   ]
  },
  {
   "cell_type": "markdown",
   "metadata": {},
   "source": [
    "# <span style=\"font-size: 35px; color: maroon; font-weight: bold;\">Support vector Machines"
   ]
  },
  {
   "cell_type": "code",
   "execution_count": 84,
   "metadata": {},
   "outputs": [],
   "source": [
    "from sklearn.model_selection import train_test_split\n",
    "from sklearn.svm import SVC\n",
    "\n",
    "# Splitting the dataset into train and test sets\n",
    "x_train, x_test, y_train, y_test = train_test_split(X_selected, y, test_size=0.2, random_state=42)"
   ]
  },
  {
   "cell_type": "code",
   "execution_count": 85,
   "metadata": {},
   "outputs": [
    {
     "data": {
      "text/html": [
       "<style>#sk-container-id-5 {color: black;}#sk-container-id-5 pre{padding: 0;}#sk-container-id-5 div.sk-toggleable {background-color: white;}#sk-container-id-5 label.sk-toggleable__label {cursor: pointer;display: block;width: 100%;margin-bottom: 0;padding: 0.3em;box-sizing: border-box;text-align: center;}#sk-container-id-5 label.sk-toggleable__label-arrow:before {content: \"▸\";float: left;margin-right: 0.25em;color: #696969;}#sk-container-id-5 label.sk-toggleable__label-arrow:hover:before {color: black;}#sk-container-id-5 div.sk-estimator:hover label.sk-toggleable__label-arrow:before {color: black;}#sk-container-id-5 div.sk-toggleable__content {max-height: 0;max-width: 0;overflow: hidden;text-align: left;background-color: #f0f8ff;}#sk-container-id-5 div.sk-toggleable__content pre {margin: 0.2em;color: black;border-radius: 0.25em;background-color: #f0f8ff;}#sk-container-id-5 input.sk-toggleable__control:checked~div.sk-toggleable__content {max-height: 200px;max-width: 100%;overflow: auto;}#sk-container-id-5 input.sk-toggleable__control:checked~label.sk-toggleable__label-arrow:before {content: \"▾\";}#sk-container-id-5 div.sk-estimator input.sk-toggleable__control:checked~label.sk-toggleable__label {background-color: #d4ebff;}#sk-container-id-5 div.sk-label input.sk-toggleable__control:checked~label.sk-toggleable__label {background-color: #d4ebff;}#sk-container-id-5 input.sk-hidden--visually {border: 0;clip: rect(1px 1px 1px 1px);clip: rect(1px, 1px, 1px, 1px);height: 1px;margin: -1px;overflow: hidden;padding: 0;position: absolute;width: 1px;}#sk-container-id-5 div.sk-estimator {font-family: monospace;background-color: #f0f8ff;border: 1px dotted black;border-radius: 0.25em;box-sizing: border-box;margin-bottom: 0.5em;}#sk-container-id-5 div.sk-estimator:hover {background-color: #d4ebff;}#sk-container-id-5 div.sk-parallel-item::after {content: \"\";width: 100%;border-bottom: 1px solid gray;flex-grow: 1;}#sk-container-id-5 div.sk-label:hover label.sk-toggleable__label {background-color: #d4ebff;}#sk-container-id-5 div.sk-serial::before {content: \"\";position: absolute;border-left: 1px solid gray;box-sizing: border-box;top: 0;bottom: 0;left: 50%;z-index: 0;}#sk-container-id-5 div.sk-serial {display: flex;flex-direction: column;align-items: center;background-color: white;padding-right: 0.2em;padding-left: 0.2em;position: relative;}#sk-container-id-5 div.sk-item {position: relative;z-index: 1;}#sk-container-id-5 div.sk-parallel {display: flex;align-items: stretch;justify-content: center;background-color: white;position: relative;}#sk-container-id-5 div.sk-item::before, #sk-container-id-5 div.sk-parallel-item::before {content: \"\";position: absolute;border-left: 1px solid gray;box-sizing: border-box;top: 0;bottom: 0;left: 50%;z-index: -1;}#sk-container-id-5 div.sk-parallel-item {display: flex;flex-direction: column;z-index: 1;position: relative;background-color: white;}#sk-container-id-5 div.sk-parallel-item:first-child::after {align-self: flex-end;width: 50%;}#sk-container-id-5 div.sk-parallel-item:last-child::after {align-self: flex-start;width: 50%;}#sk-container-id-5 div.sk-parallel-item:only-child::after {width: 0;}#sk-container-id-5 div.sk-dashed-wrapped {border: 1px dashed gray;margin: 0 0.4em 0.5em 0.4em;box-sizing: border-box;padding-bottom: 0.4em;background-color: white;}#sk-container-id-5 div.sk-label label {font-family: monospace;font-weight: bold;display: inline-block;line-height: 1.2em;}#sk-container-id-5 div.sk-label-container {text-align: center;}#sk-container-id-5 div.sk-container {/* jupyter's `normalize.less` sets `[hidden] { display: none; }` but bootstrap.min.css set `[hidden] { display: none !important; }` so we also need the `!important` here to be able to override the default hidden behavior on the sphinx rendered scikit-learn.org. See: https://github.com/scikit-learn/scikit-learn/issues/21755 */display: inline-block !important;position: relative;}#sk-container-id-5 div.sk-text-repr-fallback {display: none;}</style><div id=\"sk-container-id-5\" class=\"sk-top-container\"><div class=\"sk-text-repr-fallback\"><pre>SVC()</pre><b>In a Jupyter environment, please rerun this cell to show the HTML representation or trust the notebook. <br />On GitHub, the HTML representation is unable to render, please try loading this page with nbviewer.org.</b></div><div class=\"sk-container\" hidden><div class=\"sk-item\"><div class=\"sk-estimator sk-toggleable\"><input class=\"sk-toggleable__control sk-hidden--visually\" id=\"sk-estimator-id-5\" type=\"checkbox\" checked><label for=\"sk-estimator-id-5\" class=\"sk-toggleable__label sk-toggleable__label-arrow\">SVC</label><div class=\"sk-toggleable__content\"><pre>SVC()</pre></div></div></div></div></div>"
      ],
      "text/plain": [
       "SVC()"
      ]
     },
     "execution_count": 85,
     "metadata": {},
     "output_type": "execute_result"
    }
   ],
   "source": [
    "# Initializing and training your machine learning model (Random Forest Classifier used as an example)\n",
    "svc = SVC()\n",
    "svc.fit(x_train, y_train)"
   ]
  },
  {
   "cell_type": "code",
   "execution_count": 86,
   "metadata": {},
   "outputs": [],
   "source": [
    "y_pred = svc.predict(x_test)"
   ]
  },
  {
   "cell_type": "code",
   "execution_count": 87,
   "metadata": {},
   "outputs": [
    {
     "data": {
      "text/plain": [
       "array([0, 0, 0, 0, 0, 0, 0, 0, 0, 0], dtype=int64)"
      ]
     },
     "execution_count": 87,
     "metadata": {},
     "output_type": "execute_result"
    }
   ],
   "source": [
    "y_pred[10:20]"
   ]
  },
  {
   "cell_type": "code",
   "execution_count": 88,
   "metadata": {},
   "outputs": [
    {
     "name": "stdout",
     "output_type": "stream",
     "text": [
      "[0, 0, 0, 0, 0, 1, 0, 0, 1, 0] "
     ]
    }
   ],
   "source": [
    "print(list(y_test[10:20]), end = \" \")"
   ]
  },
  {
   "cell_type": "code",
   "execution_count": 89,
   "metadata": {},
   "outputs": [
    {
     "name": "stdout",
     "output_type": "stream",
     "text": [
      "Accuracy Score = 90.32%\n",
      "\n",
      "Confusion Matrix = \n",
      " [[280   0]\n",
      " [ 30   0]]\n"
     ]
    }
   ],
   "source": [
    "accuracy = accuracy_score(y_test, y_pred)\n",
    "print(f\"Accuracy Score = {accuracy * 100:.2f}%\")\n",
    "print()\n",
    "print(\"Confusion Matrix = \\n\",confusion_matrix(y_test, y_pred))"
   ]
  },
  {
   "cell_type": "markdown",
   "metadata": {},
   "source": [
    "# <span style=\"font-size: 35px; color: maroon; font-weight: bold;\">XGBoost"
   ]
  },
  {
   "cell_type": "code",
   "execution_count": 90,
   "metadata": {},
   "outputs": [],
   "source": [
    "from sklearn.model_selection import train_test_split\n",
    "from xgboost import XGBClassifier\n",
    "\n",
    "# Splitting the dataset into train and test sets\n",
    "x_train, x_test, y_train, y_test = train_test_split(X_selected, y, test_size=0.2, random_state=42)"
   ]
  },
  {
   "cell_type": "code",
   "execution_count": 91,
   "metadata": {},
   "outputs": [
    {
     "data": {
      "text/html": [
       "<style>#sk-container-id-6 {color: black;}#sk-container-id-6 pre{padding: 0;}#sk-container-id-6 div.sk-toggleable {background-color: white;}#sk-container-id-6 label.sk-toggleable__label {cursor: pointer;display: block;width: 100%;margin-bottom: 0;padding: 0.3em;box-sizing: border-box;text-align: center;}#sk-container-id-6 label.sk-toggleable__label-arrow:before {content: \"▸\";float: left;margin-right: 0.25em;color: #696969;}#sk-container-id-6 label.sk-toggleable__label-arrow:hover:before {color: black;}#sk-container-id-6 div.sk-estimator:hover label.sk-toggleable__label-arrow:before {color: black;}#sk-container-id-6 div.sk-toggleable__content {max-height: 0;max-width: 0;overflow: hidden;text-align: left;background-color: #f0f8ff;}#sk-container-id-6 div.sk-toggleable__content pre {margin: 0.2em;color: black;border-radius: 0.25em;background-color: #f0f8ff;}#sk-container-id-6 input.sk-toggleable__control:checked~div.sk-toggleable__content {max-height: 200px;max-width: 100%;overflow: auto;}#sk-container-id-6 input.sk-toggleable__control:checked~label.sk-toggleable__label-arrow:before {content: \"▾\";}#sk-container-id-6 div.sk-estimator input.sk-toggleable__control:checked~label.sk-toggleable__label {background-color: #d4ebff;}#sk-container-id-6 div.sk-label input.sk-toggleable__control:checked~label.sk-toggleable__label {background-color: #d4ebff;}#sk-container-id-6 input.sk-hidden--visually {border: 0;clip: rect(1px 1px 1px 1px);clip: rect(1px, 1px, 1px, 1px);height: 1px;margin: -1px;overflow: hidden;padding: 0;position: absolute;width: 1px;}#sk-container-id-6 div.sk-estimator {font-family: monospace;background-color: #f0f8ff;border: 1px dotted black;border-radius: 0.25em;box-sizing: border-box;margin-bottom: 0.5em;}#sk-container-id-6 div.sk-estimator:hover {background-color: #d4ebff;}#sk-container-id-6 div.sk-parallel-item::after {content: \"\";width: 100%;border-bottom: 1px solid gray;flex-grow: 1;}#sk-container-id-6 div.sk-label:hover label.sk-toggleable__label {background-color: #d4ebff;}#sk-container-id-6 div.sk-serial::before {content: \"\";position: absolute;border-left: 1px solid gray;box-sizing: border-box;top: 0;bottom: 0;left: 50%;z-index: 0;}#sk-container-id-6 div.sk-serial {display: flex;flex-direction: column;align-items: center;background-color: white;padding-right: 0.2em;padding-left: 0.2em;position: relative;}#sk-container-id-6 div.sk-item {position: relative;z-index: 1;}#sk-container-id-6 div.sk-parallel {display: flex;align-items: stretch;justify-content: center;background-color: white;position: relative;}#sk-container-id-6 div.sk-item::before, #sk-container-id-6 div.sk-parallel-item::before {content: \"\";position: absolute;border-left: 1px solid gray;box-sizing: border-box;top: 0;bottom: 0;left: 50%;z-index: -1;}#sk-container-id-6 div.sk-parallel-item {display: flex;flex-direction: column;z-index: 1;position: relative;background-color: white;}#sk-container-id-6 div.sk-parallel-item:first-child::after {align-self: flex-end;width: 50%;}#sk-container-id-6 div.sk-parallel-item:last-child::after {align-self: flex-start;width: 50%;}#sk-container-id-6 div.sk-parallel-item:only-child::after {width: 0;}#sk-container-id-6 div.sk-dashed-wrapped {border: 1px dashed gray;margin: 0 0.4em 0.5em 0.4em;box-sizing: border-box;padding-bottom: 0.4em;background-color: white;}#sk-container-id-6 div.sk-label label {font-family: monospace;font-weight: bold;display: inline-block;line-height: 1.2em;}#sk-container-id-6 div.sk-label-container {text-align: center;}#sk-container-id-6 div.sk-container {/* jupyter's `normalize.less` sets `[hidden] { display: none; }` but bootstrap.min.css set `[hidden] { display: none !important; }` so we also need the `!important` here to be able to override the default hidden behavior on the sphinx rendered scikit-learn.org. See: https://github.com/scikit-learn/scikit-learn/issues/21755 */display: inline-block !important;position: relative;}#sk-container-id-6 div.sk-text-repr-fallback {display: none;}</style><div id=\"sk-container-id-6\" class=\"sk-top-container\"><div class=\"sk-text-repr-fallback\"><pre>XGBClassifier(base_score=None, booster=None, callbacks=None,\n",
       "              colsample_bylevel=None, colsample_bynode=None,\n",
       "              colsample_bytree=None, device=None, early_stopping_rounds=None,\n",
       "              enable_categorical=False, eval_metric=None, feature_types=None,\n",
       "              gamma=None, grow_policy=None, importance_type=None,\n",
       "              interaction_constraints=None, learning_rate=None, max_bin=None,\n",
       "              max_cat_threshold=None, max_cat_to_onehot=None,\n",
       "              max_delta_step=None, max_depth=None, max_leaves=None,\n",
       "              min_child_weight=None, missing=nan, monotone_constraints=None,\n",
       "              multi_strategy=None, n_estimators=None, n_jobs=None,\n",
       "              num_parallel_tree=None, random_state=None, ...)</pre><b>In a Jupyter environment, please rerun this cell to show the HTML representation or trust the notebook. <br />On GitHub, the HTML representation is unable to render, please try loading this page with nbviewer.org.</b></div><div class=\"sk-container\" hidden><div class=\"sk-item\"><div class=\"sk-estimator sk-toggleable\"><input class=\"sk-toggleable__control sk-hidden--visually\" id=\"sk-estimator-id-6\" type=\"checkbox\" checked><label for=\"sk-estimator-id-6\" class=\"sk-toggleable__label sk-toggleable__label-arrow\">XGBClassifier</label><div class=\"sk-toggleable__content\"><pre>XGBClassifier(base_score=None, booster=None, callbacks=None,\n",
       "              colsample_bylevel=None, colsample_bynode=None,\n",
       "              colsample_bytree=None, device=None, early_stopping_rounds=None,\n",
       "              enable_categorical=False, eval_metric=None, feature_types=None,\n",
       "              gamma=None, grow_policy=None, importance_type=None,\n",
       "              interaction_constraints=None, learning_rate=None, max_bin=None,\n",
       "              max_cat_threshold=None, max_cat_to_onehot=None,\n",
       "              max_delta_step=None, max_depth=None, max_leaves=None,\n",
       "              min_child_weight=None, missing=nan, monotone_constraints=None,\n",
       "              multi_strategy=None, n_estimators=None, n_jobs=None,\n",
       "              num_parallel_tree=None, random_state=None, ...)</pre></div></div></div></div></div>"
      ],
      "text/plain": [
       "XGBClassifier(base_score=None, booster=None, callbacks=None,\n",
       "              colsample_bylevel=None, colsample_bynode=None,\n",
       "              colsample_bytree=None, device=None, early_stopping_rounds=None,\n",
       "              enable_categorical=False, eval_metric=None, feature_types=None,\n",
       "              gamma=None, grow_policy=None, importance_type=None,\n",
       "              interaction_constraints=None, learning_rate=None, max_bin=None,\n",
       "              max_cat_threshold=None, max_cat_to_onehot=None,\n",
       "              max_delta_step=None, max_depth=None, max_leaves=None,\n",
       "              min_child_weight=None, missing=nan, monotone_constraints=None,\n",
       "              multi_strategy=None, n_estimators=None, n_jobs=None,\n",
       "              num_parallel_tree=None, random_state=None, ...)"
      ]
     },
     "execution_count": 91,
     "metadata": {},
     "output_type": "execute_result"
    }
   ],
   "source": [
    "xgb = XGBClassifier()\n",
    "xgb.fit(x_train, y_train)"
   ]
  },
  {
   "cell_type": "code",
   "execution_count": 92,
   "metadata": {},
   "outputs": [],
   "source": [
    "y_pred = xgb.predict(x_test)"
   ]
  },
  {
   "cell_type": "code",
   "execution_count": 93,
   "metadata": {},
   "outputs": [
    {
     "data": {
      "text/plain": [
       "array([0, 0, 0, 0, 0, 0, 0, 0, 1, 0])"
      ]
     },
     "execution_count": 93,
     "metadata": {},
     "output_type": "execute_result"
    }
   ],
   "source": [
    "y_pred[10:20]"
   ]
  },
  {
   "cell_type": "code",
   "execution_count": 94,
   "metadata": {},
   "outputs": [
    {
     "name": "stdout",
     "output_type": "stream",
     "text": [
      "[0, 0, 0, 0, 0, 1, 0, 0, 1, 0] "
     ]
    }
   ],
   "source": [
    "print(list(y_test[10:20]), end = \" \")"
   ]
  },
  {
   "cell_type": "code",
   "execution_count": 95,
   "metadata": {},
   "outputs": [
    {
     "name": "stdout",
     "output_type": "stream",
     "text": [
      "Accuracy Score = 92.90%\n",
      "\n",
      "Confusion Matrix = \n",
      " [[276   4]\n",
      " [ 18  12]]\n"
     ]
    }
   ],
   "source": [
    "accuracy = accuracy_score(y_test, y_pred)\n",
    "print(f\"Accuracy Score = {accuracy * 100:.2f}%\")\n",
    "print()\n",
    "print(\"Confusion Matrix = \\n\",confusion_matrix(y_test, y_pred))"
   ]
  },
  {
   "cell_type": "code",
   "execution_count": 96,
   "metadata": {},
   "outputs": [
    {
     "data": {
      "image/png": "[encoded data removed]",
      "text/plain": [
       "<Figure size 640x480 with 1 Axes>"
      ]
     },
     "metadata": {},
     "output_type": "display_data"
    }
   ],
   "source": [
    "plt.plot(x_test, y_test, \"s\", color = \"red\")\n",
    "plt.plot(x_test, y_pred, \".\", color = \"blue\")\n",
    "plt.title(\"RandomForest Classifier\")\n",
    "plt.ylabel(\"Output & Prediction\")\n",
    "plt.xlabel(\"x_test values\")\n",
    "plt.show()"
   ]
  },
  {
   "cell_type": "markdown",
   "metadata": {},
   "source": [
    "# <span style=\"font-size: 35px; color: maroon; font-weight: bold;\">Cross- Validation technique"
   ]
  },
  {
   "cell_type": "code",
   "execution_count": 97,
   "metadata": {},
   "outputs": [],
   "source": [
    "from sklearn.model_selection import cross_val_score"
   ]
  },
  {
   "cell_type": "markdown",
   "metadata": {},
   "source": [
    "## <span style=\"font-size: 25px; color: skyblue; font-weight: bold;\">RandomForest Classifier"
   ]
  },
  {
   "cell_type": "code",
   "execution_count": 98,
   "metadata": {},
   "outputs": [],
   "source": [
    "cross_val_randomforest = cross_val_score(rdf, X_selected, y, scoring='accuracy', cv = 5) "
   ]
  },
  {
   "cell_type": "code",
   "execution_count": 99,
   "metadata": {},
   "outputs": [
    {
     "data": {
      "text/plain": [
       "array([0.89354839, 0.87741935, 0.88709677, 0.8802589 , 0.8802589 ])"
      ]
     },
     "execution_count": 99,
     "metadata": {},
     "output_type": "execute_result"
    }
   ],
   "source": [
    "cross_val_randomforest"
   ]
  },
  {
   "cell_type": "markdown",
   "metadata": {},
   "source": [
    "## <span style=\"font-size: 25px; color: skyblue; font-weight: bold;\">Decision Tree"
   ]
  },
  {
   "cell_type": "code",
   "execution_count": 100,
   "metadata": {},
   "outputs": [],
   "source": [
    "cross_val_decisiontree = cross_val_score(dct, X_selected, y, scoring='accuracy', cv = 5) "
   ]
  },
  {
   "cell_type": "code",
   "execution_count": 101,
   "metadata": {},
   "outputs": [
    {
     "data": {
      "text/plain": [
       "array([0.84193548, 0.82903226, 0.8516129 , 0.78964401, 0.82847896])"
      ]
     },
     "execution_count": 101,
     "metadata": {},
     "output_type": "execute_result"
    }
   ],
   "source": [
    "cross_val_decisiontree"
   ]
  },
  {
   "cell_type": "markdown",
   "metadata": {},
   "source": [
    "## <span style=\"font-size: 25px; color: skyblue; font-weight: bold;\">Logistic Regression"
   ]
  },
  {
   "cell_type": "code",
   "execution_count": 102,
   "metadata": {},
   "outputs": [],
   "source": [
    "cross_val_log_r = cross_val_score(log_r, X_selected, y, scoring='accuracy', cv = 5) "
   ]
  },
  {
   "cell_type": "code",
   "execution_count": 103,
   "metadata": {},
   "outputs": [
    {
     "data": {
      "text/plain": [
       "array([0.88709677, 0.88709677, 0.88709677, 0.88673139, 0.88673139])"
      ]
     },
     "execution_count": 103,
     "metadata": {},
     "output_type": "execute_result"
    }
   ],
   "source": [
    "cross_val_log_r"
   ]
  },
  {
   "cell_type": "markdown",
   "metadata": {},
   "source": [
    "## <span style=\"font-size: 25px; color: skyblue; font-weight: bold;\">XGBoost"
   ]
  },
  {
   "cell_type": "code",
   "execution_count": 104,
   "metadata": {},
   "outputs": [],
   "source": [
    "cross_val_xgb = cross_val_score(xgb, X_selected, y, scoring='accuracy', cv = 5) "
   ]
  },
  {
   "cell_type": "code",
   "execution_count": 105,
   "metadata": {},
   "outputs": [
    {
     "data": {
      "text/plain": [
       "array([0.88064516, 0.85806452, 0.87419355, 0.85760518, 0.86731392])"
      ]
     },
     "execution_count": 105,
     "metadata": {},
     "output_type": "execute_result"
    }
   ],
   "source": [
    "cross_val_xgb"
   ]
  },
  {
   "cell_type": "markdown",
   "metadata": {},
   "source": [
    "- Accuracy Score = 90.32% logistic\n",
    "- Accuracy Score = 93.55% random forest\n",
    "- Accuracy Score = 88.39% decision tree\n",
    "- Accuracy Score = 90.32% SVM\n",
    "- Accuracy Score = 92.90% XG Boost"
   ]
  },
  {
   "cell_type": "code",
   "execution_count": 106,
   "metadata": {},
   "outputs": [
    {
     "data": {
      "image/png": "[encoded data removed]",
      "text/plain": [
       "<Figure size 1000x600 with 1 Axes>"
      ]
     },
     "metadata": {},
     "output_type": "display_data"
    }
   ],
   "source": [
    "import pandas as pd\n",
    "import matplotlib.pyplot as plt\n",
    "import seaborn as sns\n",
    "\n",
    "# Model accuracy data\n",
    "Model_accuracy = {\n",
    "    \"Decision Tree\": {\"Accuracy_score\": 88.39},\n",
    "    \"Support Vector Machine\": {\"Accuracy_score\": 90.32},\n",
    "    \"Logistic Regression\": {\"Accuracy_score\": 90.32},\n",
    "    \"XGBoost\": {\"Accuracy_score\": 92.90},\n",
    "    \"Random Forest\": {\"Accuracy_score\": 94.55}\n",
    "}\n",
    "\n",
    "# Create DataFrame\n",
    "Model_Accuracy = pd.DataFrame(Model_accuracy)\n",
    "\n",
    "# Transpose DataFrame\n",
    "Model_Accuracy = Model_Accuracy.transpose()\n",
    "\n",
    "# Sort the DataFrame by Accuracy Score\n",
    "Model_Accuracy = Model_Accuracy.sort_values(by='Accuracy_score', ascending=False)\n",
    "\n",
    "# Plotting the bar graph with a colormap\n",
    "plt.figure(figsize=(10, 6))\n",
    "sns.barplot(x='Accuracy_score', y=Model_Accuracy.index, data=Model_Accuracy, palette='viridis')\n",
    "plt.xlabel('Accuracy Score')\n",
    "plt.ylabel('Models')\n",
    "plt.title('Model Accuracy Comparison')\n",
    "\n",
    "# Display the actual accuracy values on each bar\n",
    "for index, value in enumerate(Model_Accuracy['Accuracy_score']):\n",
    "    plt.text(value, index, f'{value:.2f}%', va='center', fontsize=10)\n",
    "\n",
    "plt.xlim(0, 100)  # Set the x-axis limit to ensure accuracy scores are visible\n",
    "plt.grid(axis='x', linestyle='--', alpha=0.7)  # Add dashed gridlines for better readability\n",
    "plt.tight_layout()\n",
    "plt.show()\n"
   ]
  },
  {
   "cell_type": "markdown",
   "metadata": {},
   "source": [
    "# <span style=\"font-size: 35px; color: maroon; font-weight: bold;\">CONCLUSION\n",
    "<span style=\"font-size: 18px; color: orange;\">While building this credit card approval predictor model i tackled some of the pre-processing steps such as scaling, label encoding, and missing value imputation.I finished the Project with some machine learning model to predict if a person’s application for a credit card would get approved or not given some information about that person."
   ]
  },
  {
   "cell_type": "markdown",
   "metadata": {},
   "source": []
  },
  {
   "cell_type": "markdown",
   "metadata": {},
   "source": [
    "# <span style=\"font-size: 35px; color: maroon; font-weight: bold;\">SQL Questions"
   ]
  },
  {
   "cell_type": "markdown",
   "metadata": {},
   "source": [
    "## <span style=\"font-size: 25px; color: skyblue; font-weight: bold;\">1. Group the customers based on their income type and find the average of their annual income."
   ]
  },
  {
   "cell_type": "code",
   "execution_count": 107,
   "metadata": {},
   "outputs": [
    {
     "data": {
      "text/html": [
       "<div>\n",
       "<style scoped>\n",
       "    .dataframe tbody tr th:only-of-type {\n",
       "        vertical-align: middle;\n",
       "    }\n",
       "\n",
       "    .dataframe tbody tr th {\n",
       "        vertical-align: top;\n",
       "    }\n",
       "\n",
       "    .dataframe thead th {\n",
       "        text-align: right;\n",
       "    }\n",
       "</style>\n",
       "<table border=\"1\" class=\"dataframe\">\n",
       "  <thead>\n",
       "    <tr style=\"text-align: right;\">\n",
       "      <th></th>\n",
       "      <th>Income_Type</th>\n",
       "      <th>avg_income</th>\n",
       "    </tr>\n",
       "  </thead>\n",
       "  <tbody>\n",
       "    <tr>\n",
       "      <th>0</th>\n",
       "      <td>Commercial associate</td>\n",
       "      <td>233932.602740</td>\n",
       "    </tr>\n",
       "    <tr>\n",
       "      <th>1</th>\n",
       "      <td>State servant</td>\n",
       "      <td>211422.413793</td>\n",
       "    </tr>\n",
       "    <tr>\n",
       "      <th>2</th>\n",
       "      <td>Working</td>\n",
       "      <td>180905.729323</td>\n",
       "    </tr>\n",
       "    <tr>\n",
       "      <th>3</th>\n",
       "      <td>Pensioner</td>\n",
       "      <td>155131.600372</td>\n",
       "    </tr>\n",
       "  </tbody>\n",
       "</table>\n",
       "</div>"
      ],
      "text/plain": [
       "            Income_Type     avg_income\n",
       "0  Commercial associate  233932.602740\n",
       "1         State servant  211422.413793\n",
       "2               Working  180905.729323\n",
       "3             Pensioner  155131.600372"
      ]
     },
     "execution_count": 107,
     "metadata": {},
     "output_type": "execute_result"
    }
   ],
   "source": [
    "import duckdb\n",
    "conn=duckdb.connect()\n",
    "conn.register('df',Cleaned_data_5_CCB2)\n",
    "conn.execute(\"select income_type,avg(annual_income) as avg_income from df group by income_type order by avg_income desc\").fetchdf()"
   ]
  },
  {
   "cell_type": "markdown",
   "metadata": {},
   "source": [
    "## <span style=\"font-size: 25px; color: skyblue; font-weight: bold;\">2. Find the female owners of cars and property."
   ]
  },
  {
   "cell_type": "code",
   "execution_count": 108,
   "metadata": {},
   "outputs": [
    {
     "data": {
      "text/html": [
       "<div>\n",
       "<style scoped>\n",
       "    .dataframe tbody tr th:only-of-type {\n",
       "        vertical-align: middle;\n",
       "    }\n",
       "\n",
       "    .dataframe tbody tr th {\n",
       "        vertical-align: top;\n",
       "    }\n",
       "\n",
       "    .dataframe thead th {\n",
       "        text-align: right;\n",
       "    }\n",
       "</style>\n",
       "<table border=\"1\" class=\"dataframe\">\n",
       "  <thead>\n",
       "    <tr style=\"text-align: right;\">\n",
       "      <th></th>\n",
       "      <th>Gender</th>\n",
       "      <th>Car_Owner</th>\n",
       "      <th>Property_Owner</th>\n",
       "    </tr>\n",
       "  </thead>\n",
       "  <tbody>\n",
       "    <tr>\n",
       "      <th>0</th>\n",
       "      <td>F</td>\n",
       "      <td>Y</td>\n",
       "      <td>Y</td>\n",
       "    </tr>\n",
       "    <tr>\n",
       "      <th>1</th>\n",
       "      <td>F</td>\n",
       "      <td>Y</td>\n",
       "      <td>Y</td>\n",
       "    </tr>\n",
       "    <tr>\n",
       "      <th>2</th>\n",
       "      <td>F</td>\n",
       "      <td>Y</td>\n",
       "      <td>Y</td>\n",
       "    </tr>\n",
       "    <tr>\n",
       "      <th>3</th>\n",
       "      <td>F</td>\n",
       "      <td>Y</td>\n",
       "      <td>Y</td>\n",
       "    </tr>\n",
       "    <tr>\n",
       "      <th>4</th>\n",
       "      <td>F</td>\n",
       "      <td>Y</td>\n",
       "      <td>Y</td>\n",
       "    </tr>\n",
       "    <tr>\n",
       "      <th>...</th>\n",
       "      <td>...</td>\n",
       "      <td>...</td>\n",
       "      <td>...</td>\n",
       "    </tr>\n",
       "    <tr>\n",
       "      <th>174</th>\n",
       "      <td>F</td>\n",
       "      <td>Y</td>\n",
       "      <td>Y</td>\n",
       "    </tr>\n",
       "    <tr>\n",
       "      <th>175</th>\n",
       "      <td>F</td>\n",
       "      <td>Y</td>\n",
       "      <td>Y</td>\n",
       "    </tr>\n",
       "    <tr>\n",
       "      <th>176</th>\n",
       "      <td>F</td>\n",
       "      <td>Y</td>\n",
       "      <td>Y</td>\n",
       "    </tr>\n",
       "    <tr>\n",
       "      <th>177</th>\n",
       "      <td>F</td>\n",
       "      <td>Y</td>\n",
       "      <td>Y</td>\n",
       "    </tr>\n",
       "    <tr>\n",
       "      <th>178</th>\n",
       "      <td>F</td>\n",
       "      <td>Y</td>\n",
       "      <td>Y</td>\n",
       "    </tr>\n",
       "  </tbody>\n",
       "</table>\n",
       "<p>179 rows × 3 columns</p>\n",
       "</div>"
      ],
      "text/plain": [
       "    Gender Car_Owner Property_Owner\n",
       "0        F         Y              Y\n",
       "1        F         Y              Y\n",
       "2        F         Y              Y\n",
       "3        F         Y              Y\n",
       "4        F         Y              Y\n",
       "..     ...       ...            ...\n",
       "174      F         Y              Y\n",
       "175      F         Y              Y\n",
       "176      F         Y              Y\n",
       "177      F         Y              Y\n",
       "178      F         Y              Y\n",
       "\n",
       "[179 rows x 3 columns]"
      ]
     },
     "execution_count": 108,
     "metadata": {},
     "output_type": "execute_result"
    }
   ],
   "source": [
    "import duckdb\n",
    "conn=duckdb.connect()\n",
    "conn.register('df',Cleaned_data_5_CCB2)\n",
    "conn.execute(\"select Gender,Car_Owner,Property_Owner from df where Gender='F' AND car_owner='Y' AND Property_owner='Y' \").fetchdf()"
   ]
  },
  {
   "cell_type": "markdown",
   "metadata": {},
   "source": [
    "## <span style=\"font-size: 25px; color: skyblue; font-weight: bold;\">3. Find the Male customers who are staying with their family."
   ]
  },
  {
   "cell_type": "code",
   "execution_count": 109,
   "metadata": {},
   "outputs": [
    {
     "data": {
      "text/html": [
       "<div>\n",
       "<style scoped>\n",
       "    .dataframe tbody tr th:only-of-type {\n",
       "        vertical-align: middle;\n",
       "    }\n",
       "\n",
       "    .dataframe tbody tr th {\n",
       "        vertical-align: top;\n",
       "    }\n",
       "\n",
       "    .dataframe thead th {\n",
       "        text-align: right;\n",
       "    }\n",
       "</style>\n",
       "<table border=\"1\" class=\"dataframe\">\n",
       "  <thead>\n",
       "    <tr style=\"text-align: right;\">\n",
       "      <th></th>\n",
       "      <th>Gender</th>\n",
       "      <th>Housing_Type</th>\n",
       "    </tr>\n",
       "  </thead>\n",
       "  <tbody>\n",
       "    <tr>\n",
       "      <th>0</th>\n",
       "      <td>M</td>\n",
       "      <td>House / apartment</td>\n",
       "    </tr>\n",
       "    <tr>\n",
       "      <th>1</th>\n",
       "      <td>M</td>\n",
       "      <td>House / apartment</td>\n",
       "    </tr>\n",
       "    <tr>\n",
       "      <th>2</th>\n",
       "      <td>M</td>\n",
       "      <td>House / apartment</td>\n",
       "    </tr>\n",
       "    <tr>\n",
       "      <th>3</th>\n",
       "      <td>M</td>\n",
       "      <td>With parents</td>\n",
       "    </tr>\n",
       "    <tr>\n",
       "      <th>4</th>\n",
       "      <td>M</td>\n",
       "      <td>House / apartment</td>\n",
       "    </tr>\n",
       "    <tr>\n",
       "      <th>...</th>\n",
       "      <td>...</td>\n",
       "      <td>...</td>\n",
       "    </tr>\n",
       "    <tr>\n",
       "      <th>473</th>\n",
       "      <td>M</td>\n",
       "      <td>With parents</td>\n",
       "    </tr>\n",
       "    <tr>\n",
       "      <th>474</th>\n",
       "      <td>M</td>\n",
       "      <td>With parents</td>\n",
       "    </tr>\n",
       "    <tr>\n",
       "      <th>475</th>\n",
       "      <td>M</td>\n",
       "      <td>With parents</td>\n",
       "    </tr>\n",
       "    <tr>\n",
       "      <th>476</th>\n",
       "      <td>M</td>\n",
       "      <td>With parents</td>\n",
       "    </tr>\n",
       "    <tr>\n",
       "      <th>477</th>\n",
       "      <td>M</td>\n",
       "      <td>With parents</td>\n",
       "    </tr>\n",
       "  </tbody>\n",
       "</table>\n",
       "<p>478 rows × 2 columns</p>\n",
       "</div>"
      ],
      "text/plain": [
       "    Gender       Housing_Type\n",
       "0        M  House / apartment\n",
       "1        M  House / apartment\n",
       "2        M  House / apartment\n",
       "3        M       With parents\n",
       "4        M  House / apartment\n",
       "..     ...                ...\n",
       "473      M       With parents\n",
       "474      M       With parents\n",
       "475      M       With parents\n",
       "476      M       With parents\n",
       "477      M       With parents\n",
       "\n",
       "[478 rows x 2 columns]"
      ]
     },
     "execution_count": 109,
     "metadata": {},
     "output_type": "execute_result"
    }
   ],
   "source": [
    "import duckdb\n",
    "conn=duckdb.connect()\n",
    "conn.register('df',Cleaned_data_5_CCB2)\n",
    "conn.execute(\"select Gender,housing_type from df where gender = 'M' AND (housing_type = 'With parents' or Family_Members>=2)\").fetchdf()"
   ]
  },
  {
   "cell_type": "markdown",
   "metadata": {},
   "source": [
    "## <span style=\"font-size: 25px; color: skyblue; font-weight: bold;\">4. Please list the top five people having the highest income."
   ]
  },
  {
   "cell_type": "code",
   "execution_count": 110,
   "metadata": {},
   "outputs": [
    {
     "data": {
      "text/html": [
       "<div>\n",
       "<style scoped>\n",
       "    .dataframe tbody tr th:only-of-type {\n",
       "        vertical-align: middle;\n",
       "    }\n",
       "\n",
       "    .dataframe tbody tr th {\n",
       "        vertical-align: top;\n",
       "    }\n",
       "\n",
       "    .dataframe thead th {\n",
       "        text-align: right;\n",
       "    }\n",
       "</style>\n",
       "<table border=\"1\" class=\"dataframe\">\n",
       "  <thead>\n",
       "    <tr style=\"text-align: right;\">\n",
       "      <th></th>\n",
       "      <th>Individual_ID</th>\n",
       "      <th>Annual_Income</th>\n",
       "    </tr>\n",
       "  </thead>\n",
       "  <tbody>\n",
       "    <tr>\n",
       "      <th>0</th>\n",
       "      <td>5143231</td>\n",
       "      <td>1575000.0</td>\n",
       "    </tr>\n",
       "    <tr>\n",
       "      <th>1</th>\n",
       "      <td>5143235</td>\n",
       "      <td>1575000.0</td>\n",
       "    </tr>\n",
       "    <tr>\n",
       "      <th>2</th>\n",
       "      <td>5090470</td>\n",
       "      <td>900000.0</td>\n",
       "    </tr>\n",
       "    <tr>\n",
       "      <th>3</th>\n",
       "      <td>5079016</td>\n",
       "      <td>900000.0</td>\n",
       "    </tr>\n",
       "    <tr>\n",
       "      <th>4</th>\n",
       "      <td>5079017</td>\n",
       "      <td>900000.0</td>\n",
       "    </tr>\n",
       "  </tbody>\n",
       "</table>\n",
       "</div>"
      ],
      "text/plain": [
       "   Individual_ID  Annual_Income\n",
       "0        5143231      1575000.0\n",
       "1        5143235      1575000.0\n",
       "2        5090470       900000.0\n",
       "3        5079016       900000.0\n",
       "4        5079017       900000.0"
      ]
     },
     "execution_count": 110,
     "metadata": {},
     "output_type": "execute_result"
    }
   ],
   "source": [
    "import duckdb\n",
    "conn=duckdb.connect()\n",
    "conn.register('df',Cleaned_data_5_CCB2)\n",
    "conn.execute(\"select Individual_ID,annual_income from df order by annual_income desc limit 5\").fetchdf()"
   ]
  },
  {
   "cell_type": "markdown",
   "metadata": {},
   "source": [
    "## <span style=\"font-size: 25px; color: skyblue; font-weight: bold;\">5. How many married poeple are having bad credit?"
   ]
  },
  {
   "cell_type": "code",
   "execution_count": 111,
   "metadata": {},
   "outputs": [
    {
     "data": {
      "text/html": [
       "<div>\n",
       "<style scoped>\n",
       "    .dataframe tbody tr th:only-of-type {\n",
       "        vertical-align: middle;\n",
       "    }\n",
       "\n",
       "    .dataframe tbody tr th {\n",
       "        vertical-align: top;\n",
       "    }\n",
       "\n",
       "    .dataframe thead th {\n",
       "        text-align: right;\n",
       "    }\n",
       "</style>\n",
       "<table border=\"1\" class=\"dataframe\">\n",
       "  <thead>\n",
       "    <tr style=\"text-align: right;\">\n",
       "      <th></th>\n",
       "      <th>Marital_Status</th>\n",
       "    </tr>\n",
       "  </thead>\n",
       "  <tbody>\n",
       "    <tr>\n",
       "      <th>0</th>\n",
       "      <td>Married</td>\n",
       "    </tr>\n",
       "    <tr>\n",
       "      <th>1</th>\n",
       "      <td>Married</td>\n",
       "    </tr>\n",
       "    <tr>\n",
       "      <th>2</th>\n",
       "      <td>Married</td>\n",
       "    </tr>\n",
       "    <tr>\n",
       "      <th>3</th>\n",
       "      <td>Married</td>\n",
       "    </tr>\n",
       "    <tr>\n",
       "      <th>4</th>\n",
       "      <td>Married</td>\n",
       "    </tr>\n",
       "    <tr>\n",
       "      <th>...</th>\n",
       "      <td>...</td>\n",
       "    </tr>\n",
       "    <tr>\n",
       "      <th>170</th>\n",
       "      <td>Married</td>\n",
       "    </tr>\n",
       "    <tr>\n",
       "      <th>171</th>\n",
       "      <td>Married</td>\n",
       "    </tr>\n",
       "    <tr>\n",
       "      <th>172</th>\n",
       "      <td>Married</td>\n",
       "    </tr>\n",
       "    <tr>\n",
       "      <th>173</th>\n",
       "      <td>Married</td>\n",
       "    </tr>\n",
       "    <tr>\n",
       "      <th>174</th>\n",
       "      <td>Married</td>\n",
       "    </tr>\n",
       "  </tbody>\n",
       "</table>\n",
       "<p>175 rows × 1 columns</p>\n",
       "</div>"
      ],
      "text/plain": [
       "    Marital_Status\n",
       "0          Married\n",
       "1          Married\n",
       "2          Married\n",
       "3          Married\n",
       "4          Married\n",
       "..             ...\n",
       "170        Married\n",
       "171        Married\n",
       "172        Married\n",
       "173        Married\n",
       "174        Married\n",
       "\n",
       "[175 rows x 1 columns]"
      ]
     },
     "execution_count": 111,
     "metadata": {},
     "output_type": "execute_result"
    }
   ],
   "source": [
    "import duckdb\n",
    "conn=duckdb.connect()\n",
    "conn.register('df',Cleaned_data_5_CCB2)\n",
    "conn.execute(\"select marital_status from df where Target_Label=1\").fetchdf()"
   ]
  },
  {
   "cell_type": "markdown",
   "metadata": {},
   "source": [
    "<span style=\"font-size: 25px; color: skyblue; font-weight: bold;\">6. What is the highest Education Level and what is the total count."
   ]
  },
  {
   "cell_type": "code",
   "execution_count": 112,
   "metadata": {},
   "outputs": [
    {
     "data": {
      "text/html": [
       "<div>\n",
       "<style scoped>\n",
       "    .dataframe tbody tr th:only-of-type {\n",
       "        vertical-align: middle;\n",
       "    }\n",
       "\n",
       "    .dataframe tbody tr th {\n",
       "        vertical-align: top;\n",
       "    }\n",
       "\n",
       "    .dataframe thead th {\n",
       "        text-align: right;\n",
       "    }\n",
       "</style>\n",
       "<table border=\"1\" class=\"dataframe\">\n",
       "  <thead>\n",
       "    <tr style=\"text-align: right;\">\n",
       "      <th></th>\n",
       "      <th>Education_Level</th>\n",
       "      <th>high_edu</th>\n",
       "    </tr>\n",
       "  </thead>\n",
       "  <tbody>\n",
       "    <tr>\n",
       "      <th>0</th>\n",
       "      <td>Secondary / secondary special</td>\n",
       "      <td>1031</td>\n",
       "    </tr>\n",
       "    <tr>\n",
       "      <th>1</th>\n",
       "      <td>Higher education</td>\n",
       "      <td>426</td>\n",
       "    </tr>\n",
       "    <tr>\n",
       "      <th>2</th>\n",
       "      <td>Incomplete higher</td>\n",
       "      <td>68</td>\n",
       "    </tr>\n",
       "    <tr>\n",
       "      <th>3</th>\n",
       "      <td>Lower secondary</td>\n",
       "      <td>21</td>\n",
       "    </tr>\n",
       "    <tr>\n",
       "      <th>4</th>\n",
       "      <td>Academic degree</td>\n",
       "      <td>2</td>\n",
       "    </tr>\n",
       "  </tbody>\n",
       "</table>\n",
       "</div>"
      ],
      "text/plain": [
       "                 Education_Level  high_edu\n",
       "0  Secondary / secondary special      1031\n",
       "1               Higher education       426\n",
       "2              Incomplete higher        68\n",
       "3                Lower secondary        21\n",
       "4                Academic degree         2"
      ]
     },
     "execution_count": 112,
     "metadata": {},
     "output_type": "execute_result"
    }
   ],
   "source": [
    "import duckdb\n",
    "conn=duckdb.connect()\n",
    "conn.register('df',Cleaned_data_5_CCB2)\n",
    "conn.execute(\"select education_level,count(education_level) as high_edu from df group by education_level order by high_edu desc\").fetchdf()"
   ]
  },
  {
   "cell_type": "markdown",
   "metadata": {},
   "source": [
    "## <span style=\"font-size: 25px; color: skyblue; font-weight: bold;\">7. Between married males and females ,who is having more bad credit?"
   ]
  },
  {
   "cell_type": "code",
   "execution_count": 113,
   "metadata": {},
   "outputs": [
    {
     "data": {
      "text/html": [
       "<div>\n",
       "<style scoped>\n",
       "    .dataframe tbody tr th:only-of-type {\n",
       "        vertical-align: middle;\n",
       "    }\n",
       "\n",
       "    .dataframe tbody tr th {\n",
       "        vertical-align: top;\n",
       "    }\n",
       "\n",
       "    .dataframe thead th {\n",
       "        text-align: right;\n",
       "    }\n",
       "</style>\n",
       "<table border=\"1\" class=\"dataframe\">\n",
       "  <thead>\n",
       "    <tr style=\"text-align: right;\">\n",
       "      <th></th>\n",
       "      <th>Gender</th>\n",
       "      <th>Target_Label</th>\n",
       "      <th>Number_of_bad_credits</th>\n",
       "    </tr>\n",
       "  </thead>\n",
       "  <tbody>\n",
       "    <tr>\n",
       "      <th>0</th>\n",
       "      <td>F</td>\n",
       "      <td>1</td>\n",
       "      <td>100</td>\n",
       "    </tr>\n",
       "  </tbody>\n",
       "</table>\n",
       "</div>"
      ],
      "text/plain": [
       "  Gender  Target_Label  Number_of_bad_credits\n",
       "0      F             1                    100"
      ]
     },
     "execution_count": 113,
     "metadata": {},
     "output_type": "execute_result"
    }
   ],
   "source": [
    "import duckdb\n",
    "conn=duckdb.connect()\n",
    "conn.register('df',Cleaned_data_5_CCB2)\n",
    "conn.execute(\"SELECT Gender, Target_label, COUNT(Target_label) as Number_of_bad_credits FROM df WHERE Target_label = 1 GROUP BY Gender, Target_label ORDER BY Number_of_bad_credits DESC limit 1\").fetchdf()"
   ]
  }
 ],
 "metadata": {
  "kernelspec": {
   "display_name": "Python 3",
   "language": "python",
   "name": "python3"
  },
  "language_info": {
   "codemirror_mode": {
    "name": "ipython",
    "version": 3
   },
   "file_extension": ".py",
   "mimetype": "text/x-python",
   "name": "python",
   "nbconvert_exporter": "python",
   "pygments_lexer": "ipython3",
   "version": "3.11.5"
  }
 },
 "nbformat": 4,
 "nbformat_minor": 2
}
